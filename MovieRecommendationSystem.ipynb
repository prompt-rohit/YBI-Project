{
  "nbformat": 4,
  "nbformat_minor": 0,
  "metadata": {
    "colab": {
      "provenance": [],
      "authorship_tag": "ABX9TyN8f8cNuQN37XwKsFbf7ILK",
      "include_colab_link": true
    },
    "kernelspec": {
      "name": "python3",
      "display_name": "Python 3"
    },
    "language_info": {
      "name": "python"
    }
  },
  "cells": [
    {
      "cell_type": "markdown",
      "metadata": {
        "id": "view-in-github",
        "colab_type": "text"
      },
      "source": [
        "<a href=\"https://colab.research.google.com/github/prompt-rohit/YBI-Project/blob/main/MovieRecommendationSystem.ipynb\" target=\"_parent\"><img src=\"https://colab.research.google.com/assets/colab-badge.svg\" alt=\"Open In Colab\"/></a>"
      ]
    },
    {
      "cell_type": "markdown",
      "source": [
        "# **Movie Recommendation System**\n",
        "\n",
        "A recommender system is designed to predict or filter preferences based on a user’s choices. These systems are widely used in various domains, including movies, music, news, books, research articles, search queries, social tags, and general products. Recommender systems generate a list of recommendations using one of two primary approaches:\n",
        "\n",
        "### **1. Collaborative Filtering**\n",
        "Collaborative filtering builds a model based on the user’s past behavior (e.g., items purchased or searched) as well as the actions and preferences of other users. This model is then used to predict items (or provide ratings for items) that a user might be interested in.\n",
        "\n",
        "### **2. Content-Based Filtering**\n",
        "Content-based filtering uses a series of discrete characteristics of an item to recommend additional items with similar properties. This approach is entirely based on a description of the item and a profile of the user’s preferences. It recommends items based on the user’s past preferences.\n",
        "\n",
        "### **Project Goal**\n",
        "Let’s develop a basic recommendation system using Python and Pandas. The system will suggest items (movies, in this case) that are most similar to a specific item selected by the user. This means it will identify and recommend movies that are most similar to the user’s movie choice."
      ],
      "metadata": {
        "id": "gmL7Z36OTol2"
      }
    },
    {
      "cell_type": "markdown",
      "source": [],
      "metadata": {
        "id": "tMitcZxpUhIA"
      }
    },
    {
      "cell_type": "markdown",
      "source": [
        "## **Import Library**"
      ],
      "metadata": {
        "id": "4nwpfLVNKbqZ"
      }
    },
    {
      "cell_type": "code",
      "source": [
        "import numpy as np"
      ],
      "metadata": {
        "id": "g_St4UiVHerD"
      },
      "execution_count": null,
      "outputs": []
    },
    {
      "cell_type": "code",
      "source": [
        "import pandas as pd"
      ],
      "metadata": {
        "id": "s-SzQOBpHYfi"
      },
      "execution_count": null,
      "outputs": []
    },
    {
      "cell_type": "markdown",
      "source": [
        "## **Import Data**"
      ],
      "metadata": {
        "id": "qI-W53QmKxU0"
      }
    },
    {
      "cell_type": "code",
      "source": [
        "df = pd.read_csv('https://raw.githubusercontent.com/YBI-Foundation/Dataset/refs/heads/main/Movies%20Recommendation.csv')"
      ],
      "metadata": {
        "id": "c3EKUN10K8hR"
      },
      "execution_count": null,
      "outputs": []
    },
    {
      "cell_type": "code",
      "source": [
        "df.head()"
      ],
      "metadata": {
        "colab": {
          "base_uri": "https://localhost:8080/",
          "height": 672
        },
        "id": "9U8cNWUUMAjK",
        "outputId": "eca0e2cb-3f7a-4558-9e49-570dc6877dc5"
      },
      "execution_count": null,
      "outputs": [
        {
          "output_type": "execute_result",
          "data": {
            "text/plain": [
              "   Movie_ID      Movie_Title                       Movie_Genre Movie_Language  \\\n",
              "0         1       Four Rooms                      Crime Comedy             en   \n",
              "1         2        Star Wars  Adventure Action Science Fiction             en   \n",
              "2         3     Finding Nemo                  Animation Family             en   \n",
              "3         4     Forrest Gump              Comedy Drama Romance             en   \n",
              "4         5  American Beauty                             Drama             en   \n",
              "\n",
              "   Movie_Budget  Movie_Popularity Movie_Release_Date  Movie_Revenue  \\\n",
              "0       4000000         22.876230         09-12-1995        4300000   \n",
              "1      11000000        126.393695         25-05-1977      775398007   \n",
              "2      94000000         85.688789         30-05-2003      940335536   \n",
              "3      55000000        138.133331         06-07-1994      677945399   \n",
              "4      15000000         80.878605         15-09-1999      356296601   \n",
              "\n",
              "   Movie_Runtime  Movie_Vote  ...  \\\n",
              "0           98.0         6.5  ...   \n",
              "1          121.0         8.1  ...   \n",
              "2          100.0         7.6  ...   \n",
              "3          142.0         8.2  ...   \n",
              "4          122.0         7.9  ...   \n",
              "\n",
              "                                      Movie_Homepage  \\\n",
              "0                                                NaN   \n",
              "1  http://www.starwars.com/films/star-wars-episod...   \n",
              "2              http://movies.disney.com/finding-nemo   \n",
              "3                                                NaN   \n",
              "4                      http://www.dreamworks.com/ab/   \n",
              "\n",
              "                                      Movie_Keywords  \\\n",
              "0          hotel new year's eve witch bet hotel room   \n",
              "1        android galaxy hermit death star lightsaber   \n",
              "2  father son relationship harbor underwater fish...   \n",
              "3  vietnam veteran hippie mentally disabled runni...   \n",
              "4  male nudity female nudity adultery midlife cri...   \n",
              "\n",
              "                                      Movie_Overview  \\\n",
              "0  It's Ted the Bellhop's first night on the job....   \n",
              "1  Princess Leia is captured and held hostage by ...   \n",
              "2  Nemo, an adventurous young clownfish, is unexp...   \n",
              "3  A man with a low IQ has accomplished great thi...   \n",
              "4  Lester Burnham, a depressed suburban father in...   \n",
              "\n",
              "                              Movie_Production_House  \\\n",
              "0  [{\"name\": \"Miramax Films\", \"id\": 14}, {\"name\":...   \n",
              "1  [{\"name\": \"Lucasfilm\", \"id\": 1}, {\"name\": \"Twe...   \n",
              "2     [{\"name\": \"Pixar Animation Studios\", \"id\": 3}]   \n",
              "3          [{\"name\": \"Paramount Pictures\", \"id\": 4}]   \n",
              "4  [{\"name\": \"DreamWorks SKG\", \"id\": 27}, {\"name\"...   \n",
              "\n",
              "                            Movie_Production_Country  \\\n",
              "0  [{\"iso_3166_1\": \"US\", \"name\": \"United States o...   \n",
              "1  [{\"iso_3166_1\": \"US\", \"name\": \"United States o...   \n",
              "2  [{\"iso_3166_1\": \"US\", \"name\": \"United States o...   \n",
              "3  [{\"iso_3166_1\": \"US\", \"name\": \"United States o...   \n",
              "4  [{\"iso_3166_1\": \"US\", \"name\": \"United States o...   \n",
              "\n",
              "                      Movie_Spoken_Language  \\\n",
              "0  [{\"iso_639_1\": \"en\", \"name\": \"English\"}]   \n",
              "1  [{\"iso_639_1\": \"en\", \"name\": \"English\"}]   \n",
              "2  [{\"iso_639_1\": \"en\", \"name\": \"English\"}]   \n",
              "3  [{\"iso_639_1\": \"en\", \"name\": \"English\"}]   \n",
              "4  [{\"iso_639_1\": \"en\", \"name\": \"English\"}]   \n",
              "\n",
              "                                       Movie_Tagline  \\\n",
              "0  Twelve outrageous guests. Four scandalous requ...   \n",
              "1       A long time ago in a galaxy far, far away...   \n",
              "2  There are 3.7 trillion fish in the ocean, they...   \n",
              "3  The world will never be the same, once you've ...   \n",
              "4                                       Look closer.   \n",
              "\n",
              "                                          Movie_Cast  \\\n",
              "0  Tim Roth Antonio Banderas Jennifer Beals Madon...   \n",
              "1  Mark Hamill Harrison Ford Carrie Fisher Peter ...   \n",
              "2  Albert Brooks Ellen DeGeneres Alexander Gould ...   \n",
              "3  Tom Hanks Robin Wright Gary Sinise Mykelti Wil...   \n",
              "4  Kevin Spacey Annette Bening Thora Birch Wes Be...   \n",
              "\n",
              "                                          Movie_Crew   Movie_Director  \n",
              "0  [{'name': 'Allison Anders', 'gender': 1, 'depa...   Allison Anders  \n",
              "1  [{'name': 'George Lucas', 'gender': 2, 'depart...     George Lucas  \n",
              "2  [{'name': 'Andrew Stanton', 'gender': 2, 'depa...   Andrew Stanton  \n",
              "3  [{'name': 'Alan Silvestri', 'gender': 2, 'depa...  Robert Zemeckis  \n",
              "4  [{'name': 'Thomas Newman', 'gender': 2, 'depar...       Sam Mendes  \n",
              "\n",
              "[5 rows x 21 columns]"
            ],
            "text/html": [
              "\n",
              "  <div id=\"df-15b24000-5685-4986-be46-f3b7067b148a\" class=\"colab-df-container\">\n",
              "    <div>\n",
              "<style scoped>\n",
              "    .dataframe tbody tr th:only-of-type {\n",
              "        vertical-align: middle;\n",
              "    }\n",
              "\n",
              "    .dataframe tbody tr th {\n",
              "        vertical-align: top;\n",
              "    }\n",
              "\n",
              "    .dataframe thead th {\n",
              "        text-align: right;\n",
              "    }\n",
              "</style>\n",
              "<table border=\"1\" class=\"dataframe\">\n",
              "  <thead>\n",
              "    <tr style=\"text-align: right;\">\n",
              "      <th></th>\n",
              "      <th>Movie_ID</th>\n",
              "      <th>Movie_Title</th>\n",
              "      <th>Movie_Genre</th>\n",
              "      <th>Movie_Language</th>\n",
              "      <th>Movie_Budget</th>\n",
              "      <th>Movie_Popularity</th>\n",
              "      <th>Movie_Release_Date</th>\n",
              "      <th>Movie_Revenue</th>\n",
              "      <th>Movie_Runtime</th>\n",
              "      <th>Movie_Vote</th>\n",
              "      <th>...</th>\n",
              "      <th>Movie_Homepage</th>\n",
              "      <th>Movie_Keywords</th>\n",
              "      <th>Movie_Overview</th>\n",
              "      <th>Movie_Production_House</th>\n",
              "      <th>Movie_Production_Country</th>\n",
              "      <th>Movie_Spoken_Language</th>\n",
              "      <th>Movie_Tagline</th>\n",
              "      <th>Movie_Cast</th>\n",
              "      <th>Movie_Crew</th>\n",
              "      <th>Movie_Director</th>\n",
              "    </tr>\n",
              "  </thead>\n",
              "  <tbody>\n",
              "    <tr>\n",
              "      <th>0</th>\n",
              "      <td>1</td>\n",
              "      <td>Four Rooms</td>\n",
              "      <td>Crime Comedy</td>\n",
              "      <td>en</td>\n",
              "      <td>4000000</td>\n",
              "      <td>22.876230</td>\n",
              "      <td>09-12-1995</td>\n",
              "      <td>4300000</td>\n",
              "      <td>98.0</td>\n",
              "      <td>6.5</td>\n",
              "      <td>...</td>\n",
              "      <td>NaN</td>\n",
              "      <td>hotel new year's eve witch bet hotel room</td>\n",
              "      <td>It's Ted the Bellhop's first night on the job....</td>\n",
              "      <td>[{\"name\": \"Miramax Films\", \"id\": 14}, {\"name\":...</td>\n",
              "      <td>[{\"iso_3166_1\": \"US\", \"name\": \"United States o...</td>\n",
              "      <td>[{\"iso_639_1\": \"en\", \"name\": \"English\"}]</td>\n",
              "      <td>Twelve outrageous guests. Four scandalous requ...</td>\n",
              "      <td>Tim Roth Antonio Banderas Jennifer Beals Madon...</td>\n",
              "      <td>[{'name': 'Allison Anders', 'gender': 1, 'depa...</td>\n",
              "      <td>Allison Anders</td>\n",
              "    </tr>\n",
              "    <tr>\n",
              "      <th>1</th>\n",
              "      <td>2</td>\n",
              "      <td>Star Wars</td>\n",
              "      <td>Adventure Action Science Fiction</td>\n",
              "      <td>en</td>\n",
              "      <td>11000000</td>\n",
              "      <td>126.393695</td>\n",
              "      <td>25-05-1977</td>\n",
              "      <td>775398007</td>\n",
              "      <td>121.0</td>\n",
              "      <td>8.1</td>\n",
              "      <td>...</td>\n",
              "      <td>http://www.starwars.com/films/star-wars-episod...</td>\n",
              "      <td>android galaxy hermit death star lightsaber</td>\n",
              "      <td>Princess Leia is captured and held hostage by ...</td>\n",
              "      <td>[{\"name\": \"Lucasfilm\", \"id\": 1}, {\"name\": \"Twe...</td>\n",
              "      <td>[{\"iso_3166_1\": \"US\", \"name\": \"United States o...</td>\n",
              "      <td>[{\"iso_639_1\": \"en\", \"name\": \"English\"}]</td>\n",
              "      <td>A long time ago in a galaxy far, far away...</td>\n",
              "      <td>Mark Hamill Harrison Ford Carrie Fisher Peter ...</td>\n",
              "      <td>[{'name': 'George Lucas', 'gender': 2, 'depart...</td>\n",
              "      <td>George Lucas</td>\n",
              "    </tr>\n",
              "    <tr>\n",
              "      <th>2</th>\n",
              "      <td>3</td>\n",
              "      <td>Finding Nemo</td>\n",
              "      <td>Animation Family</td>\n",
              "      <td>en</td>\n",
              "      <td>94000000</td>\n",
              "      <td>85.688789</td>\n",
              "      <td>30-05-2003</td>\n",
              "      <td>940335536</td>\n",
              "      <td>100.0</td>\n",
              "      <td>7.6</td>\n",
              "      <td>...</td>\n",
              "      <td>http://movies.disney.com/finding-nemo</td>\n",
              "      <td>father son relationship harbor underwater fish...</td>\n",
              "      <td>Nemo, an adventurous young clownfish, is unexp...</td>\n",
              "      <td>[{\"name\": \"Pixar Animation Studios\", \"id\": 3}]</td>\n",
              "      <td>[{\"iso_3166_1\": \"US\", \"name\": \"United States o...</td>\n",
              "      <td>[{\"iso_639_1\": \"en\", \"name\": \"English\"}]</td>\n",
              "      <td>There are 3.7 trillion fish in the ocean, they...</td>\n",
              "      <td>Albert Brooks Ellen DeGeneres Alexander Gould ...</td>\n",
              "      <td>[{'name': 'Andrew Stanton', 'gender': 2, 'depa...</td>\n",
              "      <td>Andrew Stanton</td>\n",
              "    </tr>\n",
              "    <tr>\n",
              "      <th>3</th>\n",
              "      <td>4</td>\n",
              "      <td>Forrest Gump</td>\n",
              "      <td>Comedy Drama Romance</td>\n",
              "      <td>en</td>\n",
              "      <td>55000000</td>\n",
              "      <td>138.133331</td>\n",
              "      <td>06-07-1994</td>\n",
              "      <td>677945399</td>\n",
              "      <td>142.0</td>\n",
              "      <td>8.2</td>\n",
              "      <td>...</td>\n",
              "      <td>NaN</td>\n",
              "      <td>vietnam veteran hippie mentally disabled runni...</td>\n",
              "      <td>A man with a low IQ has accomplished great thi...</td>\n",
              "      <td>[{\"name\": \"Paramount Pictures\", \"id\": 4}]</td>\n",
              "      <td>[{\"iso_3166_1\": \"US\", \"name\": \"United States o...</td>\n",
              "      <td>[{\"iso_639_1\": \"en\", \"name\": \"English\"}]</td>\n",
              "      <td>The world will never be the same, once you've ...</td>\n",
              "      <td>Tom Hanks Robin Wright Gary Sinise Mykelti Wil...</td>\n",
              "      <td>[{'name': 'Alan Silvestri', 'gender': 2, 'depa...</td>\n",
              "      <td>Robert Zemeckis</td>\n",
              "    </tr>\n",
              "    <tr>\n",
              "      <th>4</th>\n",
              "      <td>5</td>\n",
              "      <td>American Beauty</td>\n",
              "      <td>Drama</td>\n",
              "      <td>en</td>\n",
              "      <td>15000000</td>\n",
              "      <td>80.878605</td>\n",
              "      <td>15-09-1999</td>\n",
              "      <td>356296601</td>\n",
              "      <td>122.0</td>\n",
              "      <td>7.9</td>\n",
              "      <td>...</td>\n",
              "      <td>http://www.dreamworks.com/ab/</td>\n",
              "      <td>male nudity female nudity adultery midlife cri...</td>\n",
              "      <td>Lester Burnham, a depressed suburban father in...</td>\n",
              "      <td>[{\"name\": \"DreamWorks SKG\", \"id\": 27}, {\"name\"...</td>\n",
              "      <td>[{\"iso_3166_1\": \"US\", \"name\": \"United States o...</td>\n",
              "      <td>[{\"iso_639_1\": \"en\", \"name\": \"English\"}]</td>\n",
              "      <td>Look closer.</td>\n",
              "      <td>Kevin Spacey Annette Bening Thora Birch Wes Be...</td>\n",
              "      <td>[{'name': 'Thomas Newman', 'gender': 2, 'depar...</td>\n",
              "      <td>Sam Mendes</td>\n",
              "    </tr>\n",
              "  </tbody>\n",
              "</table>\n",
              "<p>5 rows × 21 columns</p>\n",
              "</div>\n",
              "    <div class=\"colab-df-buttons\">\n",
              "\n",
              "  <div class=\"colab-df-container\">\n",
              "    <button class=\"colab-df-convert\" onclick=\"convertToInteractive('df-15b24000-5685-4986-be46-f3b7067b148a')\"\n",
              "            title=\"Convert this dataframe to an interactive table.\"\n",
              "            style=\"display:none;\">\n",
              "\n",
              "  <svg xmlns=\"http://www.w3.org/2000/svg\" height=\"24px\" viewBox=\"0 -960 960 960\">\n",
              "    <path d=\"M120-120v-720h720v720H120Zm60-500h600v-160H180v160Zm220 220h160v-160H400v160Zm0 220h160v-160H400v160ZM180-400h160v-160H180v160Zm440 0h160v-160H620v160ZM180-180h160v-160H180v160Zm440 0h160v-160H620v160Z\"/>\n",
              "  </svg>\n",
              "    </button>\n",
              "\n",
              "  <style>\n",
              "    .colab-df-container {\n",
              "      display:flex;\n",
              "      gap: 12px;\n",
              "    }\n",
              "\n",
              "    .colab-df-convert {\n",
              "      background-color: #E8F0FE;\n",
              "      border: none;\n",
              "      border-radius: 50%;\n",
              "      cursor: pointer;\n",
              "      display: none;\n",
              "      fill: #1967D2;\n",
              "      height: 32px;\n",
              "      padding: 0 0 0 0;\n",
              "      width: 32px;\n",
              "    }\n",
              "\n",
              "    .colab-df-convert:hover {\n",
              "      background-color: #E2EBFA;\n",
              "      box-shadow: 0px 1px 2px rgba(60, 64, 67, 0.3), 0px 1px 3px 1px rgba(60, 64, 67, 0.15);\n",
              "      fill: #174EA6;\n",
              "    }\n",
              "\n",
              "    .colab-df-buttons div {\n",
              "      margin-bottom: 4px;\n",
              "    }\n",
              "\n",
              "    [theme=dark] .colab-df-convert {\n",
              "      background-color: #3B4455;\n",
              "      fill: #D2E3FC;\n",
              "    }\n",
              "\n",
              "    [theme=dark] .colab-df-convert:hover {\n",
              "      background-color: #434B5C;\n",
              "      box-shadow: 0px 1px 3px 1px rgba(0, 0, 0, 0.15);\n",
              "      filter: drop-shadow(0px 1px 2px rgba(0, 0, 0, 0.3));\n",
              "      fill: #FFFFFF;\n",
              "    }\n",
              "  </style>\n",
              "\n",
              "    <script>\n",
              "      const buttonEl =\n",
              "        document.querySelector('#df-15b24000-5685-4986-be46-f3b7067b148a button.colab-df-convert');\n",
              "      buttonEl.style.display =\n",
              "        google.colab.kernel.accessAllowed ? 'block' : 'none';\n",
              "\n",
              "      async function convertToInteractive(key) {\n",
              "        const element = document.querySelector('#df-15b24000-5685-4986-be46-f3b7067b148a');\n",
              "        const dataTable =\n",
              "          await google.colab.kernel.invokeFunction('convertToInteractive',\n",
              "                                                    [key], {});\n",
              "        if (!dataTable) return;\n",
              "\n",
              "        const docLinkHtml = 'Like what you see? Visit the ' +\n",
              "          '<a target=\"_blank\" href=https://colab.research.google.com/notebooks/data_table.ipynb>data table notebook</a>'\n",
              "          + ' to learn more about interactive tables.';\n",
              "        element.innerHTML = '';\n",
              "        dataTable['output_type'] = 'display_data';\n",
              "        await google.colab.output.renderOutput(dataTable, element);\n",
              "        const docLink = document.createElement('div');\n",
              "        docLink.innerHTML = docLinkHtml;\n",
              "        element.appendChild(docLink);\n",
              "      }\n",
              "    </script>\n",
              "  </div>\n",
              "\n",
              "\n",
              "<div id=\"df-e20a0606-a2ae-4ce3-a82a-057a4081b5d1\">\n",
              "  <button class=\"colab-df-quickchart\" onclick=\"quickchart('df-e20a0606-a2ae-4ce3-a82a-057a4081b5d1')\"\n",
              "            title=\"Suggest charts\"\n",
              "            style=\"display:none;\">\n",
              "\n",
              "<svg xmlns=\"http://www.w3.org/2000/svg\" height=\"24px\"viewBox=\"0 0 24 24\"\n",
              "     width=\"24px\">\n",
              "    <g>\n",
              "        <path d=\"M19 3H5c-1.1 0-2 .9-2 2v14c0 1.1.9 2 2 2h14c1.1 0 2-.9 2-2V5c0-1.1-.9-2-2-2zM9 17H7v-7h2v7zm4 0h-2V7h2v10zm4 0h-2v-4h2v4z\"/>\n",
              "    </g>\n",
              "</svg>\n",
              "  </button>\n",
              "\n",
              "<style>\n",
              "  .colab-df-quickchart {\n",
              "      --bg-color: #E8F0FE;\n",
              "      --fill-color: #1967D2;\n",
              "      --hover-bg-color: #E2EBFA;\n",
              "      --hover-fill-color: #174EA6;\n",
              "      --disabled-fill-color: #AAA;\n",
              "      --disabled-bg-color: #DDD;\n",
              "  }\n",
              "\n",
              "  [theme=dark] .colab-df-quickchart {\n",
              "      --bg-color: #3B4455;\n",
              "      --fill-color: #D2E3FC;\n",
              "      --hover-bg-color: #434B5C;\n",
              "      --hover-fill-color: #FFFFFF;\n",
              "      --disabled-bg-color: #3B4455;\n",
              "      --disabled-fill-color: #666;\n",
              "  }\n",
              "\n",
              "  .colab-df-quickchart {\n",
              "    background-color: var(--bg-color);\n",
              "    border: none;\n",
              "    border-radius: 50%;\n",
              "    cursor: pointer;\n",
              "    display: none;\n",
              "    fill: var(--fill-color);\n",
              "    height: 32px;\n",
              "    padding: 0;\n",
              "    width: 32px;\n",
              "  }\n",
              "\n",
              "  .colab-df-quickchart:hover {\n",
              "    background-color: var(--hover-bg-color);\n",
              "    box-shadow: 0 1px 2px rgba(60, 64, 67, 0.3), 0 1px 3px 1px rgba(60, 64, 67, 0.15);\n",
              "    fill: var(--button-hover-fill-color);\n",
              "  }\n",
              "\n",
              "  .colab-df-quickchart-complete:disabled,\n",
              "  .colab-df-quickchart-complete:disabled:hover {\n",
              "    background-color: var(--disabled-bg-color);\n",
              "    fill: var(--disabled-fill-color);\n",
              "    box-shadow: none;\n",
              "  }\n",
              "\n",
              "  .colab-df-spinner {\n",
              "    border: 2px solid var(--fill-color);\n",
              "    border-color: transparent;\n",
              "    border-bottom-color: var(--fill-color);\n",
              "    animation:\n",
              "      spin 1s steps(1) infinite;\n",
              "  }\n",
              "\n",
              "  @keyframes spin {\n",
              "    0% {\n",
              "      border-color: transparent;\n",
              "      border-bottom-color: var(--fill-color);\n",
              "      border-left-color: var(--fill-color);\n",
              "    }\n",
              "    20% {\n",
              "      border-color: transparent;\n",
              "      border-left-color: var(--fill-color);\n",
              "      border-top-color: var(--fill-color);\n",
              "    }\n",
              "    30% {\n",
              "      border-color: transparent;\n",
              "      border-left-color: var(--fill-color);\n",
              "      border-top-color: var(--fill-color);\n",
              "      border-right-color: var(--fill-color);\n",
              "    }\n",
              "    40% {\n",
              "      border-color: transparent;\n",
              "      border-right-color: var(--fill-color);\n",
              "      border-top-color: var(--fill-color);\n",
              "    }\n",
              "    60% {\n",
              "      border-color: transparent;\n",
              "      border-right-color: var(--fill-color);\n",
              "    }\n",
              "    80% {\n",
              "      border-color: transparent;\n",
              "      border-right-color: var(--fill-color);\n",
              "      border-bottom-color: var(--fill-color);\n",
              "    }\n",
              "    90% {\n",
              "      border-color: transparent;\n",
              "      border-bottom-color: var(--fill-color);\n",
              "    }\n",
              "  }\n",
              "</style>\n",
              "\n",
              "  <script>\n",
              "    async function quickchart(key) {\n",
              "      const quickchartButtonEl =\n",
              "        document.querySelector('#' + key + ' button');\n",
              "      quickchartButtonEl.disabled = true;  // To prevent multiple clicks.\n",
              "      quickchartButtonEl.classList.add('colab-df-spinner');\n",
              "      try {\n",
              "        const charts = await google.colab.kernel.invokeFunction(\n",
              "            'suggestCharts', [key], {});\n",
              "      } catch (error) {\n",
              "        console.error('Error during call to suggestCharts:', error);\n",
              "      }\n",
              "      quickchartButtonEl.classList.remove('colab-df-spinner');\n",
              "      quickchartButtonEl.classList.add('colab-df-quickchart-complete');\n",
              "    }\n",
              "    (() => {\n",
              "      let quickchartButtonEl =\n",
              "        document.querySelector('#df-e20a0606-a2ae-4ce3-a82a-057a4081b5d1 button');\n",
              "      quickchartButtonEl.style.display =\n",
              "        google.colab.kernel.accessAllowed ? 'block' : 'none';\n",
              "    })();\n",
              "  </script>\n",
              "</div>\n",
              "\n",
              "    </div>\n",
              "  </div>\n"
            ],
            "application/vnd.google.colaboratory.intrinsic+json": {
              "type": "dataframe",
              "variable_name": "df"
            }
          },
          "metadata": {},
          "execution_count": 9
        }
      ]
    },
    {
      "cell_type": "code",
      "source": [
        "df.info()"
      ],
      "metadata": {
        "colab": {
          "base_uri": "https://localhost:8080/"
        },
        "id": "qvDBrxxZMMLU",
        "outputId": "f73acf76-defd-4dc3-e351-d56e590fc634"
      },
      "execution_count": null,
      "outputs": [
        {
          "output_type": "stream",
          "name": "stdout",
          "text": [
            "<class 'pandas.core.frame.DataFrame'>\n",
            "RangeIndex: 4760 entries, 0 to 4759\n",
            "Data columns (total 21 columns):\n",
            " #   Column                    Non-Null Count  Dtype  \n",
            "---  ------                    --------------  -----  \n",
            " 0   Movie_ID                  4760 non-null   int64  \n",
            " 1   Movie_Title               4760 non-null   object \n",
            " 2   Movie_Genre               4760 non-null   object \n",
            " 3   Movie_Language            4760 non-null   object \n",
            " 4   Movie_Budget              4760 non-null   int64  \n",
            " 5   Movie_Popularity          4760 non-null   float64\n",
            " 6   Movie_Release_Date        4760 non-null   object \n",
            " 7   Movie_Revenue             4760 non-null   int64  \n",
            " 8   Movie_Runtime             4758 non-null   float64\n",
            " 9   Movie_Vote                4760 non-null   float64\n",
            " 10  Movie_Vote_Count          4760 non-null   int64  \n",
            " 11  Movie_Homepage            1699 non-null   object \n",
            " 12  Movie_Keywords            4373 non-null   object \n",
            " 13  Movie_Overview            4757 non-null   object \n",
            " 14  Movie_Production_House    4760 non-null   object \n",
            " 15  Movie_Production_Country  4760 non-null   object \n",
            " 16  Movie_Spoken_Language     4760 non-null   object \n",
            " 17  Movie_Tagline             3942 non-null   object \n",
            " 18  Movie_Cast                4733 non-null   object \n",
            " 19  Movie_Crew                4760 non-null   object \n",
            " 20  Movie_Director            4738 non-null   object \n",
            "dtypes: float64(3), int64(4), object(14)\n",
            "memory usage: 781.1+ KB\n"
          ]
        }
      ]
    },
    {
      "cell_type": "code",
      "source": [
        "df.shape"
      ],
      "metadata": {
        "colab": {
          "base_uri": "https://localhost:8080/"
        },
        "id": "PuDFCT4aMVM5",
        "outputId": "59eed1ea-fb41-44c1-c5b7-393bc10eaad6"
      },
      "execution_count": null,
      "outputs": [
        {
          "output_type": "execute_result",
          "data": {
            "text/plain": [
              "(4760, 21)"
            ]
          },
          "metadata": {},
          "execution_count": 11
        }
      ]
    },
    {
      "cell_type": "code",
      "source": [
        "df.columns"
      ],
      "metadata": {
        "colab": {
          "base_uri": "https://localhost:8080/"
        },
        "id": "OAyNdRKNMcqz",
        "outputId": "c208b16d-1ad3-403e-b25c-abc65c40bc4f"
      },
      "execution_count": null,
      "outputs": [
        {
          "output_type": "execute_result",
          "data": {
            "text/plain": [
              "Index(['Movie_ID', 'Movie_Title', 'Movie_Genre', 'Movie_Language',\n",
              "       'Movie_Budget', 'Movie_Popularity', 'Movie_Release_Date',\n",
              "       'Movie_Revenue', 'Movie_Runtime', 'Movie_Vote', 'Movie_Vote_Count',\n",
              "       'Movie_Homepage', 'Movie_Keywords', 'Movie_Overview',\n",
              "       'Movie_Production_House', 'Movie_Production_Country',\n",
              "       'Movie_Spoken_Language', 'Movie_Tagline', 'Movie_Cast', 'Movie_Crew',\n",
              "       'Movie_Director'],\n",
              "      dtype='object')"
            ]
          },
          "metadata": {},
          "execution_count": 12
        }
      ]
    },
    {
      "cell_type": "markdown",
      "source": [
        "## **Get Feature Selection**"
      ],
      "metadata": {
        "id": "qnTl2b4aMgwy"
      }
    },
    {
      "cell_type": "code",
      "source": [
        "df_features = df[['Movie_Genre','Movie_Keywords','Movie_Tagline','Movie_Cast','Movie_Director']].fillna('')"
      ],
      "metadata": {
        "id": "h4JnqYEeMmya"
      },
      "execution_count": null,
      "outputs": []
    },
    {
      "cell_type": "code",
      "source": [
        "df_features.shape"
      ],
      "metadata": {
        "colab": {
          "base_uri": "https://localhost:8080/"
        },
        "id": "8CfGMa1uM0rj",
        "outputId": "e085aa2d-09da-4104-fcfd-3255a4e81ec8"
      },
      "execution_count": null,
      "outputs": [
        {
          "output_type": "execute_result",
          "data": {
            "text/plain": [
              "(4760, 5)"
            ]
          },
          "metadata": {},
          "execution_count": 14
        }
      ]
    },
    {
      "cell_type": "code",
      "source": [
        "df_features"
      ],
      "metadata": {
        "colab": {
          "base_uri": "https://localhost:8080/",
          "height": 493
        },
        "id": "IwKBqouGM5Hn",
        "outputId": "22933823-64df-4fcd-8e04-19e72bce8ba7"
      },
      "execution_count": null,
      "outputs": [
        {
          "output_type": "execute_result",
          "data": {
            "text/plain": [
              "                           Movie_Genre  \\\n",
              "0                         Crime Comedy   \n",
              "1     Adventure Action Science Fiction   \n",
              "2                     Animation Family   \n",
              "3                 Comedy Drama Romance   \n",
              "4                                Drama   \n",
              "...                                ...   \n",
              "4755                            Horror   \n",
              "4756               Comedy Family Drama   \n",
              "4757                    Thriller Drama   \n",
              "4758                            Family   \n",
              "4759                       Documentary   \n",
              "\n",
              "                                         Movie_Keywords  \\\n",
              "0             hotel new year's eve witch bet hotel room   \n",
              "1           android galaxy hermit death star lightsaber   \n",
              "2     father son relationship harbor underwater fish...   \n",
              "3     vietnam veteran hippie mentally disabled runni...   \n",
              "4     male nudity female nudity adultery midlife cri...   \n",
              "...                                                 ...   \n",
              "4755                                                      \n",
              "4756                                                      \n",
              "4757                     christian film sex trafficking   \n",
              "4758                                                      \n",
              "4759  music actors legendary perfomer classic hollyw...   \n",
              "\n",
              "                                          Movie_Tagline  \\\n",
              "0     Twelve outrageous guests. Four scandalous requ...   \n",
              "1          A long time ago in a galaxy far, far away...   \n",
              "2     There are 3.7 trillion fish in the ocean, they...   \n",
              "3     The world will never be the same, once you've ...   \n",
              "4                                          Look closer.   \n",
              "...                                                 ...   \n",
              "4755                The hot spot where Satan's waitin'.   \n",
              "4756           It’s better to stand out than to fit in.   \n",
              "4757           She never knew it could happen to her...   \n",
              "4758                                                      \n",
              "4759                                                      \n",
              "\n",
              "                                             Movie_Cast     Movie_Director  \n",
              "0     Tim Roth Antonio Banderas Jennifer Beals Madon...     Allison Anders  \n",
              "1     Mark Hamill Harrison Ford Carrie Fisher Peter ...       George Lucas  \n",
              "2     Albert Brooks Ellen DeGeneres Alexander Gould ...     Andrew Stanton  \n",
              "3     Tom Hanks Robin Wright Gary Sinise Mykelti Wil...    Robert Zemeckis  \n",
              "4     Kevin Spacey Annette Bening Thora Birch Wes Be...         Sam Mendes  \n",
              "...                                                 ...                ...  \n",
              "4755  Lisa Hart Carroll Michael Des Barres Paul Drak...         Pece Dingo  \n",
              "4756  Roni Akurati Brighton Sharbino Jason Lee Anjul...       Frank Lotito  \n",
              "4757  Nicole Smolen Kim Baldwin Ariana Stephens Brys...       Jaco Booyens  \n",
              "4758                                                                        \n",
              "4759                                    Tony Oppedisano  Simon Napier-Bell  \n",
              "\n",
              "[4760 rows x 5 columns]"
            ],
            "text/html": [
              "\n",
              "  <div id=\"df-67a3844b-1490-4754-bbc5-abae4f38fcc7\" class=\"colab-df-container\">\n",
              "    <div>\n",
              "<style scoped>\n",
              "    .dataframe tbody tr th:only-of-type {\n",
              "        vertical-align: middle;\n",
              "    }\n",
              "\n",
              "    .dataframe tbody tr th {\n",
              "        vertical-align: top;\n",
              "    }\n",
              "\n",
              "    .dataframe thead th {\n",
              "        text-align: right;\n",
              "    }\n",
              "</style>\n",
              "<table border=\"1\" class=\"dataframe\">\n",
              "  <thead>\n",
              "    <tr style=\"text-align: right;\">\n",
              "      <th></th>\n",
              "      <th>Movie_Genre</th>\n",
              "      <th>Movie_Keywords</th>\n",
              "      <th>Movie_Tagline</th>\n",
              "      <th>Movie_Cast</th>\n",
              "      <th>Movie_Director</th>\n",
              "    </tr>\n",
              "  </thead>\n",
              "  <tbody>\n",
              "    <tr>\n",
              "      <th>0</th>\n",
              "      <td>Crime Comedy</td>\n",
              "      <td>hotel new year's eve witch bet hotel room</td>\n",
              "      <td>Twelve outrageous guests. Four scandalous requ...</td>\n",
              "      <td>Tim Roth Antonio Banderas Jennifer Beals Madon...</td>\n",
              "      <td>Allison Anders</td>\n",
              "    </tr>\n",
              "    <tr>\n",
              "      <th>1</th>\n",
              "      <td>Adventure Action Science Fiction</td>\n",
              "      <td>android galaxy hermit death star lightsaber</td>\n",
              "      <td>A long time ago in a galaxy far, far away...</td>\n",
              "      <td>Mark Hamill Harrison Ford Carrie Fisher Peter ...</td>\n",
              "      <td>George Lucas</td>\n",
              "    </tr>\n",
              "    <tr>\n",
              "      <th>2</th>\n",
              "      <td>Animation Family</td>\n",
              "      <td>father son relationship harbor underwater fish...</td>\n",
              "      <td>There are 3.7 trillion fish in the ocean, they...</td>\n",
              "      <td>Albert Brooks Ellen DeGeneres Alexander Gould ...</td>\n",
              "      <td>Andrew Stanton</td>\n",
              "    </tr>\n",
              "    <tr>\n",
              "      <th>3</th>\n",
              "      <td>Comedy Drama Romance</td>\n",
              "      <td>vietnam veteran hippie mentally disabled runni...</td>\n",
              "      <td>The world will never be the same, once you've ...</td>\n",
              "      <td>Tom Hanks Robin Wright Gary Sinise Mykelti Wil...</td>\n",
              "      <td>Robert Zemeckis</td>\n",
              "    </tr>\n",
              "    <tr>\n",
              "      <th>4</th>\n",
              "      <td>Drama</td>\n",
              "      <td>male nudity female nudity adultery midlife cri...</td>\n",
              "      <td>Look closer.</td>\n",
              "      <td>Kevin Spacey Annette Bening Thora Birch Wes Be...</td>\n",
              "      <td>Sam Mendes</td>\n",
              "    </tr>\n",
              "    <tr>\n",
              "      <th>...</th>\n",
              "      <td>...</td>\n",
              "      <td>...</td>\n",
              "      <td>...</td>\n",
              "      <td>...</td>\n",
              "      <td>...</td>\n",
              "    </tr>\n",
              "    <tr>\n",
              "      <th>4755</th>\n",
              "      <td>Horror</td>\n",
              "      <td></td>\n",
              "      <td>The hot spot where Satan's waitin'.</td>\n",
              "      <td>Lisa Hart Carroll Michael Des Barres Paul Drak...</td>\n",
              "      <td>Pece Dingo</td>\n",
              "    </tr>\n",
              "    <tr>\n",
              "      <th>4756</th>\n",
              "      <td>Comedy Family Drama</td>\n",
              "      <td></td>\n",
              "      <td>It’s better to stand out than to fit in.</td>\n",
              "      <td>Roni Akurati Brighton Sharbino Jason Lee Anjul...</td>\n",
              "      <td>Frank Lotito</td>\n",
              "    </tr>\n",
              "    <tr>\n",
              "      <th>4757</th>\n",
              "      <td>Thriller Drama</td>\n",
              "      <td>christian film sex trafficking</td>\n",
              "      <td>She never knew it could happen to her...</td>\n",
              "      <td>Nicole Smolen Kim Baldwin Ariana Stephens Brys...</td>\n",
              "      <td>Jaco Booyens</td>\n",
              "    </tr>\n",
              "    <tr>\n",
              "      <th>4758</th>\n",
              "      <td>Family</td>\n",
              "      <td></td>\n",
              "      <td></td>\n",
              "      <td></td>\n",
              "      <td></td>\n",
              "    </tr>\n",
              "    <tr>\n",
              "      <th>4759</th>\n",
              "      <td>Documentary</td>\n",
              "      <td>music actors legendary perfomer classic hollyw...</td>\n",
              "      <td></td>\n",
              "      <td>Tony Oppedisano</td>\n",
              "      <td>Simon Napier-Bell</td>\n",
              "    </tr>\n",
              "  </tbody>\n",
              "</table>\n",
              "<p>4760 rows × 5 columns</p>\n",
              "</div>\n",
              "    <div class=\"colab-df-buttons\">\n",
              "\n",
              "  <div class=\"colab-df-container\">\n",
              "    <button class=\"colab-df-convert\" onclick=\"convertToInteractive('df-67a3844b-1490-4754-bbc5-abae4f38fcc7')\"\n",
              "            title=\"Convert this dataframe to an interactive table.\"\n",
              "            style=\"display:none;\">\n",
              "\n",
              "  <svg xmlns=\"http://www.w3.org/2000/svg\" height=\"24px\" viewBox=\"0 -960 960 960\">\n",
              "    <path d=\"M120-120v-720h720v720H120Zm60-500h600v-160H180v160Zm220 220h160v-160H400v160Zm0 220h160v-160H400v160ZM180-400h160v-160H180v160Zm440 0h160v-160H620v160ZM180-180h160v-160H180v160Zm440 0h160v-160H620v160Z\"/>\n",
              "  </svg>\n",
              "    </button>\n",
              "\n",
              "  <style>\n",
              "    .colab-df-container {\n",
              "      display:flex;\n",
              "      gap: 12px;\n",
              "    }\n",
              "\n",
              "    .colab-df-convert {\n",
              "      background-color: #E8F0FE;\n",
              "      border: none;\n",
              "      border-radius: 50%;\n",
              "      cursor: pointer;\n",
              "      display: none;\n",
              "      fill: #1967D2;\n",
              "      height: 32px;\n",
              "      padding: 0 0 0 0;\n",
              "      width: 32px;\n",
              "    }\n",
              "\n",
              "    .colab-df-convert:hover {\n",
              "      background-color: #E2EBFA;\n",
              "      box-shadow: 0px 1px 2px rgba(60, 64, 67, 0.3), 0px 1px 3px 1px rgba(60, 64, 67, 0.15);\n",
              "      fill: #174EA6;\n",
              "    }\n",
              "\n",
              "    .colab-df-buttons div {\n",
              "      margin-bottom: 4px;\n",
              "    }\n",
              "\n",
              "    [theme=dark] .colab-df-convert {\n",
              "      background-color: #3B4455;\n",
              "      fill: #D2E3FC;\n",
              "    }\n",
              "\n",
              "    [theme=dark] .colab-df-convert:hover {\n",
              "      background-color: #434B5C;\n",
              "      box-shadow: 0px 1px 3px 1px rgba(0, 0, 0, 0.15);\n",
              "      filter: drop-shadow(0px 1px 2px rgba(0, 0, 0, 0.3));\n",
              "      fill: #FFFFFF;\n",
              "    }\n",
              "  </style>\n",
              "\n",
              "    <script>\n",
              "      const buttonEl =\n",
              "        document.querySelector('#df-67a3844b-1490-4754-bbc5-abae4f38fcc7 button.colab-df-convert');\n",
              "      buttonEl.style.display =\n",
              "        google.colab.kernel.accessAllowed ? 'block' : 'none';\n",
              "\n",
              "      async function convertToInteractive(key) {\n",
              "        const element = document.querySelector('#df-67a3844b-1490-4754-bbc5-abae4f38fcc7');\n",
              "        const dataTable =\n",
              "          await google.colab.kernel.invokeFunction('convertToInteractive',\n",
              "                                                    [key], {});\n",
              "        if (!dataTable) return;\n",
              "\n",
              "        const docLinkHtml = 'Like what you see? Visit the ' +\n",
              "          '<a target=\"_blank\" href=https://colab.research.google.com/notebooks/data_table.ipynb>data table notebook</a>'\n",
              "          + ' to learn more about interactive tables.';\n",
              "        element.innerHTML = '';\n",
              "        dataTable['output_type'] = 'display_data';\n",
              "        await google.colab.output.renderOutput(dataTable, element);\n",
              "        const docLink = document.createElement('div');\n",
              "        docLink.innerHTML = docLinkHtml;\n",
              "        element.appendChild(docLink);\n",
              "      }\n",
              "    </script>\n",
              "  </div>\n",
              "\n",
              "\n",
              "<div id=\"df-d45b0525-225c-4f1d-ba36-3b74cac65bab\">\n",
              "  <button class=\"colab-df-quickchart\" onclick=\"quickchart('df-d45b0525-225c-4f1d-ba36-3b74cac65bab')\"\n",
              "            title=\"Suggest charts\"\n",
              "            style=\"display:none;\">\n",
              "\n",
              "<svg xmlns=\"http://www.w3.org/2000/svg\" height=\"24px\"viewBox=\"0 0 24 24\"\n",
              "     width=\"24px\">\n",
              "    <g>\n",
              "        <path d=\"M19 3H5c-1.1 0-2 .9-2 2v14c0 1.1.9 2 2 2h14c1.1 0 2-.9 2-2V5c0-1.1-.9-2-2-2zM9 17H7v-7h2v7zm4 0h-2V7h2v10zm4 0h-2v-4h2v4z\"/>\n",
              "    </g>\n",
              "</svg>\n",
              "  </button>\n",
              "\n",
              "<style>\n",
              "  .colab-df-quickchart {\n",
              "      --bg-color: #E8F0FE;\n",
              "      --fill-color: #1967D2;\n",
              "      --hover-bg-color: #E2EBFA;\n",
              "      --hover-fill-color: #174EA6;\n",
              "      --disabled-fill-color: #AAA;\n",
              "      --disabled-bg-color: #DDD;\n",
              "  }\n",
              "\n",
              "  [theme=dark] .colab-df-quickchart {\n",
              "      --bg-color: #3B4455;\n",
              "      --fill-color: #D2E3FC;\n",
              "      --hover-bg-color: #434B5C;\n",
              "      --hover-fill-color: #FFFFFF;\n",
              "      --disabled-bg-color: #3B4455;\n",
              "      --disabled-fill-color: #666;\n",
              "  }\n",
              "\n",
              "  .colab-df-quickchart {\n",
              "    background-color: var(--bg-color);\n",
              "    border: none;\n",
              "    border-radius: 50%;\n",
              "    cursor: pointer;\n",
              "    display: none;\n",
              "    fill: var(--fill-color);\n",
              "    height: 32px;\n",
              "    padding: 0;\n",
              "    width: 32px;\n",
              "  }\n",
              "\n",
              "  .colab-df-quickchart:hover {\n",
              "    background-color: var(--hover-bg-color);\n",
              "    box-shadow: 0 1px 2px rgba(60, 64, 67, 0.3), 0 1px 3px 1px rgba(60, 64, 67, 0.15);\n",
              "    fill: var(--button-hover-fill-color);\n",
              "  }\n",
              "\n",
              "  .colab-df-quickchart-complete:disabled,\n",
              "  .colab-df-quickchart-complete:disabled:hover {\n",
              "    background-color: var(--disabled-bg-color);\n",
              "    fill: var(--disabled-fill-color);\n",
              "    box-shadow: none;\n",
              "  }\n",
              "\n",
              "  .colab-df-spinner {\n",
              "    border: 2px solid var(--fill-color);\n",
              "    border-color: transparent;\n",
              "    border-bottom-color: var(--fill-color);\n",
              "    animation:\n",
              "      spin 1s steps(1) infinite;\n",
              "  }\n",
              "\n",
              "  @keyframes spin {\n",
              "    0% {\n",
              "      border-color: transparent;\n",
              "      border-bottom-color: var(--fill-color);\n",
              "      border-left-color: var(--fill-color);\n",
              "    }\n",
              "    20% {\n",
              "      border-color: transparent;\n",
              "      border-left-color: var(--fill-color);\n",
              "      border-top-color: var(--fill-color);\n",
              "    }\n",
              "    30% {\n",
              "      border-color: transparent;\n",
              "      border-left-color: var(--fill-color);\n",
              "      border-top-color: var(--fill-color);\n",
              "      border-right-color: var(--fill-color);\n",
              "    }\n",
              "    40% {\n",
              "      border-color: transparent;\n",
              "      border-right-color: var(--fill-color);\n",
              "      border-top-color: var(--fill-color);\n",
              "    }\n",
              "    60% {\n",
              "      border-color: transparent;\n",
              "      border-right-color: var(--fill-color);\n",
              "    }\n",
              "    80% {\n",
              "      border-color: transparent;\n",
              "      border-right-color: var(--fill-color);\n",
              "      border-bottom-color: var(--fill-color);\n",
              "    }\n",
              "    90% {\n",
              "      border-color: transparent;\n",
              "      border-bottom-color: var(--fill-color);\n",
              "    }\n",
              "  }\n",
              "</style>\n",
              "\n",
              "  <script>\n",
              "    async function quickchart(key) {\n",
              "      const quickchartButtonEl =\n",
              "        document.querySelector('#' + key + ' button');\n",
              "      quickchartButtonEl.disabled = true;  // To prevent multiple clicks.\n",
              "      quickchartButtonEl.classList.add('colab-df-spinner');\n",
              "      try {\n",
              "        const charts = await google.colab.kernel.invokeFunction(\n",
              "            'suggestCharts', [key], {});\n",
              "      } catch (error) {\n",
              "        console.error('Error during call to suggestCharts:', error);\n",
              "      }\n",
              "      quickchartButtonEl.classList.remove('colab-df-spinner');\n",
              "      quickchartButtonEl.classList.add('colab-df-quickchart-complete');\n",
              "    }\n",
              "    (() => {\n",
              "      let quickchartButtonEl =\n",
              "        document.querySelector('#df-d45b0525-225c-4f1d-ba36-3b74cac65bab button');\n",
              "      quickchartButtonEl.style.display =\n",
              "        google.colab.kernel.accessAllowed ? 'block' : 'none';\n",
              "    })();\n",
              "  </script>\n",
              "</div>\n",
              "\n",
              "  <div id=\"id_39578673-ac25-4d94-999c-ba985d86a792\">\n",
              "    <style>\n",
              "      .colab-df-generate {\n",
              "        background-color: #E8F0FE;\n",
              "        border: none;\n",
              "        border-radius: 50%;\n",
              "        cursor: pointer;\n",
              "        display: none;\n",
              "        fill: #1967D2;\n",
              "        height: 32px;\n",
              "        padding: 0 0 0 0;\n",
              "        width: 32px;\n",
              "      }\n",
              "\n",
              "      .colab-df-generate:hover {\n",
              "        background-color: #E2EBFA;\n",
              "        box-shadow: 0px 1px 2px rgba(60, 64, 67, 0.3), 0px 1px 3px 1px rgba(60, 64, 67, 0.15);\n",
              "        fill: #174EA6;\n",
              "      }\n",
              "\n",
              "      [theme=dark] .colab-df-generate {\n",
              "        background-color: #3B4455;\n",
              "        fill: #D2E3FC;\n",
              "      }\n",
              "\n",
              "      [theme=dark] .colab-df-generate:hover {\n",
              "        background-color: #434B5C;\n",
              "        box-shadow: 0px 1px 3px 1px rgba(0, 0, 0, 0.15);\n",
              "        filter: drop-shadow(0px 1px 2px rgba(0, 0, 0, 0.3));\n",
              "        fill: #FFFFFF;\n",
              "      }\n",
              "    </style>\n",
              "    <button class=\"colab-df-generate\" onclick=\"generateWithVariable('df_features')\"\n",
              "            title=\"Generate code using this dataframe.\"\n",
              "            style=\"display:none;\">\n",
              "\n",
              "  <svg xmlns=\"http://www.w3.org/2000/svg\" height=\"24px\"viewBox=\"0 0 24 24\"\n",
              "       width=\"24px\">\n",
              "    <path d=\"M7,19H8.4L18.45,9,17,7.55,7,17.6ZM5,21V16.75L18.45,3.32a2,2,0,0,1,2.83,0l1.4,1.43a1.91,1.91,0,0,1,.58,1.4,1.91,1.91,0,0,1-.58,1.4L9.25,21ZM18.45,9,17,7.55Zm-12,3A5.31,5.31,0,0,0,4.9,8.1,5.31,5.31,0,0,0,1,6.5,5.31,5.31,0,0,0,4.9,4.9,5.31,5.31,0,0,0,6.5,1,5.31,5.31,0,0,0,8.1,4.9,5.31,5.31,0,0,0,12,6.5,5.46,5.46,0,0,0,6.5,12Z\"/>\n",
              "  </svg>\n",
              "    </button>\n",
              "    <script>\n",
              "      (() => {\n",
              "      const buttonEl =\n",
              "        document.querySelector('#id_39578673-ac25-4d94-999c-ba985d86a792 button.colab-df-generate');\n",
              "      buttonEl.style.display =\n",
              "        google.colab.kernel.accessAllowed ? 'block' : 'none';\n",
              "\n",
              "      buttonEl.onclick = () => {\n",
              "        google.colab.notebook.generateWithVariable('df_features');\n",
              "      }\n",
              "      })();\n",
              "    </script>\n",
              "  </div>\n",
              "\n",
              "    </div>\n",
              "  </div>\n"
            ],
            "application/vnd.google.colaboratory.intrinsic+json": {
              "type": "dataframe",
              "variable_name": "df_features",
              "summary": "{\n  \"name\": \"df_features\",\n  \"rows\": 4760,\n  \"fields\": [\n    {\n      \"column\": \"Movie_Genre\",\n      \"properties\": {\n        \"dtype\": \"category\",\n        \"num_unique_values\": 1164,\n        \"samples\": [\n          \"Family Animation Adventure\",\n          \"Adventure Science Fiction Action\",\n          \"Action Crime Drama Romance Thriller\"\n        ],\n        \"semantic_type\": \"\",\n        \"description\": \"\"\n      }\n    },\n    {\n      \"column\": \"Movie_Keywords\",\n      \"properties\": {\n        \"dtype\": \"string\",\n        \"num_unique_values\": 4203,\n        \"samples\": [\n          \"canada nazis sequel spin off ancient evil\",\n          \"sex professor wedding woman director columbia university\",\n          \"prophecy sea beach gold small town\"\n        ],\n        \"semantic_type\": \"\",\n        \"description\": \"\"\n      }\n    },\n    {\n      \"column\": \"Movie_Tagline\",\n      \"properties\": {\n        \"dtype\": \"string\",\n        \"num_unique_values\": 3928,\n        \"samples\": [\n          \"The messenger must be silenced.\",\n          \"It's not the house that's haunted.\",\n          \"The final hunt begins.\"\n        ],\n        \"semantic_type\": \"\",\n        \"description\": \"\"\n      }\n    },\n    {\n      \"column\": \"Movie_Cast\",\n      \"properties\": {\n        \"dtype\": \"string\",\n        \"num_unique_values\": 4715,\n        \"samples\": [\n          \"Robin Tunney Fairuza Balk Neve Campbell Rachel True Skeet Ulrich\",\n          \"Peter Sellers Christopher Plummer Herbert Lom Catherine Schell Peter Arne\",\n          \"John Wayne Laraine Day Cedric Hardwicke Judith Anderson Anthony Quinn\"\n        ],\n        \"semantic_type\": \"\",\n        \"description\": \"\"\n      }\n    },\n    {\n      \"column\": \"Movie_Director\",\n      \"properties\": {\n        \"dtype\": \"category\",\n        \"num_unique_values\": 2332,\n        \"samples\": [\n          \"Rob McKittrick\",\n          \"Terron R. Parsons\",\n          \"Cyrus Nowrasteh\"\n        ],\n        \"semantic_type\": \"\",\n        \"description\": \"\"\n      }\n    }\n  ]\n}"
            }
          },
          "metadata": {},
          "execution_count": 15
        }
      ]
    },
    {
      "cell_type": "code",
      "source": [
        "X = df_features['Movie_Genre'] + ' ' + df_features['Movie_Keywords'] + ' ' + df_features['Movie_Tagline'] + ' ' + df_features['Movie_Cast'] + ' ' + df_features['Movie_Director']"
      ],
      "metadata": {
        "id": "7BlWHKWjNJXt"
      },
      "execution_count": null,
      "outputs": []
    },
    {
      "cell_type": "code",
      "source": [
        "X"
      ],
      "metadata": {
        "colab": {
          "base_uri": "https://localhost:8080/",
          "height": 458
        },
        "id": "oRlk5s3ANP3v",
        "outputId": "975b008d-727d-4ed4-fdd3-0cc9d80c91d4"
      },
      "execution_count": null,
      "outputs": [
        {
          "output_type": "execute_result",
          "data": {
            "text/plain": [
              "0       Crime Comedy hotel new year's eve witch bet ho...\n",
              "1       Adventure Action Science Fiction android galax...\n",
              "2       Animation Family father son relationship harbo...\n",
              "3       Comedy Drama Romance vietnam veteran hippie me...\n",
              "4       Drama male nudity female nudity adultery midli...\n",
              "                              ...                        \n",
              "4755    Horror  The hot spot where Satan's waitin'. Li...\n",
              "4756    Comedy Family Drama  It’s better to stand out ...\n",
              "4757    Thriller Drama christian film sex trafficking ...\n",
              "4758                                           Family    \n",
              "4759    Documentary music actors legendary perfomer cl...\n",
              "Length: 4760, dtype: object"
            ],
            "text/html": [
              "<div>\n",
              "<style scoped>\n",
              "    .dataframe tbody tr th:only-of-type {\n",
              "        vertical-align: middle;\n",
              "    }\n",
              "\n",
              "    .dataframe tbody tr th {\n",
              "        vertical-align: top;\n",
              "    }\n",
              "\n",
              "    .dataframe thead th {\n",
              "        text-align: right;\n",
              "    }\n",
              "</style>\n",
              "<table border=\"1\" class=\"dataframe\">\n",
              "  <thead>\n",
              "    <tr style=\"text-align: right;\">\n",
              "      <th></th>\n",
              "      <th>0</th>\n",
              "    </tr>\n",
              "  </thead>\n",
              "  <tbody>\n",
              "    <tr>\n",
              "      <th>0</th>\n",
              "      <td>Crime Comedy hotel new year's eve witch bet ho...</td>\n",
              "    </tr>\n",
              "    <tr>\n",
              "      <th>1</th>\n",
              "      <td>Adventure Action Science Fiction android galax...</td>\n",
              "    </tr>\n",
              "    <tr>\n",
              "      <th>2</th>\n",
              "      <td>Animation Family father son relationship harbo...</td>\n",
              "    </tr>\n",
              "    <tr>\n",
              "      <th>3</th>\n",
              "      <td>Comedy Drama Romance vietnam veteran hippie me...</td>\n",
              "    </tr>\n",
              "    <tr>\n",
              "      <th>4</th>\n",
              "      <td>Drama male nudity female nudity adultery midli...</td>\n",
              "    </tr>\n",
              "    <tr>\n",
              "      <th>...</th>\n",
              "      <td>...</td>\n",
              "    </tr>\n",
              "    <tr>\n",
              "      <th>4755</th>\n",
              "      <td>Horror  The hot spot where Satan's waitin'. Li...</td>\n",
              "    </tr>\n",
              "    <tr>\n",
              "      <th>4756</th>\n",
              "      <td>Comedy Family Drama  It’s better to stand out ...</td>\n",
              "    </tr>\n",
              "    <tr>\n",
              "      <th>4757</th>\n",
              "      <td>Thriller Drama christian film sex trafficking ...</td>\n",
              "    </tr>\n",
              "    <tr>\n",
              "      <th>4758</th>\n",
              "      <td>Family</td>\n",
              "    </tr>\n",
              "    <tr>\n",
              "      <th>4759</th>\n",
              "      <td>Documentary music actors legendary perfomer cl...</td>\n",
              "    </tr>\n",
              "  </tbody>\n",
              "</table>\n",
              "<p>4760 rows × 1 columns</p>\n",
              "</div><br><label><b>dtype:</b> object</label>"
            ]
          },
          "metadata": {},
          "execution_count": 17
        }
      ]
    },
    {
      "cell_type": "code",
      "source": [
        "X.shape"
      ],
      "metadata": {
        "colab": {
          "base_uri": "https://localhost:8080/"
        },
        "id": "WYDzXpZsNXvE",
        "outputId": "b6e9a0eb-4935-4587-8e86-032727ed0490"
      },
      "execution_count": null,
      "outputs": [
        {
          "output_type": "execute_result",
          "data": {
            "text/plain": [
              "(4760,)"
            ]
          },
          "metadata": {},
          "execution_count": 18
        }
      ]
    },
    {
      "cell_type": "markdown",
      "source": [
        "## **Get Feature Text Conversion to Tokens**"
      ],
      "metadata": {
        "id": "YS7WKqeONcbi"
      }
    },
    {
      "cell_type": "code",
      "source": [
        "from sklearn.feature_extraction.text import TfidfVectorizer"
      ],
      "metadata": {
        "id": "-w3UZHSuNitJ"
      },
      "execution_count": null,
      "outputs": []
    },
    {
      "cell_type": "code",
      "source": [
        "ifidf = TfidfVectorizer()"
      ],
      "metadata": {
        "id": "_6FDH7tKNp9N"
      },
      "execution_count": null,
      "outputs": []
    },
    {
      "cell_type": "code",
      "source": [
        "X = ifidf.fit_transform(X)"
      ],
      "metadata": {
        "id": "uZRnlgvXNw7Q"
      },
      "execution_count": null,
      "outputs": []
    },
    {
      "cell_type": "code",
      "source": [
        "X.shape"
      ],
      "metadata": {
        "colab": {
          "base_uri": "https://localhost:8080/"
        },
        "id": "gN1-VxXtOMBq",
        "outputId": "4a16f9c4-f851-4637-a6ec-156116b6cf7e"
      },
      "execution_count": null,
      "outputs": [
        {
          "output_type": "execute_result",
          "data": {
            "text/plain": [
              "(4760, 17258)"
            ]
          },
          "metadata": {},
          "execution_count": 23
        }
      ]
    },
    {
      "cell_type": "code",
      "source": [
        "print(X)"
      ],
      "metadata": {
        "colab": {
          "base_uri": "https://localhost:8080/"
        },
        "id": "zaENv0lpORwT",
        "outputId": "eda386aa-9d69-462a-cb72-ba0229c08732"
      },
      "execution_count": null,
      "outputs": [
        {
          "output_type": "stream",
          "name": "stdout",
          "text": [
            "  (0, 3583)\t0.06486754376295062\n",
            "  (0, 3240)\t0.04527089872278055\n",
            "  (0, 7213)\t0.25146675849405775\n",
            "  (0, 10898)\t0.17625708810661284\n",
            "  (0, 17052)\t0.26079573581490934\n",
            "  (0, 5059)\t0.29553419178998613\n",
            "  (0, 16862)\t0.12768803549311025\n",
            "  (0, 1595)\t0.15687561633854538\n",
            "  (0, 13052)\t0.1465525095337543\n",
            "  (0, 15708)\t0.17654247479915475\n",
            "  (0, 11362)\t0.18801785343006192\n",
            "  (0, 6463)\t0.18801785343006192\n",
            "  (0, 5662)\t0.1465525095337543\n",
            "  (0, 13467)\t0.19712637387361423\n",
            "  (0, 12731)\t0.19712637387361423\n",
            "  (0, 614)\t0.07642616241686973\n",
            "  (0, 11244)\t0.08262965296941757\n",
            "  (0, 9206)\t0.15186283580984414\n",
            "  (0, 1495)\t0.19712637387361423\n",
            "  (0, 7454)\t0.14745635785412262\n",
            "  (0, 7071)\t0.19822417598406614\n",
            "  (0, 5499)\t0.11454057510303811\n",
            "  (0, 3878)\t0.11998399582562203\n",
            "  (0, 11242)\t0.07277788238484746\n",
            "  (0, 15219)\t0.09800472886453934\n",
            "  :\t:\n",
            "  (4757, 3485)\t0.199161573117024\n",
            "  (4757, 1184)\t0.18890726729447022\n",
            "  (4757, 14568)\t0.24255077606762876\n",
            "  (4757, 15508)\t0.24255077606762876\n",
            "  (4757, 5802)\t0.24255077606762876\n",
            "  (4757, 819)\t0.27474840155297187\n",
            "  (4757, 14195)\t0.28805858134028367\n",
            "  (4757, 2227)\t0.28805858134028367\n",
            "  (4757, 7691)\t0.28805858134028367\n",
            "  (4757, 1932)\t0.28805858134028367\n",
            "  (4758, 5238)\t1.0\n",
            "  (4759, 10666)\t0.15888268987343043\n",
            "  (4759, 1490)\t0.21197258705292082\n",
            "  (4759, 15431)\t0.19628653185946862\n",
            "  (4759, 5690)\t0.19534291014627303\n",
            "  (4759, 14051)\t0.20084315377640435\n",
            "  (4759, 4358)\t0.18306542312175342\n",
            "  (4759, 10761)\t0.3126617295732147\n",
            "  (4759, 7130)\t0.26419662449963793\n",
            "  (4759, 3058)\t0.2812896191863103\n",
            "  (4759, 14062)\t0.3237911628497312\n",
            "  (4759, 8902)\t0.3040290704566037\n",
            "  (4759, 205)\t0.3237911628497312\n",
            "  (4759, 11708)\t0.33947721804318337\n",
            "  (4759, 11264)\t0.33947721804318337\n"
          ]
        }
      ]
    },
    {
      "cell_type": "markdown",
      "source": [
        "## **Get Similarity Score using Cosine Similarity**"
      ],
      "metadata": {
        "id": "gKhI1xSpOgtV"
      }
    },
    {
      "cell_type": "code",
      "source": [
        "from sklearn.metrics.pairwise import cosine_similarity"
      ],
      "metadata": {
        "id": "49df9ajjOqmh"
      },
      "execution_count": null,
      "outputs": []
    },
    {
      "cell_type": "code",
      "source": [
        "similarity_score = cosine_similarity(X)"
      ],
      "metadata": {
        "id": "_2ylNTUUOwDm"
      },
      "execution_count": null,
      "outputs": []
    },
    {
      "cell_type": "code",
      "source": [
        "similarity_score"
      ],
      "metadata": {
        "colab": {
          "base_uri": "https://localhost:8080/"
        },
        "id": "M3F-_jnxO2Xs",
        "outputId": "c9ea19e8-f748-408c-8232-1d2f3f3e9ba6"
      },
      "execution_count": null,
      "outputs": [
        {
          "output_type": "execute_result",
          "data": {
            "text/plain": [
              "array([[1.        , 0.01351235, 0.03570468, ..., 0.        , 0.        ,\n",
              "        0.        ],\n",
              "       [0.01351235, 1.        , 0.00806674, ..., 0.        , 0.        ,\n",
              "        0.        ],\n",
              "       [0.03570468, 0.00806674, 1.        , ..., 0.        , 0.08014876,\n",
              "        0.        ],\n",
              "       ...,\n",
              "       [0.        , 0.        , 0.        , ..., 1.        , 0.        ,\n",
              "        0.        ],\n",
              "       [0.        , 0.        , 0.08014876, ..., 0.        , 1.        ,\n",
              "        0.        ],\n",
              "       [0.        , 0.        , 0.        , ..., 0.        , 0.        ,\n",
              "        1.        ]])"
            ]
          },
          "metadata": {},
          "execution_count": 27
        }
      ]
    },
    {
      "cell_type": "markdown",
      "source": [
        "## **Get Movie Name as Input From User and Validate for Closest Spelling**"
      ],
      "metadata": {
        "id": "F2FGpWGBQz9j"
      }
    },
    {
      "cell_type": "code",
      "source": [
        "Favourite_Movie_Name = input('Enter your favourite movie name: ')"
      ],
      "metadata": {
        "colab": {
          "base_uri": "https://localhost:8080/"
        },
        "id": "dWwR_ObuRDYc",
        "outputId": "82eca414-0d2e-46fa-93c8-9c3d369f0ba4"
      },
      "execution_count": null,
      "outputs": [
        {
          "name": "stdout",
          "output_type": "stream",
          "text": [
            "Enter your favourite movie name: Four Rooms\n"
          ]
        }
      ]
    },
    {
      "cell_type": "code",
      "source": [
        "All_Movies_Title_List = df['Movie_Title'].tolist()"
      ],
      "metadata": {
        "id": "PY8PHV5aR88I"
      },
      "execution_count": null,
      "outputs": []
    },
    {
      "cell_type": "code",
      "source": [
        "import difflib"
      ],
      "metadata": {
        "id": "go8qY3HWSOdU"
      },
      "execution_count": null,
      "outputs": []
    },
    {
      "cell_type": "code",
      "source": [
        "Movie_Recommendation = difflib.get_close_matches(Favourite_Movie_Name, All_Movies_Title_List)\n",
        "print(Movie_Recommendation)"
      ],
      "metadata": {
        "colab": {
          "base_uri": "https://localhost:8080/"
        },
        "id": "RlLMslngSSGr",
        "outputId": "ef5db092-0403-4d67-f3d7-36369aaa9d57"
      },
      "execution_count": null,
      "outputs": [
        {
          "output_type": "stream",
          "name": "stdout",
          "text": [
            "['Four Rooms', 'Four Lions', 'Boiler Room']\n"
          ]
        }
      ]
    },
    {
      "cell_type": "code",
      "source": [
        "Close_Match = Movie_Recommendation[0]\n",
        "print(Close_Match)"
      ],
      "metadata": {
        "colab": {
          "base_uri": "https://localhost:8080/"
        },
        "id": "Vj6dHL_CSdIJ",
        "outputId": "d0a96ecc-e50d-4012-98dd-d35b6b61c540"
      },
      "execution_count": null,
      "outputs": [
        {
          "output_type": "stream",
          "name": "stdout",
          "text": [
            "Four Rooms\n"
          ]
        }
      ]
    },
    {
      "cell_type": "code",
      "source": [
        "Index_of_Close_Match_Movie = df[df.Movie_Title == Close_Match]['Movie_ID'].values[0]\n",
        "print(Index_of_Close_Match_Movie)"
      ],
      "metadata": {
        "colab": {
          "base_uri": "https://localhost:8080/"
        },
        "id": "biVQEPZqSugu",
        "outputId": "caf35b87-ed34-4c93-c7c8-83b1a0b1133e"
      },
      "execution_count": null,
      "outputs": [
        {
          "output_type": "stream",
          "name": "stdout",
          "text": [
            "1\n"
          ]
        }
      ]
    },
    {
      "cell_type": "code",
      "source": [
        "Recommendation_Score = list(enumerate(similarity_score[Index_of_Close_Match_Movie]))\n",
        "print(Recommendation_Score)"
      ],
      "metadata": {
        "colab": {
          "base_uri": "https://localhost:8080/"
        },
        "id": "nBl-c22vS53F",
        "outputId": "d29d04ab-98fb-4c96-bc55-a64c4d738b35"
      },
      "execution_count": null,
      "outputs": [
        {
          "output_type": "stream",
          "name": "stdout",
          "text": [
            "[(0, 0.013512350503111599), (1, 1.0000000000000002), (2, 0.00806674385442584), (3, 0.0), (4, 0.0), (5, 0.014798802030248788), (6, 0.03178899800803083), (7, 0.012742928052710541), (8, 0.02114621813017135), (9, 0.010926115280892903), (10, 0.005426822818442424), (11, 0.044249159152597625), (12, 0.027611271684178405), (13, 0.0), (14, 0.0), (15, 0.031191842182459906), (16, 0.016229143054786174), (17, 0.012541987412100958), (18, 0.0), (19, 0.03007149396258626), (20, 0.0), (21, 0.0), (22, 0.017613273267175926), (23, 0.0), (24, 0.012717274689658453), (25, 0.0), (26, 0.0), (27, 0.02540149991856383), (28, 0.01801041230209313), (29, 0.0), (30, 0.049315355123976654), (31, 0.10409517262879507), (32, 0.01035390394832365), (33, 0.02839135367608064), (34, 0.0), (35, 0.08742546957845639), (36, 0.06791734480694782), (37, 0.07709332666079831), (38, 0.005819600682671032), (39, 0.02966698794890848), (40, 0.005712381468276702), (41, 0.013137730424575429), (42, 0.0), (43, 0.022172374911757498), (44, 0.004239033909104876), (45, 0.023208009598505542), (46, 0.02746116474293213), (47, 0.0), (48, 0.005611031053655781), (49, 0.0), (50, 0.0), (51, 0.0), (52, 0.0), (53, 0.006362577784296498), (54, 0.02697469511635215), (55, 0.027754212244279333), (56, 0.02704361947110613), (57, 0.005537629304700975), (58, 0.005630010350142351), (59, 0.03036091097973855), (60, 0.0), (61, 0.0807756373022934), (62, 0.0), (63, 0.00939668188462073), (64, 0.014857006500073006), (65, 0.04842192465359449), (66, 0.0), (67, 0.04280704472709425), (68, 0.005400721905399172), (69, 0.051833535547741234), (70, 0.029599955967523548), (71, 0.0), (72, 0.017128563913213716), (73, 0.021170565646095214), (74, 0.018865925138711083), (75, 0.05741627236122422), (76, 0.038339193953551266), (77, 0.013369274284471051), (78, 0.04532568822759643), (79, 0.03908598626594616), (80, 0.04325444546338641), (81, 0.0), (82, 0.0), (83, 0.0), (84, 0.02235454062898099), (85, 0.016990471075629253), (86, 0.008085178378629808), (87, 0.025335592544547564), (88, 0.011954254273697045), (89, 0.0), (90, 0.04793236562981211), (91, 0.09408007643069731), (92, 0.012754982368698393), (93, 0.02829857617228689), (94, 0.027132532468427034), (95, 0.030392490748873017), (96, 0.01740224356655216), (97, 0.01549907877454736), (98, 0.014447886148504679), (99, 0.0), (100, 0.0), (101, 0.0824052316641063), (102, 0.035214448664750306), (103, 0.0), (104, 0.017772892820888665), (105, 0.014633407383515444), (106, 0.01990365619196378), (107, 0.020030916611917256), (108, 0.011983838586383678), (109, 0.025777787344413085), (110, 0.018050358518529333), (111, 0.024018907365189166), (112, 0.024892578730839107), (113, 0.007730946890091348), (114, 0.0), (115, 0.04152565312038163), (116, 0.0), (117, 0.014531287844931313), (118, 0.012114596467736037), (119, 0.026059489235441324), (120, 0.0), (121, 0.008640575200487985), (122, 0.013351271858415047), (123, 0.00557144592489913), (124, 0.0), (125, 0.005829805318493613), (126, 0.015170022190436736), (127, 0.0), (128, 0.025328286826449435), (129, 0.0), (130, 0.01681437831126601), (131, 0.0), (132, 0.008334902621086668), (133, 0.0), (134, 0.0), (135, 0.022811596942385937), (136, 0.017980965920236142), (137, 0.018183363906022414), (138, 0.0), (139, 0.0057135255584554985), (140, 0.0), (141, 0.010326229094177164), (142, 0.016109813198727733), (143, 0.015204128569765957), (144, 0.004839357802227716), (145, 0.0), (146, 0.015915660164447665), (147, 0.0), (148, 0.022290714835376865), (149, 0.0), (150, 0.03971302481482229), (151, 0.030520690593544186), (152, 0.05417960690471102), (153, 0.05343743156493439), (154, 0.0), (155, 0.007015377143378129), (156, 0.007637199563605071), (157, 0.0), (158, 0.017465917653145695), (159, 0.00398554556727727), (160, 0.06359160102915365), (161, 0.0), (162, 0.005593142339955404), (163, 0.0), (164, 0.0), (165, 0.010206569888795022), (166, 0.0), (167, 0.04670316760647067), (168, 0.007388737528587363), (169, 0.0), (170, 0.00461398779738674), (171, 0.028045825419986074), (172, 0.00943109559005515), (173, 0.0), (174, 0.014574147968186181), (175, 0.0), (176, 0.0), (177, 0.0), (178, 0.009889790246906217), (179, 0.0064539715169274385), (180, 0.005441721534449925), (181, 0.022602305365600144), (182, 0.006768023690419081), (183, 0.0), (184, 0.0), (185, 0.006347871237861274), (186, 0.0), (187, 0.015559601203676115), (188, 0.0), (189, 0.030595806181100305), (190, 0.0), (191, 0.028758628902713135), (192, 0.0), (193, 0.0), (194, 0.029318249331593917), (195, 0.0), (196, 0.0), (197, 0.0), (198, 0.0), (199, 0.017754291879863465), (200, 0.014206919773084805), (201, 0.012318460002269433), (202, 0.00616886479697673), (203, 0.017790907119383415), (204, 0.0), (205, 0.0), (206, 0.0), (207, 0.0), (208, 0.04223557834382287), (209, 0.0), (210, 0.005488297984479732), (211, 0.0), (212, 0.03419736638978953), (213, 0.0), (214, 0.0), (215, 0.0), (216, 0.0), (217, 0.004963460103389385), (218, 0.01471295094624722), (219, 0.02184413649097312), (220, 0.024137709468881982), (221, 0.0), (222, 0.0), (223, 0.013956663763531243), (224, 0.0), (225, 0.010812147093566144), (226, 0.0), (227, 0.0), (228, 0.007120098439794334), (229, 0.0), (230, 0.004959201801565787), (231, 0.022239397842472156), (232, 0.01271214777886261), (233, 0.005025993117064434), (234, 0.02542848944843617), (235, 0.019011659388357766), (236, 0.02714919607195725), (237, 0.03913765869289207), (238, 0.0), (239, 0.01709395271473794), (240, 0.00870184843494475), (241, 0.04292390418546763), (242, 0.0058134246291846586), (243, 0.0), (244, 0.004981706395575845), (245, 0.0), (246, 0.0), (247, 0.013277889236154616), (248, 0.0), (249, 0.0443156805544103), (250, 0.0), (251, 0.07804519606050524), (252, 0.021660375857810603), (253, 0.0), (254, 0.0), (255, 0.03524714220412399), (256, 0.0), (257, 0.03423235652416832), (258, 0.029747309322078957), (259, 0.05537335163190965), (260, 0.059192215014623614), (261, 0.06021053180581618), (262, 0.0), (263, 0.02795987164749719), (264, 0.02958638042932131), (265, 0.019517194425630286), (266, 0.011151888187537182), (267, 0.0), (268, 0.0), (269, 0.020503476834225123), (270, 0.0), (271, 0.011107640410413292), (272, 0.0), (273, 0.0), (274, 0.0), (275, 0.0), (276, 0.0), (277, 0.005902149329938324), (278, 0.0), (279, 0.095280340869254), (280, 0.0), (281, 0.0), (282, 0.017399239004727635), (283, 0.045078205040103056), (284, 0.02868436461392649), (285, 0.023769538063401832), (286, 0.005761824392098212), (287, 0.0), (288, 0.010026842947494912), (289, 0.00947617908193493), (290, 0.00963458770485829), (291, 0.0), (292, 0.011455192419138279), (293, 0.0), (294, 0.009400877394096396), (295, 0.19502223542404779), (296, 0.003816624063683471), (297, 0.0071035892406054535), (298, 0.016834683761671482), (299, 0.0067133988774449715), (300, 0.024947326164519786), (301, 0.007102651996738634), (302, 0.0), (303, 0.08336093343854395), (304, 0.0), (305, 0.011795395683520313), (306, 0.01087832316073424), (307, 0.01663896022766368), (308, 0.02177350976650411), (309, 0.007477522573696539), (310, 0.011343808840086553), (311, 0.008824141314293424), (312, 0.0), (313, 0.0), (314, 0.02476736331858547), (315, 0.011843167231528002), (316, 0.026553256460040767), (317, 0.008231983334692886), (318, 0.0), (319, 0.0508816010583705), (320, 0.012377768461801716), (321, 0.01145982226078758), (322, 0.011626360898243045), (323, 0.010561293966839701), (324, 0.008665009685594053), (325, 0.0), (326, 0.0), (327, 0.0190249175556576), (328, 0.004945784128806479), (329, 0.0), (330, 0.010195039162268603), (331, 0.0), (332, 0.0038129985369237695), (333, 0.02867019926376977), (334, 0.020474372835901727), (335, 0.0), (336, 0.004815540132146866), (337, 0.008532785442224846), (338, 0.008577262333995502), (339, 0.02539765882256039), (340, 0.007214284938862995), (341, 0.0), (342, 0.010241388431943629), (343, 0.03659052393570358), (344, 0.0), (345, 0.015619241178064448), (346, 0.0), (347, 0.017798925549767943), (348, 0.0), (349, 0.0), (350, 0.005543863713179266), (351, 0.0071726006184044), (352, 0.008544644825358801), (353, 0.005171946352900596), (354, 0.0), (355, 0.03529221356425803), (356, 0.017934946487097102), (357, 0.01453511444516419), (358, 0.014350181244245218), (359, 0.0), (360, 0.0), (361, 0.007127533562831238), (362, 0.03639013384915393), (363, 0.00733707827940382), (364, 0.021037338615210985), (365, 0.007456362237446449), (366, 0.012032709202846143), (367, 0.05257798940685535), (368, 0.02935231148640511), (369, 0.013575991081006027), (370, 0.0), (371, 0.03535132529839603), (372, 0.0), (373, 0.008909801252580576), (374, 0.07552833160070821), (375, 0.02256363205339671), (376, 0.02822624434887258), (377, 0.05670827430603263), (378, 0.01781483300738998), (379, 0.027209440322459314), (380, 0.020378483921539174), (381, 0.03726490641527798), (382, 0.08066423249568166), (383, 0.013150107171189755), (384, 0.0), (385, 0.0), (386, 0.005302591072767089), (387, 0.0), (388, 0.0), (389, 0.017660045864465738), (390, 0.02843695132920567), (391, 0.0), (392, 0.0), (393, 0.0), (394, 0.019511620836255517), (395, 0.0), (396, 0.009034315559494794), (397, 0.04171513548783609), (398, 0.0), (399, 0.0), (400, 0.01929259282718928), (401, 0.03671383667827681), (402, 0.0), (403, 0.007968441199748181), (404, 0.009123483516781413), (405, 0.036253640620201324), (406, 0.0), (407, 0.06142285796429693), (408, 0.0), (409, 0.006181770080751873), (410, 0.0), (411, 0.004674124727678744), (412, 0.0), (413, 0.018942010973231657), (414, 0.0), (415, 0.0), (416, 0.02970542172135634), (417, 0.010967037650821618), (418, 0.017875213731346557), (419, 0.11039801277237343), (420, 0.0), (421, 0.030038907300918422), (422, 0.01839725352735978), (423, 0.0), (424, 0.013405899935919442), (425, 0.013394268826709018), (426, 0.011043410394627943), (427, 0.0526441683586612), (428, 0.006062066778483927), (429, 0.017652715368674944), (430, 0.029211685167890338), (431, 0.0), (432, 0.015024854811552586), (433, 0.02220065034868744), (434, 0.013958879121892798), (435, 0.004129262387342898), (436, 0.01798890086286205), (437, 0.0), (438, 0.014501657785581382), (439, 0.01763446568356854), (440, 0.026113427889458824), (441, 0.0), (442, 0.004222457085858701), (443, 0.022521264686299957), (444, 0.0), (445, 0.0), (446, 0.0), (447, 0.06746548192745536), (448, 0.01085140356188824), (449, 0.0), (450, 0.01619038061093105), (451, 0.0408176325744765), (452, 0.02355777026118958), (453, 0.01356432581784244), (454, 0.0), (455, 0.006671171017252714), (456, 0.0), (457, 0.006162619763628866), (458, 0.005682097913323985), (459, 0.0), (460, 0.017656407719638445), (461, 0.007951394756450274), (462, 0.0), (463, 0.025926993185635988), (464, 0.0), (465, 0.008582933810037585), (466, 0.0), (467, 0.028242525823021024), (468, 0.027575316019498915), (469, 0.035870905875605874), (470, 0.005370843377699781), (471, 0.0), (472, 0.061773319028259055), (473, 0.0), (474, 0.018557703798946827), (475, 0.0), (476, 0.0), (477, 0.014773992504695221), (478, 0.01669877658407754), (479, 0.0194483763826384), (480, 0.0), (481, 0.08814332798014532), (482, 0.03125419222891331), (483, 0.0), (484, 0.029242929879095634), (485, 0.0), (486, 0.03392123299488484), (487, 0.0), (488, 0.018833708683387147), (489, 0.0), (490, 0.0), (491, 0.03454082354115207), (492, 0.02131613919624144), (493, 0.0), (494, 0.014560189365738451), (495, 0.004504010214066461), (496, 0.018106443787131044), (497, 0.026292417510810732), (498, 0.06766280170410681), (499, 0.0), (500, 0.004965364412416848), (501, 0.010602251747377698), (502, 0.03227896916311415), (503, 0.0), (504, 0.0), (505, 0.01600124775990153), (506, 0.0), (507, 0.0), (508, 0.027775488825819802), (509, 0.038159825908370165), (510, 0.0), (511, 0.016155454074215998), (512, 0.0358258469216077), (513, 0.005535709645191291), (514, 0.0055224597282681614), (515, 0.004590199756538681), (516, 0.023798432882909552), (517, 0.023726313040072014), (518, 0.0), (519, 0.010424827271624205), (520, 0.0), (521, 0.0), (522, 0.0), (523, 0.0), (524, 0.008624501207918198), (525, 0.0), (526, 0.0), (527, 0.0), (528, 0.012022009753185774), (529, 0.0), (530, 0.018508836244478404), (531, 0.01930430210334335), (532, 0.013458561849971233), (533, 0.005727638260443134), (534, 0.005029548978639814), (535, 0.0), (536, 0.0), (537, 0.05280454644432823), (538, 0.0077550651815695), (539, 0.011553602549427347), (540, 0.010896947262516325), (541, 0.0), (542, 0.010163622103278291), (543, 0.01754300158493636), (544, 0.0), (545, 0.060051616912290946), (546, 0.08990859674125724), (547, 0.0), (548, 0.011071810913304853), (549, 0.008722550128229221), (550, 0.044966190540887296), (551, 0.0), (552, 0.0), (553, 0.03868449865242071), (554, 0.022147147603087253), (555, 0.04110201048613818), (556, 0.0), (557, 0.0), (558, 0.017954897955434517), (559, 0.0), (560, 0.005107772625014686), (561, 0.023768384602749687), (562, 0.019910803990336963), (563, 0.0), (564, 0.0), (565, 0.02759590404339038), (566, 0.02270453279482046), (567, 0.02881180823368739), (568, 0.010950507698138944), (569, 0.010818245056821638), (570, 0.051442310779787385), (571, 0.0), (572, 0.03028882908730187), (573, 0.01637667845622484), (574, 0.0), (575, 0.08413856796126923), (576, 0.0), (577, 0.0), (578, 0.0), (579, 0.0), (580, 0.0), (581, 0.0), (582, 0.0), (583, 0.013376126214221157), (584, 0.0), (585, 0.0), (586, 0.006994299352119736), (587, 0.0), (588, 0.0), (589, 0.0), (590, 0.0), (591, 0.03244691555773937), (592, 0.011991852799825106), (593, 0.0), (594, 0.006001519233853689), (595, 0.005600546794464869), (596, 0.0), (597, 0.0), (598, 0.0), (599, 0.28280191522394693), (600, 0.2571927843121004), (601, 0.15610550136521353), (602, 0.09944102898572665), (603, 0.12954327476770183), (604, 0.02954616300380672), (605, 0.008272360315375345), (606, 0.01831756446211782), (607, 0.0), (608, 0.006086489854492196), (609, 0.007459307800124895), (610, 0.01173901221208979), (611, 0.0), (612, 0.0), (613, 0.029122476742161247), (614, 0.058293447947284804), (615, 0.012230525020948376), (616, 0.0), (617, 0.0), (618, 0.0), (619, 0.04973999297433453), (620, 0.026869598728319254), (621, 0.00430858928762007), (622, 0.017084601071585357), (623, 0.0), (624, 0.0), (625, 0.029760367461890133), (626, 0.0), (627, 0.009091966469459823), (628, 0.0), (629, 0.008118144123481243), (630, 0.0), (631, 0.012139675901066328), (632, 0.004602430178350161), (633, 0.0), (634, 0.0), (635, 0.01289046199707179), (636, 0.0), (637, 0.0), (638, 0.0), (639, 0.009969920627482896), (640, 0.009884160641124724), (641, 0.004808228315204733), (642, 0.0), (643, 0.015580340409429912), (644, 0.004837535407445185), (645, 0.0), (646, 0.0), (647, 0.025332896286467302), (648, 0.0), (649, 0.02994702891376218), (650, 0.00628665006903264), (651, 0.00491643715799583), (652, 0.0), (653, 0.004430635677745044), (654, 0.07384605553609146), (655, 0.015729181009163776), (656, 0.02398616902927093), (657, 0.0), (658, 0.0), (659, 0.013744065695179962), (660, 0.0), (661, 0.017374686237769346), (662, 0.014305855268152222), (663, 0.047556470886677686), (664, 0.016854450734968038), (665, 0.0), (666, 0.03324725372292199), (667, 0.0), (668, 0.01146648927524851), (669, 0.018261725130533292), (670, 0.026090497310725283), (671, 0.0), (672, 0.009081746820838657), (673, 0.005557110252306415), (674, 0.05793902791640222), (675, 0.0), (676, 0.0), (677, 0.0073585316664176075), (678, 0.018362523399276093), (679, 0.0), (680, 0.03588162922816232), (681, 0.09739447126648748), (682, 0.005727246809403682), (683, 0.005748913863993276), (684, 0.03699739909008726), (685, 0.0), (686, 0.04564196267064011), (687, 0.027669633238201215), (688, 0.005641178033812138), (689, 0.0), (690, 0.0047379754993361525), (691, 0.0075983166964077664), (692, 0.027033608092670348), (693, 0.0), (694, 0.06109827319150957), (695, 0.014809184470745503), (696, 0.0), (697, 0.0), (698, 0.008894792077698185), (699, 0.006038234993158148), (700, 0.037143569883426035), (701, 0.0), (702, 0.051349476875993144), (703, 0.0), (704, 0.0), (705, 0.008322964163702524), (706, 0.0), (707, 0.012410369531153834), (708, 0.0), (709, 0.0), (710, 0.0), (711, 0.0), (712, 0.0), (713, 0.012785114962704063), (714, 0.011946515666472573), (715, 0.01302876791627807), (716, 0.012381102621072934), (717, 0.009803970974359045), (718, 0.01744805032201478), (719, 0.004091102967634054), (720, 0.006457799475563739), (721, 0.020236209784591737), (722, 0.0), (723, 0.004310932167714572), (724, 0.0066681814052045), (725, 0.010043845864538173), (726, 0.00561434735543746), (727, 0.005003158495767999), (728, 0.005492457288887512), (729, 0.005678568733925389), (730, 0.0), (731, 0.027647978808356646), (732, 0.008392526180852608), (733, 0.01534814382797467), (734, 0.0), (735, 0.0), (736, 0.0), (737, 0.0), (738, 0.00419508992696842), (739, 0.018346838103305632), (740, 0.0), (741, 0.0), (742, 0.0), (743, 0.0), (744, 0.05160273254597797), (745, 0.03130127177171173), (746, 0.0), (747, 0.01977705471793985), (748, 0.017873309283750482), (749, 0.005095433179631055), (750, 0.01807191492403843), (751, 0.029508141707006358), (752, 0.0), (753, 0.005903090802651554), (754, 0.0), (755, 0.0), (756, 0.03184059501104258), (757, 0.0), (758, 0.0), (759, 0.0), (760, 0.0), (761, 0.0), (762, 0.027938469083707226), (763, 0.04881187689507613), (764, 0.0), (765, 0.0), (766, 0.0), (767, 0.0), (768, 0.0), (769, 0.017506641286816716), (770, 0.0), (771, 0.0), (772, 0.0), (773, 0.0), (774, 0.0), (775, 0.012329122328785302), (776, 0.030865259894709198), (777, 0.023402409059054618), (778, 0.050774287507592), (779, 0.004353002894831688), (780, 0.0), (781, 0.015538849098737005), (782, 0.0), (783, 0.0), (784, 0.018312564774362113), (785, 0.016853742307185865), (786, 0.013466474899159994), (787, 0.0), (788, 0.0), (789, 0.0), (790, 0.009112028026188528), (791, 0.0), (792, 0.010000407029398879), (793, 0.02758533265766472), (794, 0.0159455963456406), (795, 0.006018870148871725), (796, 0.020797023211795065), (797, 0.0), (798, 0.016854278892509567), (799, 0.0), (800, 0.004577190324543849), (801, 0.0), (802, 0.019409619001410857), (803, 0.03466038350048435), (804, 0.013035913859099798), (805, 0.0), (806, 0.0), (807, 0.0), (808, 0.0), (809, 0.005227991512298198), (810, 0.0), (811, 0.0), (812, 0.01677273270819518), (813, 0.016571852126593692), (814, 0.0), (815, 0.01739561170500327), (816, 0.0), (817, 0.0), (818, 0.0), (819, 0.0), (820, 0.014202617094617285), (821, 0.01942319897090642), (822, 0.03846652084327721), (823, 0.0), (824, 0.006546747639773099), (825, 0.0049389214907018955), (826, 0.01259190680144559), (827, 0.004830991637118493), (828, 0.0), (829, 0.008636291037318942), (830, 0.0), (831, 0.0), (832, 0.0), (833, 0.060806119897883475), (834, 0.06444345291126054), (835, 0.06143136810671968), (836, 0.0), (837, 0.0), (838, 0.0), (839, 0.010621710606988513), (840, 0.0), (841, 0.0), (842, 0.0206635283341515), (843, 0.0), (844, 0.01815511090231991), (845, 0.020778259106663848), (846, 0.019253010667671943), (847, 0.016919924331294686), (848, 0.0051356683540095295), (849, 0.026544234360460724), (850, 0.025501769901446647), (851, 0.004461102442754855), (852, 0.00642291002864422), (853, 0.04314301916263083), (854, 0.004859922098770329), (855, 0.03852461248988928), (856, 0.015084511695437983), (857, 0.0), (858, 0.0), (859, 0.0), (860, 0.0), (861, 0.0), (862, 0.0), (863, 0.022897755579105915), (864, 0.01784625992578499), (865, 0.0), (866, 0.0047340854824883365), (867, 0.0), (868, 0.004728069198298871), (869, 0.005221180657530716), (870, 0.0), (871, 0.006899005765667547), (872, 0.031630387792157655), (873, 0.0), (874, 0.0), (875, 0.012958577120689048), (876, 0.02015895560358494), (877, 0.014185825470418658), (878, 0.004809810896240882), (879, 0.018425852823723117), (880, 0.01853257015268215), (881, 0.022775929947251583), (882, 0.005951951340072693), (883, 0.033742122411030445), (884, 0.01837503037964017), (885, 0.0), (886, 0.0), (887, 0.05369988185006454), (888, 0.0), (889, 0.0), (890, 0.0), (891, 0.07308073181219855), (892, 0.016289048434199302), (893, 0.0), (894, 0.0), (895, 0.02373832052511441), (896, 0.06021018219008581), (897, 0.0), (898, 0.0), (899, 0.0), (900, 0.0), (901, 0.020748278710935115), (902, 0.030308084439582238), (903, 0.022921782358715354), (904, 0.005994489814529478), (905, 0.00589077892483672), (906, 0.031466646800705586), (907, 0.0), (908, 0.005202316339571682), (909, 0.021699241996420503), (910, 0.0), (911, 0.01118562056202807), (912, 0.039395555131313376), (913, 0.02421780931225134), (914, 0.008313618252612108), (915, 0.08379117736682508), (916, 0.01560738105788175), (917, 0.0), (918, 0.056499555948224776), (919, 0.011998503232978856), (920, 0.006164004091637862), (921, 0.0062490594368396135), (922, 0.0), (923, 0.02613677290489662), (924, 0.014004984985773822), (925, 0.0), (926, 0.005236986620172543), (927, 0.0), (928, 0.02493561851998873), (929, 0.003673457307004531), (930, 0.0), (931, 0.009394794898028035), (932, 0.015857237966330748), (933, 0.0), (934, 0.0), (935, 0.006245316987975187), (936, 0.014500465612399212), (937, 0.0), (938, 0.02897168253340916), (939, 0.030301842473675143), (940, 0.0), (941, 0.0), (942, 0.0), (943, 0.0), (944, 0.018141084776654767), (945, 0.021474558998770286), (946, 0.07663254873710011), (947, 0.006869255822842295), (948, 0.00641191748825596), (949, 0.0), (950, 0.03020884685361151), (951, 0.02857985297360769), (952, 0.019175501749897985), (953, 0.0), (954, 0.010552277330536063), (955, 0.0), (956, 0.04990185853167044), (957, 0.008584488985498146), (958, 0.0), (959, 0.0), (960, 0.0), (961, 0.053998022373784274), (962, 0.008914450619327611), (963, 0.039542619755709704), (964, 0.0), (965, 0.011781035171817455), (966, 0.011147757904238843), (967, 0.0), (968, 0.0), (969, 0.0), (970, 0.0), (971, 0.0), (972, 0.0), (973, 0.01918347735446972), (974, 0.021300425518953708), (975, 0.02345061183744693), (976, 0.0), (977, 0.04132136142386249), (978, 0.0), (979, 0.01721772323494028), (980, 0.0), (981, 0.029018194486524464), (982, 0.018528833528514314), (983, 0.0), (984, 0.0), (985, 0.0), (986, 0.005088484725643405), (987, 0.0), (988, 0.03343260780472686), (989, 0.0), (990, 0.02034603328753693), (991, 0.0), (992, 0.05435424122687739), (993, 0.0), (994, 0.0051750791053071276), (995, 0.0), (996, 0.007185817359019088), (997, 0.028988836171124712), (998, 0.0), (999, 0.0), (1000, 0.013036169683479109), (1001, 0.011252839554654991), (1002, 0.016048662647773666), (1003, 0.0181316963995397), (1004, 0.0), (1005, 0.0038923411439563847), (1006, 0.0), (1007, 0.019498360417557526), (1008, 0.008055844944620437), (1009, 0.025020381368474707), (1010, 0.027262140896027638), (1011, 0.16270222722174588), (1012, 0.011696271767063712), (1013, 0.06508750945379758), (1014, 0.026451459022558875), (1015, 0.005504712250134733), (1016, 0.0060312274454430515), (1017, 0.020577511091871697), (1018, 0.0), (1019, 0.0), (1020, 0.0), (1021, 0.0), (1022, 0.03369978782659422), (1023, 0.005724175792393674), (1024, 0.03876432233892937), (1025, 0.015010008623055744), (1026, 0.009225239470800967), (1027, 0.01861915172113556), (1028, 0.02852588696867777), (1029, 0.03260138298000278), (1030, 0.0), (1031, 0.024274679772785055), (1032, 0.0), (1033, 0.0), (1034, 0.0), (1035, 0.004947113182521247), (1036, 0.0), (1037, 0.0), (1038, 0.02934076867769171), (1039, 0.0), (1040, 0.0), (1041, 0.0), (1042, 0.007851802442095403), (1043, 0.03369436061073969), (1044, 0.004933088800869022), (1045, 0.012106773212546978), (1046, 0.03369845083859658), (1047, 0.0), (1048, 0.0), (1049, 0.0), (1050, 0.005720234044514979), (1051, 0.008211760200330999), (1052, 0.0), (1053, 0.0), (1054, 0.004808551859235112), (1055, 0.016197433813486654), (1056, 0.06525547246206079), (1057, 0.06435546390039697), (1058, 0.04027749490753379), (1059, 0.0), (1060, 0.028890440412909463), (1061, 0.0), (1062, 0.0), (1063, 0.01140778965251912), (1064, 0.0), (1065, 0.0046544048307561375), (1066, 0.021027635793861927), (1067, 0.021738937498847262), (1068, 0.0), (1069, 0.027359388239553105), (1070, 0.0), (1071, 0.03506775172990773), (1072, 0.01461403988588079), (1073, 0.0), (1074, 0.02290136213204058), (1075, 0.0), (1076, 0.020407333312240768), (1077, 0.0), (1078, 0.0), (1079, 0.00617459470714903), (1080, 0.0), (1081, 0.0), (1082, 0.05425994532526088), (1083, 0.035185388514817395), (1084, 0.0), (1085, 0.006845112731326115), (1086, 0.015732266485647208), (1087, 0.0068262924979530775), (1088, 0.0), (1089, 0.0), (1090, 0.005890666824504804), (1091, 0.03234593446863104), (1092, 0.0042445086772198186), (1093, 0.0), (1094, 0.03294044969953066), (1095, 0.03163622506877874), (1096, 0.004954179211103859), (1097, 0.017396646984817844), (1098, 0.0), (1099, 0.012519690309862313), (1100, 0.009245693984436552), (1101, 0.018030434165598654), (1102, 0.005054077488233403), (1103, 0.0), (1104, 0.0), (1105, 0.0), (1106, 0.0), (1107, 0.0), (1108, 0.030146621809218302), (1109, 0.0), (1110, 0.0), (1111, 0.03019232690729827), (1112, 0.016014049802016515), (1113, 0.07411980943400155), (1114, 0.014843636505790719), (1115, 0.00948704240561897), (1116, 0.020627849260878246), (1117, 0.0), (1118, 0.029661409160919982), (1119, 0.0), (1120, 0.028831416806871166), (1121, 0.0), (1122, 0.005184492826693353), (1123, 0.06705439157246296), (1124, 0.0), (1125, 0.026080485136279405), (1126, 0.006630269367220011), (1127, 0.005012148280484355), (1128, 0.0), (1129, 0.022839852697817863), (1130, 0.009212252393993826), (1131, 0.017720336136452384), (1132, 0.0), (1133, 0.009381069117863256), (1134, 0.04255214912510062), (1135, 0.010956402103815169), (1136, 0.0), (1137, 0.1136302057443545), (1138, 0.0051512900188397425), (1139, 0.0), (1140, 0.01899343249387282), (1141, 0.03633008149686646), (1142, 0.0), (1143, 0.0), (1144, 0.0), (1145, 0.0), (1146, 0.017151728347096492), (1147, 0.0), (1148, 0.0), (1149, 0.0), (1150, 0.07895671112965104), (1151, 0.029626015742026585), (1152, 0.0), (1153, 0.0035704611724900067), (1154, 0.05754574501450782), (1155, 0.009750625826593019), (1156, 0.0), (1157, 0.0), (1158, 0.0), (1159, 0.03252082491247492), (1160, 0.014004842402793373), (1161, 0.0), (1162, 0.005555713824303327), (1163, 0.0), (1164, 0.018564642017730903), (1165, 0.006955205704563682), (1166, 0.015040372363664178), (1167, 0.02744375493160968), (1168, 0.030080731290958694), (1169, 0.0), (1170, 0.0), (1171, 0.01606848779270337), (1172, 0.01987139288305214), (1173, 0.024037431979007134), (1174, 0.02326118551020249), (1175, 0.021666897471373705), (1176, 0.0), (1177, 0.0), (1178, 0.07158506716386202), (1179, 0.011805216919755328), (1180, 0.0), (1181, 0.0), (1182, 0.0), (1183, 0.004726735929748126), (1184, 0.0), (1185, 0.01243908362840665), (1186, 0.0), (1187, 0.0), (1188, 0.01853743411611139), (1189, 0.0), (1190, 0.030572504795590014), (1191, 0.0), (1192, 0.0), (1193, 0.0), (1194, 0.00586645686551672), (1195, 0.03509281601232634), (1196, 0.0), (1197, 0.0), (1198, 0.006646441865818542), (1199, 0.0), (1200, 0.0), (1201, 0.0), (1202, 0.016516054627333937), (1203, 0.0), (1204, 0.027536579101774795), (1205, 0.01887445206491659), (1206, 0.01255358545079232), (1207, 0.011279621247719071), (1208, 0.0), (1209, 0.0), (1210, 0.008585459404984468), (1211, 0.0), (1212, 0.027806645374054494), (1213, 0.008258450595718446), (1214, 0.012153202217068228), (1215, 0.008047156117046378), (1216, 0.008525076640655885), (1217, 0.0), (1218, 0.0), (1219, 0.006023590943047235), (1220, 0.015940572431212784), (1221, 0.00558226066084336), (1222, 0.0), (1223, 0.0), (1224, 0.0), (1225, 0.012455555644657541), (1226, 0.005041101701159585), (1227, 0.0), (1228, 0.00720534180148052), (1229, 0.005316410086022828), (1230, 0.05756788909432957), (1231, 0.006434166699683588), (1232, 0.0), (1233, 0.01858622708280669), (1234, 0.018702220048363683), (1235, 0.0), (1236, 0.01341854368885354), (1237, 0.07258061486532358), (1238, 0.006668710562619506), (1239, 0.038588977168039704), (1240, 0.03090444906259828), (1241, 0.004186324416252521), (1242, 0.04118373086931825), (1243, 0.016093522796576297), (1244, 0.012178551080248491), (1245, 0.026307908877540663), (1246, 0.0), (1247, 0.0), (1248, 0.009032641423417509), (1249, 0.023529487273252422), (1250, 0.01807994985834365), (1251, 0.0), (1252, 0.005045334080580912), (1253, 0.014291391147165886), (1254, 0.012100663752412984), (1255, 0.07575316150001904), (1256, 0.016748746034275324), (1257, 0.06000354510799848), (1258, 0.014283152726945927), (1259, 0.021840017301444012), (1260, 0.0), (1261, 0.018852167368547577), (1262, 0.029466962003116277), (1263, 0.027498556547415516), (1264, 0.02028957325130515), (1265, 0.0431207806036587), (1266, 0.018895799777923262), (1267, 0.009088218192475444), (1268, 0.0), (1269, 0.04713098239283732), (1270, 0.014740019113130361), (1271, 0.020429380433700097), (1272, 0.006615769483814799), (1273, 0.01123679699621079), (1274, 0.004836143854752222), (1275, 0.0), (1276, 0.014803680580850503), (1277, 0.007030328791865774), (1278, 0.00700814952029384), (1279, 0.03939199997874313), (1280, 0.031461633946164164), (1281, 0.02893399635489014), (1282, 0.0), (1283, 0.010383115395640612), (1284, 0.0), (1285, 0.021858370414859885), (1286, 0.0), (1287, 0.006469111597639596), (1288, 0.00610925502595821), (1289, 0.013838346459268423), (1290, 0.004511486596588394), (1291, 0.00870839899459556), (1292, 0.01951728642050842), (1293, 0.011348428128147663), (1294, 0.0), (1295, 0.02687410343805429), (1296, 0.018765021674796926), (1297, 0.030859060122757243), (1298, 0.0), (1299, 0.0), (1300, 0.0), (1301, 0.03556627292736472), (1302, 0.02307777377742337), (1303, 0.0), (1304, 0.01766726368837514), (1305, 0.0), (1306, 0.0), (1307, 0.022169744521072), (1308, 0.02236390714074145), (1309, 0.038281375750433104), (1310, 0.023973331339130613), (1311, 0.01803754557984175), (1312, 0.0), (1313, 0.0), (1314, 0.0399803169274277), (1315, 0.02873873394745216), (1316, 0.0), (1317, 0.013647254353386552), (1318, 0.0), (1319, 0.0), (1320, 0.01721990099123405), (1321, 0.01358844832768253), (1322, 0.02550014861632773), (1323, 0.015174508785493613), (1324, 0.01259443506944522), (1325, 0.0), (1326, 0.021683232960631613), (1327, 0.006384975966766177), (1328, 0.012450772623994058), (1329, 0.0), (1330, 0.0), (1331, 0.0), (1332, 0.005673769581180797), (1333, 0.024306062341292563), (1334, 0.039321571116174334), (1335, 0.02480832488278405), (1336, 0.009871341628432997), (1337, 0.005196796449953559), (1338, 0.0050085810891290885), (1339, 0.0), (1340, 0.0), (1341, 0.02424948922305211), (1342, 0.04877873755225018), (1343, 0.0), (1344, 0.007602076800016878), (1345, 0.017622243267946976), (1346, 0.011874305901040764), (1347, 0.01626938007681089), (1348, 0.028076276199342477), (1349, 0.0), (1350, 0.011500906586097443), (1351, 0.006933185277832921), (1352, 0.010029189947498074), (1353, 0.0), (1354, 0.04279385181599468), (1355, 0.0), (1356, 0.0), (1357, 0.004692860950403428), (1358, 0.029118992059171865), (1359, 0.0), (1360, 0.029238673519570175), (1361, 0.018019049457079783), (1362, 0.0), (1363, 0.0), (1364, 0.0), (1365, 0.007938845792683917), (1366, 0.01913067285545673), (1367, 0.0445816918031456), (1368, 0.020462451982328034), (1369, 0.011862627822856074), (1370, 0.021599249616832832), (1371, 0.02782619779032754), (1372, 0.0), (1373, 0.03911430865730296), (1374, 0.02794280587184594), (1375, 0.0), (1376, 0.0), (1377, 0.026674935842599782), (1378, 0.03080705194613348), (1379, 0.010233645694922845), (1380, 0.012451898079340079), (1381, 0.03390543149104414), (1382, 0.029833394955532708), (1383, 0.03262671538370251), (1384, 0.004532267588087978), (1385, 0.01182170332058597), (1386, 0.012003541363336246), (1387, 0.010658548484756121), (1388, 0.006743719093011598), (1389, 0.00707055459057551), (1390, 0.0), (1391, 0.0), (1392, 0.008358676890360349), (1393, 0.032100896893381275), (1394, 0.0), (1395, 0.0), (1396, 0.04936818837850272), (1397, 0.005806447882979422), (1398, 0.013667815779561226), (1399, 0.0), (1400, 0.0), (1401, 0.04957584207945981), (1402, 0.020417884323703943), (1403, 0.021669425600512042), (1404, 0.008886717488741714), (1405, 0.0), (1406, 0.004976970081010334), (1407, 0.020692300687282787), (1408, 0.013078863975635284), (1409, 0.010057708002918834), (1410, 0.02613244987261848), (1411, 0.04263056844224829), (1412, 0.04766772971583279), (1413, 0.023170948199581765), (1414, 0.015026711563855504), (1415, 0.0), (1416, 0.0), (1417, 0.003975079343010591), (1418, 0.020417029157989975), (1419, 0.014510927561244766), (1420, 0.0), (1421, 0.0), (1422, 0.0), (1423, 0.0), (1424, 0.0), (1425, 0.0), (1426, 0.0), (1427, 0.0), (1428, 0.0), (1429, 0.0), (1430, 0.0), (1431, 0.00962676671479718), (1432, 0.005304474374089246), (1433, 0.016503181938357696), (1434, 0.0), (1435, 0.057047634911904), (1436, 0.012492470356425676), (1437, 0.013378768926681401), (1438, 0.0), (1439, 0.0), (1440, 0.011989124702159657), (1441, 0.0), (1442, 0.005041517535614369), (1443, 0.06282383073010805), (1444, 0.0), (1445, 0.015416407299370695), (1446, 0.0), (1447, 0.0), (1448, 0.0), (1449, 0.0), (1450, 0.0), (1451, 0.008830753021114636), (1452, 0.0), (1453, 0.0), (1454, 0.005593306360027056), (1455, 0.021909477683860718), (1456, 0.0), (1457, 0.0), (1458, 0.017950008794374136), (1459, 0.011621750444701321), (1460, 0.013070814158892125), (1461, 0.0), (1462, 0.015449447803963822), (1463, 0.0), (1464, 0.0), (1465, 0.012792200591593032), (1466, 0.053663840300312196), (1467, 0.03275299653698618), (1468, 0.026188964289694253), (1469, 0.02363585947120258), (1470, 0.012221004689315616), (1471, 0.003776303730600691), (1472, 0.017039589980363635), (1473, 0.01788894594584994), (1474, 0.007488069362240229), (1475, 0.006999726625625792), (1476, 0.0), (1477, 0.016361599312076223), (1478, 0.05830999741614325), (1479, 0.0), (1480, 0.0), (1481, 0.0), (1482, 0.0), (1483, 0.005052873802339424), (1484, 0.005386708923004416), (1485, 0.0), (1486, 0.06605165330540352), (1487, 0.0), (1488, 0.01770580045531626), (1489, 0.0), (1490, 0.006415403504342159), (1491, 0.0), (1492, 0.012768749966361246), (1493, 0.03754431954328831), (1494, 0.009685117914805958), (1495, 0.006831183513211842), (1496, 0.017668649370624557), (1497, 0.0), (1498, 0.016403761307324106), (1499, 0.0), (1500, 0.027641344719301512), (1501, 0.0), (1502, 0.024110097434371904), (1503, 0.014611644666240915), (1504, 0.00504359971823745), (1505, 0.017790208479435514), (1506, 0.0), (1507, 0.010765894819616439), (1508, 0.0), (1509, 0.0), (1510, 0.0051409349064406905), (1511, 0.02155181980246289), (1512, 0.005125542651602695), (1513, 0.005304737886327208), (1514, 0.006214037023837695), (1515, 0.05789613638824079), (1516, 0.005244440718933361), (1517, 0.0), (1518, 0.0), (1519, 0.08645420947701715), (1520, 0.0), (1521, 0.0335453544391593), (1522, 0.011922676599964085), (1523, 0.0), (1524, 0.014725410928022131), (1525, 0.0), (1526, 0.0), (1527, 0.019423970660844843), (1528, 0.0), (1529, 0.020844110330778452), (1530, 0.024196270512770568), (1531, 0.0), (1532, 0.0), (1533, 0.043314013038950175), (1534, 0.016733118667477058), (1535, 0.019198356804838303), (1536, 0.0237417113237839), (1537, 0.033134418698796735), (1538, 0.03476856948884599), (1539, 0.008383013910917867), (1540, 0.005948758939349978), (1541, 0.0), (1542, 0.01527648377346596), (1543, 0.014813206841215277), (1544, 0.004888389762074079), (1545, 0.004883255130398422), (1546, 0.01964119906197494), (1547, 0.013751340903236178), (1548, 0.0418577085431311), (1549, 0.009273591199274043), (1550, 0.0), (1551, 0.0191372316719929), (1552, 0.011288534739087166), (1553, 0.0), (1554, 0.032529908226035915), (1555, 0.039761155681805826), (1556, 0.0), (1557, 0.0), (1558, 0.0), (1559, 0.008136434357774044), (1560, 0.005738482319207466), (1561, 0.009036410485023), (1562, 0.0), (1563, 0.010213844139003583), (1564, 0.049316958466259456), (1565, 0.0), (1566, 0.08068047445167217), (1567, 0.034469318749512555), (1568, 0.0), (1569, 0.022877328133470678), (1570, 0.012416943184420647), (1571, 0.0), (1572, 0.030485528099060608), (1573, 0.0), (1574, 0.038654273200322144), (1575, 0.01899325899402313), (1576, 0.00407885691451074), (1577, 0.02679362961078639), (1578, 0.0), (1579, 0.02777205341335548), (1580, 0.01037396100102062), (1581, 0.005077553515898862), (1582, 0.0), (1583, 0.0), (1584, 0.038260418495333855), (1585, 0.0), (1586, 0.0075108369882092435), (1587, 0.02703759654811115), (1588, 0.0), (1589, 0.06364458484747951), (1590, 0.03721739621464738), (1591, 0.005897722562025116), (1592, 0.028654954295041106), (1593, 0.0), (1594, 0.0), (1595, 0.0), (1596, 0.015673276688175284), (1597, 0.0), (1598, 0.006628165939624655), (1599, 0.0146745187493144), (1600, 0.014490583913250024), (1601, 0.005959963805027233), (1602, 0.0), (1603, 0.012390387559382933), (1604, 0.011706199299670489), (1605, 0.0), (1606, 0.0), (1607, 0.006538785759700448), (1608, 0.015657794281295337), (1609, 0.0), (1610, 0.0), (1611, 0.01193192802063461), (1612, 0.0), (1613, 0.018451184207565426), (1614, 0.0), (1615, 0.00795139308751615), (1616, 0.021228230769308153), (1617, 0.0), (1618, 0.0), (1619, 0.0), (1620, 0.0), (1621, 0.0), (1622, 0.0), (1623, 0.0), (1624, 0.01200676511268142), (1625, 0.017508896103263238), (1626, 0.01456863250868288), (1627, 0.00435299965651173), (1628, 0.0), (1629, 0.0), (1630, 0.0), (1631, 0.015980595878280882), (1632, 0.03857633726642967), (1633, 0.0), (1634, 0.032569230016562256), (1635, 0.0), (1636, 0.02580971453550256), (1637, 0.015827011638978157), (1638, 0.017592895352963468), (1639, 0.022976055135651634), (1640, 0.026327544756789507), (1641, 0.03275555148454297), (1642, 0.0), (1643, 0.0), (1644, 0.0), (1645, 0.0285429144315692), (1646, 0.033437873674788975), (1647, 0.016694955270168264), (1648, 0.0), (1649, 0.051281561154715556), (1650, 0.012452429632439468), (1651, 0.025339019807829547), (1652, 0.03821991418195139), (1653, 0.022264315882426347), (1654, 0.0), (1655, 0.0), (1656, 0.0), (1657, 0.020620164185481113), (1658, 0.0), (1659, 0.005427877207184043), (1660, 0.0), (1661, 0.0), (1662, 0.06434218439555017), (1663, 0.0), (1664, 0.02315959599520574), (1665, 0.004768032429176413), (1666, 0.0), (1667, 0.0), (1668, 0.0), (1669, 0.0), (1670, 0.0), (1671, 0.0), (1672, 0.0), (1673, 0.0), (1674, 0.0), (1675, 0.010756009021380547), (1676, 0.0), (1677, 0.01395584810248665), (1678, 0.01441085048719757), (1679, 0.010186356484300765), (1680, 0.004624874124533876), (1681, 0.0055907807258763365), (1682, 0.017644624028502573), (1683, 0.0), (1684, 0.0), (1685, 0.0), (1686, 0.0164759461887916), (1687, 0.005399276269729049), (1688, 0.0), (1689, 0.0), (1690, 0.0), (1691, 0.0), (1692, 0.005038522248686354), (1693, 0.016582546188951084), (1694, 0.0), (1695, 0.0), (1696, 0.04148187522537326), (1697, 0.030372838006238932), (1698, 0.0), (1699, 0.0), (1700, 0.0127982266665743), (1701, 0.021431097634953735), (1702, 0.0), (1703, 0.018273506541026666), (1704, 0.0), (1705, 0.02986043389650788), (1706, 0.006775636386647987), (1707, 0.0), (1708, 0.0054694604433331686), (1709, 0.009547819626825377), (1710, 0.0), (1711, 0.0), (1712, 0.0), (1713, 0.013407013267682476), (1714, 0.02245805468942104), (1715, 0.0), (1716, 0.019893990325149692), (1717, 0.015195920414004572), (1718, 0.009854294349848502), (1719, 0.0), (1720, 0.0), (1721, 0.004765173833415848), (1722, 0.0), (1723, 0.024637724970119332), (1724, 0.0), (1725, 0.0074230454897828875), (1726, 0.02965941035461965), (1727, 0.038697117306852796), (1728, 0.028750820694076057), (1729, 0.0), (1730, 0.0), (1731, 0.007198702707562586), (1732, 0.0054426808185949116), (1733, 0.0), (1734, 0.005335854618494464), (1735, 0.005251591488506808), (1736, 0.005330997229490853), (1737, 0.017150842037619105), (1738, 0.006374235379080978), (1739, 0.0), (1740, 0.005194735967850221), (1741, 0.025252646873351832), (1742, 0.0), (1743, 0.04691561966499995), (1744, 0.0), (1745, 0.025288832066906165), (1746, 0.0), (1747, 0.0), (1748, 0.0), (1749, 0.004776207760805445), (1750, 0.015853074499756446), (1751, 0.005152220381880466), (1752, 0.0), (1753, 0.0), (1754, 0.0), (1755, 0.02241770472005792), (1756, 0.016727849104034933), (1757, 0.009261252688373115), (1758, 0.00776433103258709), (1759, 0.0), (1760, 0.0), (1761, 0.0), (1762, 0.008386908842741828), (1763, 0.0312922890283311), (1764, 0.01023432073606186), (1765, 0.0), (1766, 0.0), (1767, 0.0), (1768, 0.01731775365444098), (1769, 0.0), (1770, 0.005475656531693331), (1771, 0.0), (1772, 0.02563870407700196), (1773, 0.019077280294031163), (1774, 0.0), (1775, 0.0), (1776, 0.0), (1777, 0.009658458590297299), (1778, 0.00875669564771782), (1779, 0.0), (1780, 0.0), (1781, 0.004332917124626726), (1782, 0.026435156759895495), (1783, 0.01669075352159761), (1784, 0.0), (1785, 0.0), (1786, 0.02755074609093608), (1787, 0.0), (1788, 0.03572620120314092), (1789, 0.010902609304580488), (1790, 0.0), (1791, 0.02972733774628509), (1792, 0.0), (1793, 0.029616332126900458), (1794, 0.0), (1795, 0.0), (1796, 0.004646316565111473), (1797, 0.010351014076322527), (1798, 0.019883323288530062), (1799, 0.02500575787657865), (1800, 0.0), (1801, 0.0), (1802, 0.06053539500656778), (1803, 0.0), (1804, 0.009429819945261443), (1805, 0.00966340775447799), (1806, 0.0), (1807, 0.0), (1808, 0.016862745330056526), (1809, 0.03676403593363388), (1810, 0.023378702589623282), (1811, 0.0), (1812, 0.012612565576494743), (1813, 0.0), (1814, 0.0), (1815, 0.0058948701778186886), (1816, 0.008474604444041427), (1817, 0.0), (1818, 0.004825654015628246), (1819, 0.0), (1820, 0.025239307739091468), (1821, 0.0), (1822, 0.005375616095737861), (1823, 0.004711587061518797), (1824, 0.0), (1825, 0.030730999822116807), (1826, 0.0), (1827, 0.0), (1828, 0.004394016129538099), (1829, 0.01750133149020623), (1830, 0.02478818095320197), (1831, 0.0), (1832, 0.0), (1833, 0.005749529921311364), (1834, 0.0), (1835, 0.04483465484071576), (1836, 0.019695591579468874), (1837, 0.0), (1838, 0.0), (1839, 0.0), (1840, 0.0), (1841, 0.012280027781618269), (1842, 0.0), (1843, 0.01673516659226265), (1844, 0.03487382420168329), (1845, 0.0), (1846, 0.027164464887244538), (1847, 0.02049164871426124), (1848, 0.0), (1849, 0.0), (1850, 0.005791431791287865), (1851, 0.0), (1852, 0.023821154255768265), (1853, 0.005390206910422585), (1854, 0.0), (1855, 0.00628033130912558), (1856, 0.0), (1857, 0.0), (1858, 0.0), (1859, 0.009913232186896236), (1860, 0.0), (1861, 0.014759122730848407), (1862, 0.0), (1863, 0.0), (1864, 0.01706157699388031), (1865, 0.008528778370723668), (1866, 0.0), (1867, 0.0), (1868, 0.0), (1869, 0.015250338897223907), (1870, 0.004551456627263809), (1871, 0.0), (1872, 0.03404396413859625), (1873, 0.0), (1874, 0.0), (1875, 0.043715552934558054), (1876, 0.014576918826241823), (1877, 0.0), (1878, 0.00892643880033459), (1879, 0.02745733074638742), (1880, 0.0), (1881, 0.09418517648201527), (1882, 0.0), (1883, 0.05910188110858783), (1884, 0.0), (1885, 0.0), (1886, 0.009384343473513475), (1887, 0.0), (1888, 0.026660821257253862), (1889, 0.006816854438584445), (1890, 0.016372191062736137), (1891, 0.0), (1892, 0.0), (1893, 0.0), (1894, 0.012794347757887006), (1895, 0.011122280750392698), (1896, 0.018736180085402395), (1897, 0.0), (1898, 0.011040085687103202), (1899, 0.0), (1900, 0.0), (1901, 0.029362906475100394), (1902, 0.0), (1903, 0.04114473179725581), (1904, 0.031245915948592343), (1905, 0.0), (1906, 0.04993469015477235), (1907, 0.0), (1908, 0.024583300733332314), (1909, 0.0), (1910, 0.015884412164034814), (1911, 0.02539408699169659), (1912, 0.006428514264999026), (1913, 0.0), (1914, 0.0), (1915, 0.0), (1916, 0.0), (1917, 0.0), (1918, 0.0), (1919, 0.0), (1920, 0.008692554918583005), (1921, 0.0), (1922, 0.0), (1923, 0.0), (1924, 0.018368576803629633), (1925, 0.03189927018107189), (1926, 0.025032874470982045), (1927, 0.0), (1928, 0.0), (1929, 0.0), (1930, 0.017853893248328714), (1931, 0.01206326726654467), (1932, 0.006972179168654396), (1933, 0.016418619447233454), (1934, 0.016537701845205983), (1935, 0.0), (1936, 0.027147253715209138), (1937, 0.014236510680490597), (1938, 0.02262827779095904), (1939, 0.08972158720778872), (1940, 0.01724491938203189), (1941, 0.006094953114625857), (1942, 0.0), (1943, 0.012842745193481383), (1944, 0.0), (1945, 0.011896480361580627), (1946, 0.0), (1947, 0.0), (1948, 0.03312916017210063), (1949, 0.005279366344491157), (1950, 0.0), (1951, 0.0), (1952, 0.0), (1953, 0.0), (1954, 0.0), (1955, 0.033365384345724954), (1956, 0.0), (1957, 0.0), (1958, 0.019874838227706103), (1959, 0.0), (1960, 0.0), (1961, 0.024269309142395213), (1962, 0.0), (1963, 0.0), (1964, 0.0), (1965, 0.02460703100070717), (1966, 0.017236663666201635), (1967, 0.00913307817963526), (1968, 0.02486219896074039), (1969, 0.015516417439936063), (1970, 0.0), (1971, 0.004316285029587624), (1972, 0.0), (1973, 0.0047904692297537485), (1974, 0.025566317675280285), (1975, 0.0), (1976, 0.025504846181123076), (1977, 0.012904452011996205), (1978, 0.03256891285063961), (1979, 0.09919622315212599), (1980, 0.0), (1981, 0.014749218490631096), (1982, 0.027062290711621216), (1983, 0.0), (1984, 0.01630394355721423), (1985, 0.02139239701887587), (1986, 0.04067483153224669), (1987, 0.0108378859100926), (1988, 0.0), (1989, 0.005392983532419383), (1990, 0.0), (1991, 0.035082230478412385), (1992, 0.0), (1993, 0.0), (1994, 0.0), (1995, 0.0), (1996, 0.009033259262086797), (1997, 0.021154974784671484), (1998, 0.0), (1999, 0.007584682411489991), (2000, 0.011758007539104281), (2001, 0.0), (2002, 0.0), (2003, 0.0), (2004, 0.0), (2005, 0.0), (2006, 0.02708933798213969), (2007, 0.017162421611126407), (2008, 0.014349057360201494), (2009, 0.0), (2010, 0.009324043445434946), (2011, 0.0), (2012, 0.02282479139674466), (2013, 0.009407062144822034), (2014, 0.011743061344469046), (2015, 0.01232864720564721), (2016, 0.027574435662216228), (2017, 0.018024339442718647), (2018, 0.02820760343123118), (2019, 0.02263648596180567), (2020, 0.004343760583591359), (2021, 0.030225486274691717), (2022, 0.07518384519889794), (2023, 0.0), (2024, 0.004876431036058727), (2025, 0.004200769917264679), (2026, 0.017647355502348454), (2027, 0.01624763352270279), (2028, 0.005453772091675728), (2029, 0.0), (2030, 0.0), (2031, 0.015199502158710028), (2032, 0.0), (2033, 0.004632068448895547), (2034, 0.009727349467145983), (2035, 0.007964337254525063), (2036, 0.008558059785081515), (2037, 0.010245488960300066), (2038, 0.03302633706748011), (2039, 0.0), (2040, 0.005625870500182432), (2041, 0.02752464087837121), (2042, 0.03079319909320149), (2043, 0.014559771210309068), (2044, 0.0744232227925005), (2045, 0.011999057776299242), (2046, 0.0), (2047, 0.0), (2048, 0.006910915314987055), (2049, 0.030841584481770663), (2050, 0.006402434875179264), (2051, 0.0), (2052, 0.004749132632042743), (2053, 0.00970607484372423), (2054, 0.0), (2055, 0.022871879243992085), (2056, 0.0), (2057, 0.01559261480339229), (2058, 0.03580341583573501), (2059, 0.0), (2060, 0.0), (2061, 0.038069119800506104), (2062, 0.040566449224891346), (2063, 0.0), (2064, 0.019990524764118906), (2065, 0.010607520072582925), (2066, 0.01328213263275949), (2067, 0.029645420859902284), (2068, 0.0), (2069, 0.0), (2070, 0.02211593681642186), (2071, 0.0), (2072, 0.018300908206973537), (2073, 0.04482714333977122), (2074, 0.008299588058100358), (2075, 0.015470521249812005), (2076, 0.0), (2077, 0.00621045248741518), (2078, 0.018157837386725544), (2079, 0.0), (2080, 0.0), (2081, 0.005097758531437283), (2082, 0.005524488276032759), (2083, 0.03759668460381294), (2084, 0.0), (2085, 0.005305617380374773), (2086, 0.03460766648640646), (2087, 0.0), (2088, 0.04258097218447794), (2089, 0.0207529214436888), (2090, 0.01851351878896351), (2091, 0.0402272132220107), (2092, 0.0), (2093, 0.010919613502407614), (2094, 0.004818902169057124), (2095, 0.029236569904559487), (2096, 0.0), (2097, 0.0), (2098, 0.0), (2099, 0.0), (2100, 0.015496660918815288), (2101, 0.0), (2102, 0.0), (2103, 0.020650936042321176), (2104, 0.010040277506296439), (2105, 0.017121053681696103), (2106, 0.0), (2107, 0.014054497540583825), (2108, 0.0), (2109, 0.0), (2110, 0.0), (2111, 0.009208946946933898), (2112, 0.021490956256097808), (2113, 0.003984952389465658), (2114, 0.04352849574743374), (2115, 0.0), (2116, 0.0), (2117, 0.011325292174922525), (2118, 0.026717502175567086), (2119, 0.0), (2120, 0.0), (2121, 0.0), (2122, 0.03477941021125127), (2123, 0.018280676367467042), (2124, 0.010914890844566373), (2125, 0.02702212184525067), (2126, 0.0), (2127, 0.009911781518102788), (2128, 0.0), (2129, 0.0), (2130, 0.006787309982636744), (2131, 0.0), (2132, 0.0), (2133, 0.015207774650331199), (2134, 0.0), (2135, 0.016105796523150435), (2136, 0.032021257096426906), (2137, 0.0), (2138, 0.0), (2139, 0.011081150244978874), (2140, 0.017878365247378347), (2141, 0.045350568876412076), (2142, 0.0), (2143, 0.041321123921531915), (2144, 0.0), (2145, 0.0), (2146, 0.0), (2147, 0.0), (2148, 0.0), (2149, 0.0), (2150, 0.02700353263253698), (2151, 0.0), (2152, 0.0), (2153, 0.011871388380139875), (2154, 0.0), (2155, 0.10596420487410282), (2156, 0.0), (2157, 0.0), (2158, 0.03155380554362767), (2159, 0.010366780449473114), (2160, 0.0), (2161, 0.028605737407151294), (2162, 0.0), (2163, 0.0), (2164, 0.013215352588089195), (2165, 0.0), (2166, 0.004795907624868726), (2167, 0.009033938707381332), (2168, 0.0), (2169, 0.0), (2170, 0.01820900244667796), (2171, 0.03431554770810625), (2172, 0.00687612637890243), (2173, 0.0), (2174, 0.009318702033197786), (2175, 0.0), (2176, 0.0), (2177, 0.021022622612228693), (2178, 0.022207450555112283), (2179, 0.0), (2180, 0.04628693323673777), (2181, 0.00578021784621172), (2182, 0.023783170614156524), (2183, 0.02113616417641229), (2184, 0.004783602151283833), (2185, 0.010577186041586285), (2186, 0.0), (2187, 0.0), (2188, 0.04148880761820818), (2189, 0.0), (2190, 0.0), (2191, 0.00843127777593979), (2192, 0.0), (2193, 0.0), (2194, 0.0), (2195, 0.0), (2196, 0.009941826340524708), (2197, 0.017905807665802603), (2198, 0.013454550166521497), (2199, 0.036416402700812554), (2200, 0.0), (2201, 0.008745509440443649), (2202, 0.03668730915204269), (2203, 0.0), (2204, 0.007969529856262285), (2205, 0.021371026549040256), (2206, 0.004867499263238642), (2207, 0.0), (2208, 0.012513829659019277), (2209, 0.0), (2210, 0.00517756152027005), (2211, 0.0), (2212, 0.005081332450789897), (2213, 0.0), (2214, 0.0), (2215, 0.0), (2216, 0.01908298616393505), (2217, 0.023901535388323635), (2218, 0.026190404452475058), (2219, 0.0), (2220, 0.013499352924694659), (2221, 0.051312757132209355), (2222, 0.01739801844849102), (2223, 0.0), (2224, 0.004832189222283259), (2225, 0.0), (2226, 0.0), (2227, 0.012043482936696284), (2228, 0.0), (2229, 0.0), (2230, 0.03456787260582231), (2231, 0.0), (2232, 0.022305381852822048), (2233, 0.05090801777324834), (2234, 0.0375306353297568), (2235, 0.009660423262670813), (2236, 0.0), (2237, 0.03980647809557744), (2238, 0.005273720373307793), (2239, 0.004967356278396099), (2240, 0.029562482396473168), (2241, 0.005295422746282965), (2242, 0.0), (2243, 0.005462198360845368), (2244, 0.0), (2245, 0.0), (2246, 0.0), (2247, 0.0), (2248, 0.01587796942673081), (2249, 0.007021878420349952), (2250, 0.017623271890361884), (2251, 0.02052951999105527), (2252, 0.0), (2253, 0.019160791519522317), (2254, 0.0), (2255, 0.0), (2256, 0.024385696695539548), (2257, 0.0), (2258, 0.031341561361502505), (2259, 0.01396038814187948), (2260, 0.029926722111495035), (2261, 0.0), (2262, 0.008469710928781474), (2263, 0.010090064233393101), (2264, 0.0), (2265, 0.016103699377748394), (2266, 0.0), (2267, 0.0), (2268, 0.016267356988859363), (2269, 0.02058797265851642), (2270, 0.0), (2271, 0.0), (2272, 0.0), (2273, 0.0), (2274, 0.004685595576513994), (2275, 0.006896163113356485), (2276, 0.021746273805117157), (2277, 0.04702443498949356), (2278, 0.017996061261094216), (2279, 0.0), (2280, 0.01757212314822689), (2281, 0.0), (2282, 0.0), (2283, 0.026059317862102596), (2284, 0.0), (2285, 0.012083666961961023), (2286, 0.022669528220457112), (2287, 0.011203647337314795), (2288, 0.018681139565324332), (2289, 0.0), (2290, 0.0), (2291, 0.04430373217449013), (2292, 0.0), (2293, 0.0), (2294, 0.018950629373865553), (2295, 0.0), (2296, 0.009918144304132378), (2297, 0.0), (2298, 0.011650963398374308), (2299, 0.040057606642120276), (2300, 0.0), (2301, 0.0), (2302, 0.0), (2303, 0.0), (2304, 0.01973328556366376), (2305, 0.0), (2306, 0.0), (2307, 0.0), (2308, 0.0), (2309, 0.0), (2310, 0.0), (2311, 0.008843631105137596), (2312, 0.023147991688821583), (2313, 0.0), (2314, 0.021419833021185754), (2315, 0.0046937508070904405), (2316, 0.037880279717537296), (2317, 0.008698720605178008), (2318, 0.0), (2319, 0.0), (2320, 0.0), (2321, 0.0), (2322, 0.03877395604270242), (2323, 0.0), (2324, 0.008663236240767853), (2325, 0.0), (2326, 0.047763695286823664), (2327, 0.008765235352937642), (2328, 0.0), (2329, 0.015807241249890035), (2330, 0.031238616227786585), (2331, 0.0), (2332, 0.006919344361269557), (2333, 0.0), (2334, 0.025783243890640527), (2335, 0.0), (2336, 0.0), (2337, 0.02588940188215271), (2338, 0.0), (2339, 0.0), (2340, 0.0), (2341, 0.0), (2342, 0.0), (2343, 0.0), (2344, 0.0), (2345, 0.0), (2346, 0.0), (2347, 0.008642308293158605), (2348, 0.0), (2349, 0.022261896574495246), (2350, 0.0), (2351, 0.0), (2352, 0.005738378821860413), (2353, 0.021835562553480244), (2354, 0.01686055442402112), (2355, 0.07027001489001064), (2356, 0.013198746726335541), (2357, 0.020138120843993208), (2358, 0.0), (2359, 0.0), (2360, 0.0), (2361, 0.021052007803100473), (2362, 0.0), (2363, 0.026162629852341066), (2364, 0.019598684900127814), (2365, 0.009128376755293524), (2366, 0.0), (2367, 0.0), (2368, 0.011205111660725022), (2369, 0.0), (2370, 0.0), (2371, 0.0), (2372, 0.0), (2373, 0.0), (2374, 0.0), (2375, 0.0), (2376, 0.0), (2377, 0.0), (2378, 0.017056846510873597), (2379, 0.0), (2380, 0.016817790098835057), (2381, 0.013163848538569518), (2382, 0.013773068309485919), (2383, 0.005662176204946004), (2384, 0.0), (2385, 0.03044229469426631), (2386, 0.0), (2387, 0.016043374063587232), (2388, 0.0), (2389, 0.010531691324024836), (2390, 0.0), (2391, 0.01717252663919373), (2392, 0.0), (2393, 0.0), (2394, 0.0), (2395, 0.0), (2396, 0.0), (2397, 0.0), (2398, 0.0), (2399, 0.013378777337907363), (2400, 0.0), (2401, 0.0), (2402, 0.014560899983475995), (2403, 0.022441838990652073), (2404, 0.0), (2405, 0.0), (2406, 0.0), (2407, 0.0), (2408, 0.0), (2409, 0.008953992925061991), (2410, 0.0), (2411, 0.022048157885115754), (2412, 0.004421726503102626), (2413, 0.030991797789255527), (2414, 0.006768294152921739), (2415, 0.0375538333279472), (2416, 0.016600803389181098), (2417, 0.0), (2418, 0.01564009703555944), (2419, 0.0), (2420, 0.018867107319650623), (2421, 0.05849689683498266), (2422, 0.014322608291375135), (2423, 0.0), (2424, 0.004615740081912829), (2425, 0.0), (2426, 0.010641996842669223), (2427, 0.03085333414538184), (2428, 0.013029874558930767), (2429, 0.004720492980834439), (2430, 0.009538331378463709), (2431, 0.0), (2432, 0.022006951394595808), (2433, 0.010339364494883437), (2434, 0.0), (2435, 0.03172368186913766), (2436, 0.0), (2437, 0.0), (2438, 0.0), (2439, 0.01874475468726246), (2440, 0.0), (2441, 0.0), (2442, 0.027478157670849605), (2443, 0.011649884750451967), (2444, 0.02709398308601967), (2445, 0.0), (2446, 0.0), (2447, 0.0), (2448, 0.019269480486981475), (2449, 0.0), (2450, 0.02273217933418372), (2451, 0.026263277233811576), (2452, 0.0), (2453, 0.00815178446626866), (2454, 0.0), (2455, 0.0), (2456, 0.016594692874467725), (2457, 0.0), (2458, 0.0), (2459, 0.006198248287516133), (2460, 0.0), (2461, 0.015589315536121189), (2462, 0.01580921790024544), (2463, 0.0), (2464, 0.0), (2465, 0.027856366595188843), (2466, 0.01515306653337635), (2467, 0.0), (2468, 0.023189695657926217), (2469, 0.0), (2470, 0.023910683380601504), (2471, 0.017535238172732323), (2472, 0.03940975014809206), (2473, 0.006394662879120122), (2474, 0.06388355189570183), (2475, 0.0), (2476, 0.005790407528548496), (2477, 0.0), (2478, 0.0), (2479, 0.049469252644954415), (2480, 0.0), (2481, 0.0), (2482, 0.0), (2483, 0.0), (2484, 0.08209188508706429), (2485, 0.0), (2486, 0.0), (2487, 0.016294653199059175), (2488, 0.0), (2489, 0.0), (2490, 0.036104874450647674), (2491, 0.014823976661154552), (2492, 0.01694918116866467), (2493, 0.015409069474226458), (2494, 0.0), (2495, 0.01684227232554772), (2496, 0.016588937962685256), (2497, 0.046661113177593236), (2498, 0.01739674820761725), (2499, 0.005414356903725498), (2500, 0.024749577899417827), (2501, 0.029687819668902896), (2502, 0.014185767355307449), (2503, 0.0), (2504, 0.006555711479883972), (2505, 0.0), (2506, 0.011845191562970113), (2507, 0.031364330943041835), (2508, 0.0), (2509, 0.0), (2510, 0.0), (2511, 0.015293864404696128), (2512, 0.06550757027323913), (2513, 0.004722950895579817), (2514, 0.008446286326607641), (2515, 0.0), (2516, 0.0), (2517, 0.008937066688861723), (2518, 0.0), (2519, 0.0), (2520, 0.008149804245588314), (2521, 0.029724176836572122), (2522, 0.012583420873558404), (2523, 0.0), (2524, 0.0), (2525, 0.008852661608046175), (2526, 0.015931317412974797), (2527, 0.04423060931222242), (2528, 0.0), (2529, 0.0), (2530, 0.015006415319371285), (2531, 0.0), (2532, 0.007580215948493167), (2533, 0.0), (2534, 0.019620873762386522), (2535, 0.0), (2536, 0.0), (2537, 0.020240844236043394), (2538, 0.005625077342342339), (2539, 0.042973549706389884), (2540, 0.02986698349651385), (2541, 0.02923542667185345), (2542, 0.0), (2543, 0.0), (2544, 0.014604109224971011), (2545, 0.0), (2546, 0.0), (2547, 0.0067058563287570195), (2548, 0.0), (2549, 0.01875885728179654), (2550, 0.0), (2551, 0.006822375635270885), (2552, 0.03882554569560623), (2553, 0.009165395622374669), (2554, 0.011910847069385904), (2555, 0.013426320264618184), (2556, 0.0), (2557, 0.0), (2558, 0.0), (2559, 0.015520907658132604), (2560, 0.010790000943582775), (2561, 0.0), (2562, 0.005055514091703303), (2563, 0.07108750013438399), (2564, 0.0), (2565, 0.0), (2566, 0.0), (2567, 0.08022654817161642), (2568, 0.0), (2569, 0.0066347109165898486), (2570, 0.030431856929320055), (2571, 0.017138328874214456), (2572, 0.0), (2573, 0.01871498536199047), (2574, 0.07642499128756543), (2575, 0.007338822912602071), (2576, 0.0057610019310837205), (2577, 0.0), (2578, 0.01658087382407257), (2579, 0.0), (2580, 0.008395670832507092), (2581, 0.04323957882460481), (2582, 0.018017781127718912), (2583, 0.0), (2584, 0.01707778040675216), (2585, 0.0), (2586, 0.0), (2587, 0.013093907938379805), (2588, 0.0), (2589, 0.017458419629912663), (2590, 0.006250520534364684), (2591, 0.0), (2592, 0.0), (2593, 0.014834191323727382), (2594, 0.06230660726596638), (2595, 0.0), (2596, 0.0), (2597, 0.029164389879924004), (2598, 0.0), (2599, 0.019172391969497174), (2600, 0.006424689889217079), (2601, 0.00980457850430625), (2602, 0.0), (2603, 0.035186925896596444), (2604, 0.0), (2605, 0.043109736190492326), (2606, 0.0), (2607, 0.0), (2608, 0.0), (2609, 0.0071618126522655125), (2610, 0.0), (2611, 0.0), (2612, 0.016267509603305697), (2613, 0.0), (2614, 0.017458138026022404), (2615, 0.043962142318079024), (2616, 0.011544183318767734), (2617, 0.05728339042167178), (2618, 0.016894447147117526), (2619, 0.0), (2620, 0.0), (2621, 0.0), (2622, 0.027346488708749568), (2623, 0.0), (2624, 0.0), (2625, 0.00585067115342859), (2626, 0.005588895625107521), (2627, 0.0), (2628, 0.0), (2629, 0.0), (2630, 0.0), (2631, 0.0), (2632, 0.009180303187290174), (2633, 0.0), (2634, 0.004758226628691904), (2635, 0.0), (2636, 0.018806598798482836), (2637, 0.017302608007805004), (2638, 0.0), (2639, 0.0), (2640, 0.01235363725346322), (2641, 0.011313983873515045), (2642, 0.02839138892260322), (2643, 0.0), (2644, 0.025318284749347254), (2645, 0.00655364050047356), (2646, 0.022435890622737806), (2647, 0.011958316950224028), (2648, 0.0), (2649, 0.0), (2650, 0.0), (2651, 0.0), (2652, 0.0), (2653, 0.0), (2654, 0.0), (2655, 0.0), (2656, 0.0), (2657, 0.05559379437101475), (2658, 0.0), (2659, 0.007335284184652207), (2660, 0.0061388334608764245), (2661, 0.0), (2662, 0.0), (2663, 0.009191089117891469), (2664, 0.0), (2665, 0.027738939069574687), (2666, 0.03179078808008838), (2667, 0.006939074626572016), (2668, 0.031456318070225725), (2669, 0.03704557110092488), (2670, 0.005450753407265064), (2671, 0.019276540069790484), (2672, 0.01323360089843818), (2673, 0.0), (2674, 0.004687656408436338), (2675, 0.0), (2676, 0.005839366569265636), (2677, 0.0), (2678, 0.0), (2679, 0.0), (2680, 0.021885047932068278), (2681, 0.014185311109794985), (2682, 0.05617355008245849), (2683, 0.0), (2684, 0.0), (2685, 0.0), (2686, 0.024949807166415407), (2687, 0.009249378693780747), (2688, 0.005760561073123461), (2689, 0.02420235736138395), (2690, 0.0), (2691, 0.03073886738112625), (2692, 0.0), (2693, 0.0), (2694, 0.0), (2695, 0.017683181891171813), (2696, 0.0), (2697, 0.004168919206727335), (2698, 0.009159704039243509), (2699, 0.0), (2700, 0.0), (2701, 0.0), (2702, 0.0), (2703, 0.0), (2704, 0.0), (2705, 0.0), (2706, 0.004841301429233157), (2707, 0.013857209135040228), (2708, 0.01808121416728565), (2709, 0.0), (2710, 0.013275312241219526), (2711, 0.021724335653741125), (2712, 0.010044802782462451), (2713, 0.028944342518491), (2714, 0.00538943874392589), (2715, 0.03219203157286479), (2716, 0.0), (2717, 0.0), (2718, 0.024334613757749497), (2719, 0.0), (2720, 0.02570966151308493), (2721, 0.0), (2722, 0.0), (2723, 0.0), (2724, 0.015762709699249398), (2725, 0.017235261904649482), (2726, 0.0), (2727, 0.0), (2728, 0.016075876232285177), (2729, 0.03152113700561977), (2730, 0.011551061466277013), (2731, 0.0), (2732, 0.0), (2733, 0.03107624319852698), (2734, 0.0), (2735, 0.0), (2736, 0.014049348183113148), (2737, 0.0), (2738, 0.0), (2739, 0.0), (2740, 0.015120147774415369), (2741, 0.006045643809408121), (2742, 0.00472803457927096), (2743, 0.0), (2744, 0.0), (2745, 0.0), (2746, 0.0), (2747, 0.0), (2748, 0.0), (2749, 0.026889522143953702), (2750, 0.01109057280249996), (2751, 0.013744287896364988), (2752, 0.0), (2753, 0.0), (2754, 0.0053388409284783325), (2755, 0.024101416021194155), (2756, 0.02135453570870657), (2757, 0.0), (2758, 0.0), (2759, 0.009160756817416705), (2760, 0.0), (2761, 0.012697196276759292), (2762, 0.0), (2763, 0.031021128583930344), (2764, 0.0), (2765, 0.0), (2766, 0.007459722400224065), (2767, 0.003972929162676839), (2768, 0.04284709536645645), (2769, 0.02956717406133846), (2770, 0.026870210942712032), (2771, 0.0), (2772, 0.006032299852022559), (2773, 0.0), (2774, 0.009434626071850263), (2775, 0.0), (2776, 0.010125401102994407), (2777, 0.004711940564009187), (2778, 0.006157566190394893), (2779, 0.0), (2780, 0.005272747173028014), (2781, 0.0106888339643064), (2782, 0.017897833698727463), (2783, 0.0), (2784, 0.0), (2785, 0.03530236317617935), (2786, 0.0), (2787, 0.004842249725255379), (2788, 0.005184351668834886), (2789, 0.014744827783112348), (2790, 0.018650965101153685), (2791, 0.004670238440639063), (2792, 0.0), (2793, 0.0), (2794, 0.029922712775706902), (2795, 0.006431002949121442), (2796, 0.0), (2797, 0.0), (2798, 0.017934599818717943), (2799, 0.028036999155895918), (2800, 0.0), (2801, 0.008064658944002904), (2802, 0.0), (2803, 0.010744722813132754), (2804, 0.05815864876008873), (2805, 0.0), (2806, 0.023776861530059465), (2807, 0.009222998963497313), (2808, 0.0), (2809, 0.00989564595401659), (2810, 0.056854618992035054), (2811, 0.005576619735415334), (2812, 0.0), (2813, 0.034524725840867035), (2814, 0.0), (2815, 0.021295638792420923), (2816, 0.015266881430032794), (2817, 0.010024655320167164), (2818, 0.0), (2819, 0.005394557272050842), (2820, 0.021485080302607595), (2821, 0.03178829508305634), (2822, 0.010189622585949798), (2823, 0.0), (2824, 0.017282016786657535), (2825, 0.005030653521043225), (2826, 0.021321384697741082), (2827, 0.014956642417616012), (2828, 0.017146489325770373), (2829, 0.00900718224664374), (2830, 0.023894112344920712), (2831, 0.0), (2832, 0.021100412437715082), (2833, 0.014331595358391853), (2834, 0.0), (2835, 0.0), (2836, 0.014640195532021416), (2837, 0.021370375367341515), (2838, 0.0), (2839, 0.0), (2840, 0.0056796085748868535), (2841, 0.0), (2842, 0.004402795629048701), (2843, 0.04026568571251331), (2844, 0.026557176083751098), (2845, 0.008653052528016947), (2846, 0.0), (2847, 0.011657083461073178), (2848, 0.0), (2849, 0.018671476504970412), (2850, 0.04534506969226146), (2851, 0.0), (2852, 0.010498715687225572), (2853, 0.0), (2854, 0.09067406550627027), (2855, 0.0), (2856, 0.01651449639622959), (2857, 0.030921358447594346), (2858, 0.0), (2859, 0.013988699788765817), (2860, 0.0320559210248756), (2861, 0.0), (2862, 0.004745822133041998), (2863, 0.0), (2864, 0.005788486064871912), (2865, 0.0), (2866, 0.014961508146013823), (2867, 0.00523636022607072), (2868, 0.0136510149438298), (2869, 0.0), (2870, 0.0), (2871, 0.0), (2872, 0.0), (2873, 0.0), (2874, 0.018071595780348323), (2875, 0.0), (2876, 0.014750517632729075), (2877, 0.0), (2878, 0.0), (2879, 0.0), (2880, 0.024523602336690844), (2881, 0.005767440743115329), (2882, 0.0), (2883, 0.0), (2884, 0.0), (2885, 0.004773954446716476), (2886, 0.0), (2887, 0.006803524070518483), (2888, 0.012789599380850428), (2889, 0.0), (2890, 0.016281361446329003), (2891, 0.022774760758945658), (2892, 0.0), (2893, 0.0), (2894, 0.0), (2895, 0.014132457308710131), (2896, 0.0), (2897, 0.0), (2898, 0.05144391521717726), (2899, 0.021462281685417604), (2900, 0.024970310836640853), (2901, 0.0), (2902, 0.0), (2903, 0.005710748869229916), (2904, 0.020252346842345455), (2905, 0.0), (2906, 0.0), (2907, 0.0), (2908, 0.011647177224154676), (2909, 0.0), (2910, 0.004982468571919212), (2911, 0.0), (2912, 0.00910319383085978), (2913, 0.00417688663326263), (2914, 0.0), (2915, 0.0), (2916, 0.0), (2917, 0.013267112027877469), (2918, 0.004906104277690643), (2919, 0.0), (2920, 0.006143499263737834), (2921, 0.019762225165997856), (2922, 0.046256006923307925), (2923, 0.0), (2924, 0.0), (2925, 0.0), (2926, 0.0), (2927, 0.029632969932039697), (2928, 0.0), (2929, 0.0), (2930, 0.0), (2931, 0.0), (2932, 0.0), (2933, 0.0), (2934, 0.0), (2935, 0.012872237027951514), (2936, 0.0), (2937, 0.016954153907799648), (2938, 0.0), (2939, 0.0), (2940, 0.012619639730388202), (2941, 0.0), (2942, 0.0209028861418534), (2943, 0.005074069838700704), (2944, 0.030581777867392496), (2945, 0.024520739781328217), (2946, 0.0), (2947, 0.0052194217099266775), (2948, 0.006631575882228122), (2949, 0.0), (2950, 0.044861127429874914), (2951, 0.0), (2952, 0.02021268815504143), (2953, 0.0), (2954, 0.015379784035398799), (2955, 0.04737183853919266), (2956, 0.02403034497882294), (2957, 0.06826516821347531), (2958, 0.004744178210532723), (2959, 0.0053608620111556616), (2960, 0.01204215453827498), (2961, 0.017384442757496423), (2962, 0.02909241805716937), (2963, 0.005437252453498137), (2964, 0.0), (2965, 0.0), (2966, 0.0), (2967, 0.0), (2968, 0.0), (2969, 0.004223555139167664), (2970, 0.01713776944824026), (2971, 0.00443092221037486), (2972, 0.0), (2973, 0.0), (2974, 0.0), (2975, 0.0), (2976, 0.0), (2977, 0.0), (2978, 0.0), (2979, 0.00553255617410146), (2980, 0.0), (2981, 0.05550240544945958), (2982, 0.020187476126206468), (2983, 0.0), (2984, 0.0), (2985, 0.0), (2986, 0.0), (2987, 0.0), (2988, 0.0), (2989, 0.027655449302195385), (2990, 0.006855223812594429), (2991, 0.0), (2992, 0.004748166632442189), (2993, 0.0), (2994, 0.0), (2995, 0.0168120136902624), (2996, 0.0103460729938432), (2997, 0.0), (2998, 0.017725165330693293), (2999, 0.0), (3000, 0.009625679535734727), (3001, 0.06080737956367353), (3002, 0.005146229954370226), (3003, 0.047446879847448914), (3004, 0.0), (3005, 0.017850715513004295), (3006, 0.0), (3007, 0.0), (3008, 0.0), (3009, 0.0), (3010, 0.009065661297423012), (3011, 0.06274026652061834), (3012, 0.0), (3013, 0.0), (3014, 0.025547926645186833), (3015, 0.0), (3016, 0.0), (3017, 0.0), (3018, 0.0), (3019, 0.0), (3020, 0.021440760618371503), (3021, 0.01674153779444423), (3022, 0.03749822162397856), (3023, 0.0), (3024, 0.00421256531824239), (3025, 0.0), (3026, 0.0), (3027, 0.0), (3028, 0.0), (3029, 0.0), (3030, 0.0), (3031, 0.0), (3032, 0.0), (3033, 0.0), (3034, 0.014850912534325803), (3035, 0.0), (3036, 0.0), (3037, 0.0), (3038, 0.0), (3039, 0.0), (3040, 0.03906846772540386), (3041, 0.0), (3042, 0.0), (3043, 0.0), (3044, 0.00555091464479975), (3045, 0.026617864698615528), (3046, 0.02834813577001209), (3047, 0.016108356065178752), (3048, 0.018790672407249034), (3049, 0.0), (3050, 0.0), (3051, 0.025303359530026274), (3052, 0.0), (3053, 0.0), (3054, 0.0), (3055, 0.0), (3056, 0.0), (3057, 0.0), (3058, 0.006654328394436888), (3059, 0.02445904008615072), (3060, 0.027588015074039223), (3061, 0.0), (3062, 0.013089800687111765), (3063, 0.06275489814955026), (3064, 0.005541112558177608), (3065, 0.010028683663387303), (3066, 0.0), (3067, 0.015883654783736444), (3068, 0.015762647861612092), (3069, 0.0), (3070, 0.004548893687484187), (3071, 0.0), (3072, 0.0), (3073, 0.0413337893519041), (3074, 0.019726380382564197), (3075, 0.0), (3076, 0.0), (3077, 0.0), (3078, 0.0), (3079, 0.016348208173957907), (3080, 0.01977229747289225), (3081, 0.0), (3082, 0.024138734032305046), (3083, 0.015657968338986573), (3084, 0.0), (3085, 0.004864809587830777), (3086, 0.0), (3087, 0.018614848199400447), (3088, 0.0), (3089, 0.021552583534140482), (3090, 0.0), (3091, 0.013489129990331573), (3092, 0.0), (3093, 0.0), (3094, 0.05303690418963104), (3095, 0.0), (3096, 0.04636192612688919), (3097, 0.021885111735953373), (3098, 0.01708107584029671), (3099, 0.010501904660068489), (3100, 0.02759884315308491), (3101, 0.0), (3102, 0.0), (3103, 0.0), (3104, 0.016040683357421197), (3105, 0.023350381282034934), (3106, 0.0), (3107, 0.0), (3108, 0.0), (3109, 0.0), (3110, 0.0), (3111, 0.008414326802770995), (3112, 0.005475882764631818), (3113, 0.009588828568600882), (3114, 0.027313694291087123), (3115, 0.030897282472524427), (3116, 0.0), (3117, 0.01077755139148462), (3118, 0.0), (3119, 0.0), (3120, 0.008703939917426204), (3121, 0.015050496179787081), (3122, 0.04247201042939544), (3123, 0.02163705534720539), (3124, 0.01225813645783708), (3125, 0.0), (3126, 0.004876799156680757), (3127, 0.03139980747951664), (3128, 0.0), (3129, 0.01014393076385485), (3130, 0.004645677662795729), (3131, 0.03161001980878954), (3132, 0.03132491907132532), (3133, 0.0436031490865304), (3134, 0.030837249987470255), (3135, 0.011058472654583098), (3136, 0.011011946309924584), (3137, 0.0), (3138, 0.0), (3139, 0.0), (3140, 0.0), (3141, 0.03978693682570608), (3142, 0.0), (3143, 0.0047295143503489605), (3144, 0.0), (3145, 0.020888657440505897), (3146, 0.0), (3147, 0.0), (3148, 0.0), (3149, 0.017035577829868805), (3150, 0.015437608732130362), (3151, 0.0), (3152, 0.012575948585743782), (3153, 0.0), (3154, 0.0), (3155, 0.0), (3156, 0.02685764290209151), (3157, 0.0), (3158, 0.019881816124944513), (3159, 0.0), (3160, 0.023372503699089373), (3161, 0.005023710611106696), (3162, 0.009803274632848503), (3163, 0.012850992836967763), (3164, 0.0), (3165, 0.005848978727539731), (3166, 0.045582106843188405), (3167, 0.0), (3168, 0.005734181194491013), (3169, 0.02034663847185911), (3170, 0.0), (3171, 0.0), (3172, 0.013747932440329834), (3173, 0.0), (3174, 0.03297970768867863), (3175, 0.01007412478772634), (3176, 0.0), (3177, 0.0), (3178, 0.0), (3179, 0.0), (3180, 0.0393841405888697), (3181, 0.02487913214443921), (3182, 0.025517911538121718), (3183, 0.010294850023146819), (3184, 0.0), (3185, 0.034525640694292745), (3186, 0.0), (3187, 0.0), (3188, 0.0), (3189, 0.0), (3190, 0.0), (3191, 0.023504748149873224), (3192, 0.005625703384646576), (3193, 0.02775450914784456), (3194, 0.05266764415497982), (3195, 0.00925175780799447), (3196, 0.0), (3197, 0.0), (3198, 0.0), (3199, 0.0), (3200, 0.0), (3201, 0.032571049850073995), (3202, 0.012837100679365419), (3203, 0.0), (3204, 0.023642122315568476), (3205, 0.008782408347733518), (3206, 0.014285092577218318), (3207, 0.0), (3208, 0.007058324671908095), (3209, 0.0), (3210, 0.005136618466314347), (3211, 0.0), (3212, 0.02076631269201636), (3213, 0.004268681901167917), (3214, 0.0), (3215, 0.034020864247211714), (3216, 0.0), (3217, 0.0), (3218, 0.0), (3219, 0.02201224123398147), (3220, 0.0), (3221, 0.005695606195966518), (3222, 0.0), (3223, 0.018940972796460953), (3224, 0.009787897261322558), (3225, 0.023396248258345794), (3226, 0.0), (3227, 0.005134573067082979), (3228, 0.0), (3229, 0.009763918563659794), (3230, 0.0), (3231, 0.03031652025425869), (3232, 0.027347160900788817), (3233, 0.01824901637957443), (3234, 0.0), (3235, 0.020757214497247007), (3236, 0.0), (3237, 0.0), (3238, 0.0138367398861569), (3239, 0.0), (3240, 0.0), (3241, 0.00531266035541604), (3242, 0.0), (3243, 0.0), (3244, 0.008612103766029167), (3245, 0.0), (3246, 0.0), (3247, 0.020649051826914858), (3248, 0.0), (3249, 0.0), (3250, 0.0), (3251, 0.0), (3252, 0.023501012112334418), (3253, 0.00579095122933854), (3254, 0.0), (3255, 0.0), (3256, 0.010959071446513242), (3257, 0.0), (3258, 0.0), (3259, 0.005370508217314466), (3260, 0.0), (3261, 0.0), (3262, 0.0), (3263, 0.005547697089024739), (3264, 0.0), (3265, 0.0), (3266, 0.0), (3267, 0.0046206891043370415), (3268, 0.0), (3269, 0.0), (3270, 0.08222565462322233), (3271, 0.0), (3272, 0.006833829970946254), (3273, 0.0), (3274, 0.0), (3275, 0.026594531911254875), (3276, 0.01782291999019297), (3277, 0.0), (3278, 0.0), (3279, 0.008055841943711627), (3280, 0.0), (3281, 0.0), (3282, 0.0), (3283, 0.0), (3284, 0.038033591717244845), (3285, 0.024151656032728102), (3286, 0.006518955845395365), (3287, 0.006941340208037505), (3288, 0.0), (3289, 0.0), (3290, 0.0), (3291, 0.0), (3292, 0.0), (3293, 0.0), (3294, 0.016361120358051394), (3295, 0.01463187649939135), (3296, 0.0), (3297, 0.005411015055770853), (3298, 0.04893724974770759), (3299, 0.01934832120595609), (3300, 0.025505080736086688), (3301, 0.0), (3302, 0.01145459912113312), (3303, 0.032692818879730974), (3304, 0.0), (3305, 0.0186927583797101), (3306, 0.004668592426999212), (3307, 0.0), (3308, 0.0), (3309, 0.0), (3310, 0.005312422588060799), (3311, 0.013110722127593916), (3312, 0.005914683743203633), (3313, 0.021109582370454353), (3314, 0.0), (3315, 0.0), (3316, 0.023033482856531652), (3317, 0.0), (3318, 0.0), (3319, 0.01651297207875611), (3320, 0.017659758792286366), (3321, 0.015584772231786226), (3322, 0.0), (3323, 0.13286195649325339), (3324, 0.0), (3325, 0.0), (3326, 0.0), (3327, 0.006022657846418513), (3328, 0.007760482566436541), (3329, 0.008594712466911503), (3330, 0.0), (3331, 0.01478694980887261), (3332, 0.03803623433650213), (3333, 0.0), (3334, 0.0), (3335, 0.0), (3336, 0.034161018646129464), (3337, 0.017024872650677616), (3338, 0.008758730885627349), (3339, 0.004382404105624196), (3340, 0.005047947101846288), (3341, 0.0), (3342, 0.01246990849977204), (3343, 0.005087221234495748), (3344, 0.007984159138102196), (3345, 0.0), (3346, 0.006696633350005133), (3347, 0.0), (3348, 0.0), (3349, 0.0), (3350, 0.0), (3351, 0.0), (3352, 0.0), (3353, 0.0386045196672619), (3354, 0.0), (3355, 0.0), (3356, 0.013320794296331678), (3357, 0.03477396887322535), (3358, 0.01951971138213747), (3359, 0.018711490834298707), (3360, 0.026890446512678207), (3361, 0.04193591850573389), (3362, 0.0), (3363, 0.018401712816478358), (3364, 0.0), (3365, 0.010220981663941222), (3366, 0.04807207687798134), (3367, 0.06988999767419121), (3368, 0.022290561458373957), (3369, 0.0), (3370, 0.00912553223750125), (3371, 0.01634480659701446), (3372, 0.0), (3373, 0.005731570653771344), (3374, 0.01969685566025161), (3375, 0.016328727988452196), (3376, 0.0), (3377, 0.007857095863150882), (3378, 0.0), (3379, 0.0), (3380, 0.022236790874397356), (3381, 0.01588635053023254), (3382, 0.018429043547861724), (3383, 0.005766147381038655), (3384, 0.02326832646379939), (3385, 0.01988131771663187), (3386, 0.0), (3387, 0.0074146997244593175), (3388, 0.0), (3389, 0.047297246239101955), (3390, 0.0), (3391, 0.0), (3392, 0.0), (3393, 0.008085615027111453), (3394, 0.005855696248870936), (3395, 0.0061682259632214), (3396, 0.0), (3397, 0.0060258423575736565), (3398, 0.0), (3399, 0.008783280528440254), (3400, 0.009193977026816819), (3401, 0.0), (3402, 0.0), (3403, 0.0), (3404, 0.012012577098812607), (3405, 0.025111978818302648), (3406, 0.0), (3407, 0.0), (3408, 0.0956493747693508), (3409, 0.0), (3410, 0.0), (3411, 0.008248213582374504), (3412, 0.02639383191066501), (3413, 0.0), (3414, 0.037678303310235264), (3415, 0.0), (3416, 0.005087606255335039), (3417, 0.0), (3418, 0.0), (3419, 0.01362548478412075), (3420, 0.008704374922565533), (3421, 0.011653082624038455), (3422, 0.0), (3423, 0.01688291601538491), (3424, 0.005579331674874631), (3425, 0.0), (3426, 0.006246082879054125), (3427, 0.029657316606508655), (3428, 0.0687240672080485), (3429, 0.003462316117120466), (3430, 0.0), (3431, 0.0), (3432, 0.005055068644493795), (3433, 0.0), (3434, 0.0), (3435, 0.0), (3436, 0.0), (3437, 0.0), (3438, 0.01260453662559161), (3439, 0.008709009259655365), (3440, 0.005916708730204961), (3441, 0.005050546212949562), (3442, 0.0), (3443, 0.021636595468252653), (3444, 0.0074013653656590786), (3445, 0.005215242011787816), (3446, 0.0), (3447, 0.009186554937641976), (3448, 0.014322819930845141), (3449, 0.0), (3450, 0.005914270790123219), (3451, 0.005458185696254104), (3452, 0.0417765227567697), (3453, 0.025112241841786596), (3454, 0.02598253222794108), (3455, 0.0), (3456, 0.04657121304370902), (3457, 0.0), (3458, 0.0), (3459, 0.013169798911955657), (3460, 0.0), (3461, 0.007157200264942387), (3462, 0.0), (3463, 0.030478208763291194), (3464, 0.005397012523983681), (3465, 0.004836938187116536), (3466, 0.06595956650654046), (3467, 0.048966310504703306), (3468, 0.07906619615212551), (3469, 0.03308750478680212), (3470, 0.0), (3471, 0.0), (3472, 0.00645152037928258), (3473, 0.0), (3474, 0.0), (3475, 0.0), (3476, 0.0), (3477, 0.016702215648129917), (3478, 0.0), (3479, 0.0), (3480, 0.021817468021805668), (3481, 0.0), (3482, 0.006755591315114707), (3483, 0.05023628679564955), (3484, 0.014752131300585223), (3485, 0.0), (3486, 0.01205513203419707), (3487, 0.009039026563020604), (3488, 0.0), (3489, 0.0), (3490, 0.0), (3491, 0.0), (3492, 0.02144296509529213), (3493, 0.0), (3494, 0.0), (3495, 0.0), (3496, 0.0), (3497, 0.0), (3498, 0.030695241605937354), (3499, 0.0), (3500, 0.0), (3501, 0.0), (3502, 0.045038775326883454), (3503, 0.009014907111990088), (3504, 0.016916480432213044), (3505, 0.0), (3506, 0.0), (3507, 0.005278984994319262), (3508, 0.019162189390172488), (3509, 0.030589349262570426), (3510, 0.017333427189424027), (3511, 0.0), (3512, 0.0), (3513, 0.023920878483730174), (3514, 0.023754161257552236), (3515, 0.1001467481147079), (3516, 0.024830558926158867), (3517, 0.01527733733847409), (3518, 0.0), (3519, 0.0), (3520, 0.03044828438303819), (3521, 0.0), (3522, 0.005211828436988149), (3523, 0.02115149485750144), (3524, 0.02290913817417741), (3525, 0.0044271854105398765), (3526, 0.009076889655042837), (3527, 0.0), (3528, 0.021031578863109513), (3529, 0.010330578747672728), (3530, 0.03368690207469291), (3531, 0.004939233256122891), (3532, 0.0340175480630626), (3533, 0.025782223659286212), (3534, 0.0), (3535, 0.0), (3536, 0.0), (3537, 0.03984763623589516), (3538, 0.01282033310506424), (3539, 0.026687813408413787), (3540, 0.017209262323774517), (3541, 0.0), (3542, 0.018149501243996523), (3543, 0.0), (3544, 0.0), (3545, 0.0), (3546, 0.005009518611388316), (3547, 0.0), (3548, 0.0), (3549, 0.0), (3550, 0.049353059850419864), (3551, 0.0), (3552, 0.0), (3553, 0.0), (3554, 0.006164437012434894), (3555, 0.01144315880180979), (3556, 0.004553247522021706), (3557, 0.0), (3558, 0.008679389128619696), (3559, 0.043104657717563076), (3560, 0.013266093778989482), (3561, 0.0), (3562, 0.0), (3563, 0.0), (3564, 0.0), (3565, 0.0), (3566, 0.02016690964476059), (3567, 0.006433088792094214), (3568, 0.011323192499442632), (3569, 0.0), (3570, 0.0), (3571, 0.0), (3572, 0.0), (3573, 0.0), (3574, 0.010313782847971685), (3575, 0.0), (3576, 0.018016347899614718), (3577, 0.0), (3578, 0.016949897754236422), (3579, 0.00802474730929453), (3580, 0.0), (3581, 0.017674759120361067), (3582, 0.011374132780967779), (3583, 0.017149030186269256), (3584, 0.0), (3585, 0.023543865313198138), (3586, 0.012706500886111497), (3587, 0.007563663914441084), (3588, 0.00625671016459895), (3589, 0.00866951372199222), (3590, 0.0), (3591, 0.00531485316296595), (3592, 0.0), (3593, 0.005684619189356099), (3594, 0.03236539048644116), (3595, 0.02184417569895257), (3596, 0.0), (3597, 0.012083516289461114), (3598, 0.02085432749254199), (3599, 0.0), (3600, 0.010646495251311125), (3601, 0.0), (3602, 0.005007128890809646), (3603, 0.005189560125356372), (3604, 0.005593231095520247), (3605, 0.03792831396230805), (3606, 0.0), (3607, 0.011296119736851275), (3608, 0.0), (3609, 0.004788307736323977), (3610, 0.0), (3611, 0.0), (3612, 0.0), (3613, 0.0), (3614, 0.0), (3615, 0.0), (3616, 0.021962654499692338), (3617, 0.0), (3618, 0.0), (3619, 0.028830814132645884), (3620, 0.0), (3621, 0.0), (3622, 0.0), (3623, 0.023552339806642373), (3624, 0.0), (3625, 0.017267884935697968), (3626, 0.0), (3627, 0.0), (3628, 0.012911197927060771), (3629, 0.011532978031540395), (3630, 0.0322143234465754), (3631, 0.0), (3632, 0.0), (3633, 0.0), (3634, 0.014998114376562262), (3635, 0.037701007440456805), (3636, 0.0), (3637, 0.012674963641594608), (3638, 0.03264781047191151), (3639, 0.0), (3640, 0.0), (3641, 0.023616526381705118), (3642, 0.005522114672246349), (3643, 0.0), (3644, 0.0), (3645, 0.003838342364984528), (3646, 0.0), (3647, 0.0), (3648, 0.016635935363899405), (3649, 0.0), (3650, 0.0), (3651, 0.010754697181394218), (3652, 0.0), (3653, 0.0), (3654, 0.0), (3655, 0.0), (3656, 0.017944737729063742), (3657, 0.00996362727412033), (3658, 0.0042791573496783605), (3659, 0.010246322976259443), (3660, 0.004910751126485673), (3661, 0.0), (3662, 0.014747512682114137), (3663, 0.0), (3664, 0.0), (3665, 0.02699827687975506), (3666, 0.0), (3667, 0.0), (3668, 0.012267734304417827), (3669, 0.0), (3670, 0.0), (3671, 0.021984485171663647), (3672, 0.035595468660114586), (3673, 0.05361372933438348), (3674, 0.007935866838532103), (3675, 0.0), (3676, 0.005146115243535294), (3677, 0.0), (3678, 0.03750828629134769), (3679, 0.0), (3680, 0.005758477974930613), (3681, 0.0), (3682, 0.0), (3683, 0.02778137046631467), (3684, 0.018373190912204497), (3685, 0.023989674807656555), (3686, 0.0), (3687, 0.0), (3688, 0.019655447480905697), (3689, 0.0), (3690, 0.030194259980367552), (3691, 0.0), (3692, 0.024582518944923262), (3693, 0.025208920668098714), (3694, 0.0), (3695, 0.017627382027102644), (3696, 0.0), (3697, 0.013007231288297422), (3698, 0.0050577007068472795), (3699, 0.0), (3700, 0.01121479609275916), (3701, 0.0), (3702, 0.044216395180817915), (3703, 0.007600895219149756), (3704, 0.0), (3705, 0.02374872155511076), (3706, 0.020661113685843474), (3707, 0.00518287740034239), (3708, 0.005879673179421161), (3709, 0.03299728420591964), (3710, 0.005413778618682901), (3711, 0.0), (3712, 0.0), (3713, 0.016234200996838966), (3714, 0.03779995102615931), (3715, 0.006571124728839006), (3716, 0.00844958792590485), (3717, 0.0), (3718, 0.0571192860618575), (3719, 0.0), (3720, 0.022032708422252346), (3721, 0.0), (3722, 0.0), (3723, 0.0048058625323222455), (3724, 0.02420859498787658), (3725, 0.0), (3726, 0.006056399999628036), (3727, 0.0), (3728, 0.015777972767437743), (3729, 0.0), (3730, 0.0), (3731, 0.008017453932551223), (3732, 0.014979560406769602), (3733, 0.0), (3734, 0.021533826779831417), (3735, 0.023757451309511513), (3736, 0.0), (3737, 0.0), (3738, 0.004657835053026629), (3739, 0.0), (3740, 0.0), (3741, 0.005915273039577137), (3742, 0.015436129531694502), (3743, 0.03057103130691769), (3744, 0.03595759906309511), (3745, 0.0), (3746, 0.00925467509484329), (3747, 0.06675650522517815), (3748, 0.0), (3749, 0.03050272473844451), (3750, 0.0), (3751, 0.0), (3752, 0.007986852308696201), (3753, 0.0), (3754, 0.010902774085065407), (3755, 0.0), (3756, 0.0), (3757, 0.0), (3758, 0.0), (3759, 0.0), (3760, 0.0), (3761, 0.0), (3762, 0.0), (3763, 0.030472182682226352), (3764, 0.0), (3765, 0.0), (3766, 0.0), (3767, 0.0), (3768, 0.0), (3769, 0.03578619699847553), (3770, 0.0), (3771, 0.005515675200062588), (3772, 0.0), (3773, 0.028897238500133635), (3774, 0.0), (3775, 0.046156721033676656), (3776, 0.004361309036036593), (3777, 0.0), (3778, 0.016700891610901162), (3779, 0.0), (3780, 0.0), (3781, 0.0), (3782, 0.022717068611049003), (3783, 0.027866447498216894), (3784, 0.0), (3785, 0.0059344983781688355), (3786, 0.011328579892689716), (3787, 0.0516817748445867), (3788, 0.01820108180621349), (3789, 0.0), (3790, 0.033390981436846774), (3791, 0.0), (3792, 0.0), (3793, 0.0), (3794, 0.01372778589471502), (3795, 0.06498162438759361), (3796, 0.0), (3797, 0.019629735632788768), (3798, 0.030646952122224062), (3799, 0.0), (3800, 0.0), (3801, 0.0), (3802, 0.03529398428106976), (3803, 0.005874683756348597), (3804, 0.0), (3805, 0.006694955072542885), (3806, 0.0), (3807, 0.021059706477889364), (3808, 0.0), (3809, 0.0), (3810, 0.0), (3811, 0.0), (3812, 0.0), (3813, 0.0), (3814, 0.005008843577351117), (3815, 0.0), (3816, 0.0), (3817, 0.05326234987437664), (3818, 0.0), (3819, 0.01590368342000691), (3820, 0.0), (3821, 0.0), (3822, 0.027123147575954545), (3823, 0.02431061912735482), (3824, 0.0), (3825, 0.0), (3826, 0.006455134179359864), (3827, 0.0), (3828, 0.0), (3829, 0.008739054748389258), (3830, 0.0), (3831, 0.0), (3832, 0.0), (3833, 0.0), (3834, 0.03161282861482671), (3835, 0.0), (3836, 0.0), (3837, 0.0), (3838, 0.0), (3839, 0.0), (3840, 0.08749017163494882), (3841, 0.0), (3842, 0.0), (3843, 0.04542754299703032), (3844, 0.0), (3845, 0.04771627254727365), (3846, 0.012581987751185523), (3847, 0.08007834982253573), (3848, 0.0), (3849, 0.06062714067439516), (3850, 0.040167694836173794), (3851, 0.03309247380447233), (3852, 0.014009451525980514), (3853, 0.0), (3854, 0.008693814708028503), (3855, 0.0), (3856, 0.02843921844744332), (3857, 0.0), (3858, 0.0), (3859, 0.0), (3860, 0.004617110859029837), (3861, 0.0), (3862, 0.005318449115508629), (3863, 0.0), (3864, 0.0), (3865, 0.005988042945318755), (3866, 0.0), (3867, 0.03083157862561686), (3868, 0.0), (3869, 0.03238828154978573), (3870, 0.012343373258202098), (3871, 0.041369825179281616), (3872, 0.0), (3873, 0.01896784835522464), (3874, 0.0), (3875, 0.0), (3876, 0.0), (3877, 0.007475857399187697), (3878, 0.0), (3879, 0.03263294161743129), (3880, 0.0), (3881, 0.0), (3882, 0.009894462467692027), (3883, 0.0), (3884, 0.0), (3885, 0.03741452615389705), (3886, 0.01703584646457964), (3887, 0.0), (3888, 0.03215089981485369), (3889, 0.05494261090373927), (3890, 0.015555140773894615), (3891, 0.0139727761457229), (3892, 0.0), (3893, 0.0), (3894, 0.008245130655581029), (3895, 0.0), (3896, 0.0), (3897, 0.04846863122751947), (3898, 0.0), (3899, 0.0), (3900, 0.017057543917861455), (3901, 0.0), (3902, 0.0), (3903, 0.007690885049406438), (3904, 0.0), (3905, 0.0), (3906, 0.0), (3907, 0.030653525500829303), (3908, 0.023131645295480577), (3909, 0.0), (3910, 0.0), (3911, 0.0), (3912, 0.0), (3913, 0.0), (3914, 0.0), (3915, 0.0), (3916, 0.0), (3917, 0.011357600821558657), (3918, 0.0), (3919, 0.01854352255836518), (3920, 0.0), (3921, 0.0), (3922, 0.0), (3923, 0.02714785629778132), (3924, 0.010334452226233826), (3925, 0.0), (3926, 0.0), (3927, 0.0), (3928, 0.0), (3929, 0.0), (3930, 0.0), (3931, 0.017260295646987323), (3932, 0.0), (3933, 0.0), (3934, 0.0), (3935, 0.0), (3936, 0.0), (3937, 0.045027637979469154), (3938, 0.0), (3939, 0.0), (3940, 0.035525474508981275), (3941, 0.0), (3942, 0.0), (3943, 0.010105269956634156), (3944, 0.0), (3945, 0.0), (3946, 0.003949081776109489), (3947, 0.005884771875191463), (3948, 0.0), (3949, 0.03845599738368884), (3950, 0.0), (3951, 0.01721642224956079), (3952, 0.0), (3953, 0.004633340291436092), (3954, 0.01837667889122307), (3955, 0.022784049390082866), (3956, 0.0), (3957, 0.014621235727128836), (3958, 0.004367002016710183), (3959, 0.0), (3960, 0.028885975700112105), (3961, 0.01774654065202549), (3962, 0.0), (3963, 0.011718473967911886), (3964, 0.0), (3965, 0.060363725545423345), (3966, 0.04102103834178883), (3967, 0.0), (3968, 0.04791110621805293), (3969, 0.0), (3970, 0.008991618691566537), (3971, 0.0), (3972, 0.04460872712495826), (3973, 0.015709462133126986), (3974, 0.0), (3975, 0.0), (3976, 0.0), (3977, 0.03191034326622999), (3978, 0.00485721017997087), (3979, 0.01253538282292637), (3980, 0.00947178349003298), (3981, 0.0), (3982, 0.029538307491473147), (3983, 0.007043124964359606), (3984, 0.0), (3985, 0.0), (3986, 0.0), (3987, 0.0), (3988, 0.0), (3989, 0.0), (3990, 0.0), (3991, 0.020246833912217675), (3992, 0.0), (3993, 0.00470499191804806), (3994, 0.01723845258111575), (3995, 0.0), (3996, 0.03335584844407894), (3997, 0.024305964992644886), (3998, 0.021995742485280332), (3999, 0.0), (4000, 0.0), (4001, 0.0051009446639803), (4002, 0.0), (4003, 0.0), (4004, 0.0), (4005, 0.0054413540033322995), (4006, 0.02795913960123012), (4007, 0.023950490449461286), (4008, 0.0), (4009, 0.006204078586647187), (4010, 0.0), (4011, 0.0), (4012, 0.004806114980091062), (4013, 0.0), (4014, 0.017948172365566856), (4015, 0.026588731165786948), (4016, 0.006695996284572634), (4017, 0.0), (4018, 0.007559631577370605), (4019, 0.0), (4020, 0.004995848054817255), (4021, 0.0), (4022, 0.0), (4023, 0.0), (4024, 0.0), (4025, 0.0), (4026, 0.0), (4027, 0.0), (4028, 0.0), (4029, 0.0), (4030, 0.0), (4031, 0.025097350968111897), (4032, 0.03493988982199571), (4033, 0.032649747345052445), (4034, 0.007449177386099249), (4035, 0.0), (4036, 0.006560653704077835), (4037, 0.004824100403517728), (4038, 0.005444173783332476), (4039, 0.0049640974857084125), (4040, 0.0), (4041, 0.029883875350232358), (4042, 0.0), (4043, 0.021703087625927354), (4044, 0.004620517643810017), (4045, 0.03931994956763117), (4046, 0.025029204117684778), (4047, 0.0), (4048, 0.0), (4049, 0.0), (4050, 0.0), (4051, 0.0), (4052, 0.0), (4053, 0.0), (4054, 0.046638348419834025), (4055, 0.023957631632240177), (4056, 0.011743054563144246), (4057, 0.0), (4058, 0.0), (4059, 0.013798290250954767), (4060, 0.0), (4061, 0.0), (4062, 0.0), (4063, 0.016370647139821323), (4064, 0.0), (4065, 0.0), (4066, 0.0), (4067, 0.0), (4068, 0.033594664013197925), (4069, 0.0), (4070, 0.04639801501104017), (4071, 0.0), (4072, 0.0), (4073, 0.0), (4074, 0.014503059349623287), (4075, 0.0), (4076, 0.03647186856428806), (4077, 0.05401000818245392), (4078, 0.0), (4079, 0.009745785754924328), (4080, 0.0), (4081, 0.0), (4082, 0.0), (4083, 0.029206870866020775), (4084, 0.0), (4085, 0.0), (4086, 0.0072658114544889236), (4087, 0.019283441708932765), (4088, 0.02169570177780204), (4089, 0.06765076085936789), (4090, 0.0), (4091, 0.032464229320889985), (4092, 0.0), (4093, 0.021656032447797013), (4094, 0.01091501448627858), (4095, 0.004321677768330686), (4096, 0.0), (4097, 0.0), (4098, 0.0052199072168094005), (4099, 0.011803735806487622), (4100, 0.04144434406603904), (4101, 0.0), (4102, 0.02041458366591689), (4103, 0.06797236193435138), (4104, 0.0), (4105, 0.0), (4106, 0.0), (4107, 0.0), (4108, 0.0), (4109, 0.008506539191866579), (4110, 0.0), (4111, 0.0), (4112, 0.011524595790977695), (4113, 0.0), (4114, 0.031179385070607038), (4115, 0.0), (4116, 0.005551842249512617), (4117, 0.010731770347529954), (4118, 0.007240743817151336), (4119, 0.005659895526568052), (4120, 0.0), (4121, 0.0057918975240412625), (4122, 0.018000079127725183), (4123, 0.0), (4124, 0.0), (4125, 0.0), (4126, 0.0), (4127, 0.0), (4128, 0.0441388431129361), (4129, 0.0), (4130, 0.012904817237559423), (4131, 0.005449487202291446), (4132, 0.0), (4133, 0.0), (4134, 0.026721491909578263), (4135, 0.0), (4136, 0.0), (4137, 0.0), (4138, 0.0), (4139, 0.01712963777388556), (4140, 0.0), (4141, 0.0), (4142, 0.015095106061783832), (4143, 0.044779648499517516), (4144, 0.005645654625730543), (4145, 0.0), (4146, 0.0), (4147, 0.011447283562931664), (4148, 0.005072445513456977), (4149, 0.0), (4150, 0.0), (4151, 0.0), (4152, 0.02333047025106282), (4153, 0.02692444637329425), (4154, 0.01602906288732178), (4155, 0.00898145055428829), (4156, 0.0), (4157, 0.0), (4158, 0.02647432523833672), (4159, 0.0), (4160, 0.007528202524318609), (4161, 0.0), (4162, 0.0), (4163, 0.0), (4164, 0.0), (4165, 0.016358480772545297), (4166, 0.020757333601969963), (4167, 0.0), (4168, 0.04307230683981862), (4169, 0.01001437687036972), (4170, 0.0), (4171, 0.059207130770976606), (4172, 0.0), (4173, 0.0), (4174, 0.026603020688010258), (4175, 0.0), (4176, 0.0), (4177, 0.0), (4178, 0.0), (4179, 0.0), (4180, 0.0), (4181, 0.03256747751644834), (4182, 0.0), (4183, 0.0), (4184, 0.0), (4185, 0.005710550337415212), (4186, 0.021873314704105966), (4187, 0.0), (4188, 0.011731256047087016), (4189, 0.0), (4190, 0.0), (4191, 0.0), (4192, 0.0), (4193, 0.010737346818864799), (4194, 0.027916934752924623), (4195, 0.006710402143603137), (4196, 0.014622199265050583), (4197, 0.0), (4198, 0.0), (4199, 0.014647195358174917), (4200, 0.0121991883752638), (4201, 0.0), (4202, 0.007120590250071042), (4203, 0.0), (4204, 0.0), (4205, 0.0), (4206, 0.0), (4207, 0.019167304832245446), (4208, 0.0), (4209, 0.0), (4210, 0.01197575271873728), (4211, 0.01158991245528719), (4212, 0.023017048124617343), (4213, 0.0), (4214, 0.0), (4215, 0.0), (4216, 0.0), (4217, 0.0), (4218, 0.006567845479201752), (4219, 0.0), (4220, 0.0), (4221, 0.02830522276627812), (4222, 0.0), (4223, 0.0), (4224, 0.011546896395473261), (4225, 0.0), (4226, 0.0), (4227, 0.0), (4228, 0.0), (4229, 0.0), (4230, 0.0), (4231, 0.0), (4232, 0.0), (4233, 0.005393625041671313), (4234, 0.0), (4235, 0.0), (4236, 0.010919220593935124), (4237, 0.0), (4238, 0.03447741179470901), (4239, 0.0), (4240, 0.038729515201357076), (4241, 0.014334123409825763), (4242, 0.011679468426853962), (4243, 0.0), (4244, 0.005833921749374263), (4245, 0.0), (4246, 0.0), (4247, 0.0), (4248, 0.021806229993556477), (4249, 0.005254265562042776), (4250, 0.01848625129727062), (4251, 0.0), (4252, 0.0), (4253, 0.0), (4254, 0.0), (4255, 0.0364185851007831), (4256, 0.0), (4257, 0.0235977885199515), (4258, 0.0), (4259, 0.0), (4260, 0.0), (4261, 0.04449800934128255), (4262, 0.0), (4263, 0.017708836826585868), (4264, 0.02249894817898524), (4265, 0.0), (4266, 0.01789973845188034), (4267, 0.0), (4268, 0.009363316302994373), (4269, 0.026146399119411627), (4270, 0.012527949550934447), (4271, 0.0), (4272, 0.011201022081076633), (4273, 0.0), (4274, 0.06424558893936931), (4275, 0.016670760683897293), (4276, 0.02644514285940914), (4277, 0.022944651776827082), (4278, 0.0), (4279, 0.0), (4280, 0.0), (4281, 0.0), (4282, 0.0), (4283, 0.012035247068976743), (4284, 0.0), (4285, 0.026792896504162573), (4286, 0.0), (4287, 0.0), (4288, 0.006831283329197601), (4289, 0.012566570591934667), (4290, 0.0), (4291, 0.0), (4292, 0.015183944273857655), (4293, 0.005682465939589282), (4294, 0.012092525037966803), (4295, 0.0), (4296, 0.0), (4297, 0.0), (4298, 0.0), (4299, 0.032079280271663874), (4300, 0.0067669664810048585), (4301, 0.0), (4302, 0.022294448047916336), (4303, 0.006447686717444768), (4304, 0.0), (4305, 0.014936650144595196), (4306, 0.0), (4307, 0.03779040768647721), (4308, 0.0), (4309, 0.0), (4310, 0.00509753100873149), (4311, 0.0), (4312, 0.024529546409893747), (4313, 0.0), (4314, 0.0), (4315, 0.0), (4316, 0.0), (4317, 0.0), (4318, 0.0), (4319, 0.0), (4320, 0.0), (4321, 0.0), (4322, 0.0), (4323, 0.007072505473649356), (4324, 0.0), (4325, 0.03150370461475165), (4326, 0.0), (4327, 0.0), (4328, 0.004757238512576882), (4329, 0.0), (4330, 0.0), (4331, 0.0), (4332, 0.0), (4333, 0.0), (4334, 0.01833404727466666), (4335, 0.0), (4336, 0.0), (4337, 0.0), (4338, 0.02200160723204536), (4339, 0.06236241752338298), (4340, 0.0), (4341, 0.025467314283667882), (4342, 0.0), (4343, 0.008315591582008522), (4344, 0.015163444379579286), (4345, 0.004830341007367038), (4346, 0.020580014576267795), (4347, 0.03622797683590425), (4348, 0.0), (4349, 0.0), (4350, 0.015918980564049372), (4351, 0.00720058979394637), (4352, 0.0), (4353, 0.004422358247758163), (4354, 0.007024064662233499), (4355, 0.0), (4356, 0.0), (4357, 0.0), (4358, 0.0), (4359, 0.0), (4360, 0.0), (4361, 0.0), (4362, 0.0), (4363, 0.0), (4364, 0.02447656793842984), (4365, 0.015624473572693896), (4366, 0.0), (4367, 0.0), (4368, 0.0), (4369, 0.0), (4370, 0.0), (4371, 0.020880186120332673), (4372, 0.0), (4373, 0.017187087048986915), (4374, 0.008924062475965907), (4375, 0.0), (4376, 0.0052209500097089075), (4377, 0.0), (4378, 0.02757318487277282), (4379, 0.005276181770772635), (4380, 0.009567479241250204), (4381, 0.0), (4382, 0.0), (4383, 0.017800817284923876), (4384, 0.005393683075655158), (4385, 0.016947449509680593), (4386, 0.0), (4387, 0.0), (4388, 0.034642950376782035), (4389, 0.018217017784550284), (4390, 0.00529175645555069), (4391, 0.017926855038346106), (4392, 0.005362257856688693), (4393, 0.005744637549628656), (4394, 0.0), (4395, 0.015641722560498495), (4396, 0.0), (4397, 0.0), (4398, 0.0), (4399, 0.0), (4400, 0.0), (4401, 0.027320956677042055), (4402, 0.0), (4403, 0.0), (4404, 0.025592625171696515), (4405, 0.014646513530411125), (4406, 0.018763126677129725), (4407, 0.0), (4408, 0.0), (4409, 0.0), (4410, 0.015252826441231989), (4411, 0.0), (4412, 0.0), (4413, 0.0), (4414, 0.0), (4415, 0.0), (4416, 0.0), (4417, 0.0), (4418, 0.008818515510282747), (4419, 0.012308659576078844), (4420, 0.009913201796026255), (4421, 0.0), (4422, 0.0), (4423, 0.0), (4424, 0.0), (4425, 0.0), (4426, 0.008111832687208139), (4427, 0.0), (4428, 0.006375748102590348), (4429, 0.004421498421319005), (4430, 0.005331672944869676), (4431, 0.0), (4432, 0.00445721721262978), (4433, 0.0), (4434, 0.03077511168304884), (4435, 0.005116666051515594), (4436, 0.00549118376125927), (4437, 0.0), (4438, 0.0), (4439, 0.01085154050400166), (4440, 0.0065124324068614806), (4441, 0.00893058701285182), (4442, 0.0), (4443, 0.006238268044248053), (4444, 0.027732464903558157), (4445, 0.010880527512641784), (4446, 0.029772538893396785), (4447, 0.0046200548613142), (4448, 0.0), (4449, 0.0), (4450, 0.00451415452586609), (4451, 0.011092216299076349), (4452, 0.0), (4453, 0.04196643424919721), (4454, 0.0077463783239592465), (4455, 0.08129106828805603), (4456, 0.01215920888007996), (4457, 0.03164737059332215), (4458, 0.0), (4459, 0.0), (4460, 0.0), (4461, 0.0), (4462, 0.005754758958460164), (4463, 0.0), (4464, 0.0), (4465, 0.0), (4466, 0.025463032169440257), (4467, 0.0252591050727834), (4468, 0.03019471731047902), (4469, 0.0), (4470, 0.0), (4471, 0.0), (4472, 0.017147311148292294), (4473, 0.0), (4474, 0.0), (4475, 0.0), (4476, 0.0), (4477, 0.02473344356220748), (4478, 0.022953525476159448), (4479, 0.0), (4480, 0.0), (4481, 0.004865488266769356), (4482, 0.022606390160504114), (4483, 0.0), (4484, 0.0), (4485, 0.0), (4486, 0.005278321529131201), (4487, 0.07534689034293751), (4488, 0.0), (4489, 0.018731559130203555), (4490, 0.027076101309631173), (4491, 0.012846835305776134), (4492, 0.007212904106869343), (4493, 0.03199767657939037), (4494, 0.028299148350282216), (4495, 0.0), (4496, 0.0), (4497, 0.0), (4498, 0.0), (4499, 0.0), (4500, 0.0), (4501, 0.0067837144099315546), (4502, 0.0), (4503, 0.005135804607695174), (4504, 0.0), (4505, 0.0), (4506, 0.01919605852926975), (4507, 0.0), (4508, 0.0), (4509, 0.011687145128793184), (4510, 0.0), (4511, 0.0), (4512, 0.0), (4513, 0.0), (4514, 0.0), (4515, 0.07229918391703406), (4516, 0.007699497365446198), (4517, 0.0), (4518, 0.0), (4519, 0.00538677452924363), (4520, 0.0), (4521, 0.0), (4522, 0.0), (4523, 0.0064231243739545155), (4524, 0.0), (4525, 0.0), (4526, 0.007658418908604805), (4527, 0.0), (4528, 0.0), (4529, 0.038753239004795444), (4530, 0.02654308482765711), (4531, 0.028237444031413022), (4532, 0.0), (4533, 0.006871904958999066), (4534, 0.014096418103440977), (4535, 0.027369887809894633), (4536, 0.0), (4537, 0.0), (4538, 0.0), (4539, 0.0), (4540, 0.0), (4541, 0.0), (4542, 0.0), (4543, 0.0049049844558570034), (4544, 0.0), (4545, 0.015967107626473343), (4546, 0.02292932394789558), (4547, 0.02046373293802449), (4548, 0.008812805626934102), (4549, 0.03668345611232514), (4550, 0.011446033414957053), (4551, 0.010404338219518586), (4552, 0.025965028811243147), (4553, 0.004452766568014481), (4554, 0.0), (4555, 0.0), (4556, 0.0), (4557, 0.029579388995747795), (4558, 0.0), (4559, 0.0), (4560, 0.0), (4561, 0.0), (4562, 0.0), (4563, 0.0), (4564, 0.011368359509130618), (4565, 0.0), (4566, 0.05882207814846095), (4567, 0.024351904893933497), (4568, 0.004759789862148642), (4569, 0.00630301861086364), (4570, 0.008026436394820957), (4571, 0.0), (4572, 0.0), (4573, 0.004936626890780736), (4574, 0.0), (4575, 0.0), (4576, 0.024747870510813175), (4577, 0.0), (4578, 0.0), (4579, 0.0), (4580, 0.0), (4581, 0.029820914109982895), (4582, 0.0), (4583, 0.0), (4584, 0.0), (4585, 0.0), (4586, 0.0053026328851696536), (4587, 0.008960147479747703), (4588, 0.023682254150049584), (4589, 0.013819433503056394), (4590, 0.004559925152447589), (4591, 0.004736182358616478), (4592, 0.0), (4593, 0.02165155044282281), (4594, 0.0), (4595, 0.0), (4596, 0.0), (4597, 0.005900227059695408), (4598, 0.0), (4599, 0.0), (4600, 0.004660238147573763), (4601, 0.019331183190045464), (4602, 0.0), (4603, 0.0), (4604, 0.0), (4605, 0.016389483645761548), (4606, 0.018348933355093317), (4607, 0.013651721253824196), (4608, 0.004518992637422136), (4609, 0.011888016549586086), (4610, 0.0), (4611, 0.0), (4612, 0.0), (4613, 0.03123676153499701), (4614, 0.04207935941899595), (4615, 0.0), (4616, 0.0), (4617, 0.0), (4618, 0.0), (4619, 0.005618590049076246), (4620, 0.0), (4621, 0.0), (4622, 0.018829482523841576), (4623, 0.009367337774772883), (4624, 0.016859992547340066), (4625, 0.0), (4626, 0.023887468030963446), (4627, 0.0), (4628, 0.0), (4629, 0.005312314846345088), (4630, 0.005710739571635964), (4631, 0.006183975322641062), (4632, 0.0), (4633, 0.0), (4634, 0.0), (4635, 0.0), (4636, 0.0), (4637, 0.0), (4638, 0.01618141612493074), (4639, 0.0), (4640, 0.0), (4641, 0.042648681197162225), (4642, 0.006009645042905038), (4643, 0.006906729260296676), (4644, 0.0), (4645, 0.0), (4646, 0.006492774703275437), (4647, 0.030108452086127224), (4648, 0.01525945629655499), (4649, 0.004676632745710445), (4650, 0.010834400972843614), (4651, 0.0), (4652, 0.0), (4653, 0.006226103258386121), (4654, 0.0), (4655, 0.0), (4656, 0.005491238191990115), (4657, 0.0), (4658, 0.009038230801757615), (4659, 0.005495269352261145), (4660, 0.02187417740561991), (4661, 0.0045139542699414595), (4662, 0.0), (4663, 0.0068706451770911324), (4664, 0.0), (4665, 0.0), (4666, 0.006894210457604927), (4667, 0.03917763675809942), (4668, 0.0), (4669, 0.0), (4670, 0.01699210407408457), (4671, 0.0), (4672, 0.016525277201948494), (4673, 0.004932200138009329), (4674, 0.015101639844978759), (4675, 0.0), (4676, 0.06243597194234214), (4677, 0.02743137919211639), (4678, 0.0), (4679, 0.0), (4680, 0.0), (4681, 0.0), (4682, 0.03485977196104102), (4683, 0.027231547399615044), (4684, 0.00519669750514754), (4685, 0.0), (4686, 0.0), (4687, 0.0), (4688, 0.009334873900546834), (4689, 0.0), (4690, 0.018612811330521284), (4691, 0.0), (4692, 0.0), (4693, 0.0), (4694, 0.0), (4695, 0.0), (4696, 0.0), (4697, 0.016488939713116955), (4698, 0.006143946383979882), (4699, 0.0), (4700, 0.0), (4701, 0.0), (4702, 0.0), (4703, 0.012654455535201734), (4704, 0.0), (4705, 0.0072807717023669494), (4706, 0.0), (4707, 0.0), (4708, 0.0050534759291161755), (4709, 0.006921818378356541), (4710, 0.018650538454635286), (4711, 0.0), (4712, 0.0), (4713, 0.0), (4714, 0.020308661815304767), (4715, 0.0), (4716, 0.005277815914900001), (4717, 0.0), (4718, 0.0), (4719, 0.0), (4720, 0.017908662194907003), (4721, 0.0), (4722, 0.0), (4723, 0.006226277117618103), (4724, 0.0), (4725, 0.02787083841778481), (4726, 0.0054762567250853465), (4727, 0.005470547956617013), (4728, 0.0), (4729, 0.0), (4730, 0.02113122766921435), (4731, 0.0), (4732, 0.0), (4733, 0.004249010878286198), (4734, 0.0), (4735, 0.0), (4736, 0.03888737500935598), (4737, 0.03172034153538444), (4738, 0.0), (4739, 0.010384411883809546), (4740, 0.04266138371689202), (4741, 0.00580289386442982), (4742, 0.013107712105529776), (4743, 0.014141753086777217), (4744, 0.015784546930098155), (4745, 0.00525331701220003), (4746, 0.0), (4747, 0.0166803179663438), (4748, 0.0), (4749, 0.0), (4750, 0.0), (4751, 0.0), (4752, 0.003647700185619607), (4753, 0.0), (4754, 0.018237403712483155), (4755, 0.0), (4756, 0.00975818166194166), (4757, 0.0), (4758, 0.0), (4759, 0.0)]\n"
          ]
        }
      ]
    },
    {
      "cell_type": "code",
      "source": [
        "len(Recommendation_Score)"
      ],
      "metadata": {
        "colab": {
          "base_uri": "https://localhost:8080/"
        },
        "id": "qf42h9sLTJQ_",
        "outputId": "2fc58af1-7140-4651-ea22-5724956d707a"
      },
      "execution_count": null,
      "outputs": [
        {
          "output_type": "execute_result",
          "data": {
            "text/plain": [
              "4760"
            ]
          },
          "metadata": {},
          "execution_count": 39
        }
      ]
    },
    {
      "cell_type": "markdown",
      "source": [
        "## **Get All Movies Sort Based on Recommendation Score wrt Favourite Movie**"
      ],
      "metadata": {
        "id": "eGG6nCQbTNCy"
      }
    },
    {
      "cell_type": "code",
      "source": [
        "Sorted_Similar_Movies = sorted(Recommendation_Score, key = lambda x:x[1], reverse = True)\n",
        "print(Sorted_Similar_Movies)"
      ],
      "metadata": {
        "colab": {
          "base_uri": "https://localhost:8080/"
        },
        "id": "dTi_ulVgTeVK",
        "outputId": "d80780d6-0dc4-403b-b654-f514e8daeb70"
      },
      "execution_count": null,
      "outputs": [
        {
          "output_type": "stream",
          "name": "stdout",
          "text": [
            "[(1, 1.0000000000000002), (599, 0.28280191522394693), (600, 0.2571927843121004), (295, 0.19502223542404779), (1011, 0.16270222722174588), (601, 0.15610550136521353), (3323, 0.13286195649325339), (603, 0.12954327476770183), (1137, 0.1136302057443545), (419, 0.11039801277237343), (2155, 0.10596420487410282), (31, 0.10409517262879507), (3515, 0.1001467481147079), (602, 0.09944102898572665), (1979, 0.09919622315212599), (681, 0.09739447126648748), (3408, 0.0956493747693508), (279, 0.095280340869254), (1881, 0.09418517648201527), (91, 0.09408007643069731), (2854, 0.09067406550627027), (546, 0.08990859674125724), (1939, 0.08972158720778872), (481, 0.08814332798014532), (3840, 0.08749017163494882), (35, 0.08742546957845639), (1519, 0.08645420947701715), (575, 0.08413856796126923), (915, 0.08379117736682508), (303, 0.08336093343854395), (101, 0.0824052316641063), (3270, 0.08222565462322233), (2484, 0.08209188508706429), (4455, 0.08129106828805603), (61, 0.0807756373022934), (1566, 0.08068047445167217), (382, 0.08066423249568166), (2567, 0.08022654817161642), (3847, 0.08007834982253573), (3468, 0.07906619615212551), (1150, 0.07895671112965104), (251, 0.07804519606050524), (37, 0.07709332666079831), (946, 0.07663254873710011), (2574, 0.07642499128756543), (1255, 0.07575316150001904), (374, 0.07552833160070821), (4487, 0.07534689034293751), (2022, 0.07518384519889794), (2044, 0.0744232227925005), (1113, 0.07411980943400155), (654, 0.07384605553609146), (891, 0.07308073181219855), (1237, 0.07258061486532358), (4515, 0.07229918391703406), (1178, 0.07158506716386202), (2563, 0.07108750013438399), (2355, 0.07027001489001064), (3367, 0.06988999767419121), (3428, 0.0687240672080485), (2957, 0.06826516821347531), (4103, 0.06797236193435138), (36, 0.06791734480694782), (498, 0.06766280170410681), (4089, 0.06765076085936789), (447, 0.06746548192745536), (1123, 0.06705439157246296), (3747, 0.06675650522517815), (1486, 0.06605165330540352), (3466, 0.06595956650654046), (2512, 0.06550757027323913), (1056, 0.06525547246206079), (1013, 0.06508750945379758), (3795, 0.06498162438759361), (834, 0.06444345291126054), (1057, 0.06435546390039697), (1662, 0.06434218439555017), (4274, 0.06424558893936931), (2474, 0.06388355189570183), (1589, 0.06364458484747951), (160, 0.06359160102915365), (1443, 0.06282383073010805), (3063, 0.06275489814955026), (3011, 0.06274026652061834), (4676, 0.06243597194234214), (4339, 0.06236241752338298), (2594, 0.06230660726596638), (472, 0.061773319028259055), (835, 0.06143136810671968), (407, 0.06142285796429693), (694, 0.06109827319150957), (3001, 0.06080737956367353), (833, 0.060806119897883475), (3849, 0.06062714067439516), (1802, 0.06053539500656778), (3965, 0.060363725545423345), (261, 0.06021053180581618), (896, 0.06021018219008581), (545, 0.060051616912290946), (1257, 0.06000354510799848), (4171, 0.059207130770976606), (260, 0.059192215014623614), (1883, 0.05910188110858783), (4566, 0.05882207814846095), (2421, 0.05849689683498266), (1478, 0.05830999741614325), (614, 0.058293447947284804), (2804, 0.05815864876008873), (674, 0.05793902791640222), (1515, 0.05789613638824079), (1230, 0.05756788909432957), (1154, 0.05754574501450782), (75, 0.05741627236122422), (2617, 0.05728339042167178), (3718, 0.0571192860618575), (1435, 0.057047634911904), (2810, 0.056854618992035054), (377, 0.05670827430603263), (918, 0.056499555948224776), (2682, 0.05617355008245849), (2657, 0.05559379437101475), (2981, 0.05550240544945958), (259, 0.05537335163190965), (3889, 0.05494261090373927), (992, 0.05435424122687739), (1082, 0.05425994532526088), (152, 0.05417960690471102), (4077, 0.05401000818245392), (961, 0.053998022373784274), (887, 0.05369988185006454), (1466, 0.053663840300312196), (3673, 0.05361372933438348), (153, 0.05343743156493439), (3817, 0.05326234987437664), (3094, 0.05303690418963104), (537, 0.05280454644432823), (3194, 0.05266764415497982), (427, 0.0526441683586612), (367, 0.05257798940685535), (69, 0.051833535547741234), (3787, 0.0516817748445867), (744, 0.05160273254597797), (2898, 0.05144391521717726), (570, 0.051442310779787385), (702, 0.051349476875993144), (2221, 0.051312757132209355), (1649, 0.051281561154715556), (2233, 0.05090801777324834), (319, 0.0508816010583705), (778, 0.050774287507592), (3483, 0.05023628679564955), (1906, 0.04993469015477235), (956, 0.04990185853167044), (619, 0.04973999297433453), (1401, 0.04957584207945981), (2479, 0.049469252644954415), (1396, 0.04936818837850272), (3550, 0.049353059850419864), (1564, 0.049316958466259456), (30, 0.049315355123976654), (3467, 0.048966310504703306), (3298, 0.04893724974770759), (763, 0.04881187689507613), (1342, 0.04877873755225018), (3897, 0.04846863122751947), (65, 0.04842192465359449), (3366, 0.04807207687798134), (90, 0.04793236562981211), (3968, 0.04791110621805293), (2326, 0.047763695286823664), (3845, 0.04771627254727365), (1412, 0.04766772971583279), (663, 0.047556470886677686), (3003, 0.047446879847448914), (2955, 0.04737183853919266), (3389, 0.047297246239101955), (1269, 0.04713098239283732), (2277, 0.04702443498949356), (1743, 0.04691561966499995), (167, 0.04670316760647067), (2497, 0.046661113177593236), (4054, 0.046638348419834025), (3456, 0.04657121304370902), (4070, 0.04639801501104017), (3096, 0.04636192612688919), (2180, 0.04628693323673777), (2922, 0.046256006923307925), (3775, 0.046156721033676656), (686, 0.04564196267064011), (3166, 0.045582106843188405), (3843, 0.04542754299703032), (2141, 0.045350568876412076), (2850, 0.04534506969226146), (78, 0.04532568822759643), (283, 0.045078205040103056), (3502, 0.045038775326883454), (3937, 0.045027637979469154), (550, 0.044966190540887296), (2950, 0.044861127429874914), (1835, 0.04483465484071576), (2073, 0.04482714333977122), (4143, 0.044779648499517516), (3972, 0.04460872712495826), (1367, 0.0445816918031456), (4261, 0.04449800934128255), (249, 0.0443156805544103), (2291, 0.04430373217449013), (11, 0.044249159152597625), (2527, 0.04423060931222242), (3702, 0.044216395180817915), (4128, 0.0441388431129361), (2615, 0.043962142318079024), (1875, 0.043715552934558054), (3133, 0.0436031490865304), (2114, 0.04352849574743374), (1533, 0.043314013038950175), (80, 0.04325444546338641), (2581, 0.04323957882460481), (853, 0.04314301916263083), (1265, 0.0431207806036587), (2605, 0.043109736190492326), (3559, 0.043104657717563076), (4168, 0.04307230683981862), (2539, 0.042973549706389884), (241, 0.04292390418546763), (2768, 0.04284709536645645), (67, 0.04280704472709425), (1354, 0.04279385181599468), (4740, 0.04266138371689202), (4641, 0.042648681197162225), (1411, 0.04263056844224829), (2088, 0.04258097218447794), (1134, 0.04255214912510062), (3122, 0.04247201042939544), (208, 0.04223557834382287), (4614, 0.04207935941899595), (4453, 0.04196643424919721), (3361, 0.04193591850573389), (1548, 0.0418577085431311), (3452, 0.0417765227567697), (397, 0.04171513548783609), (115, 0.04152565312038163), (2188, 0.04148880761820818), (1696, 0.04148187522537326), (4100, 0.04144434406603904), (3871, 0.041369825179281616), (3073, 0.0413337893519041), (977, 0.04132136142386249), (2143, 0.041321123921531915), (1242, 0.04118373086931825), (1903, 0.04114473179725581), (555, 0.04110201048613818), (3966, 0.04102103834178883), (451, 0.0408176325744765), (1986, 0.04067483153224669), (2062, 0.040566449224891346), (1058, 0.04027749490753379), (2843, 0.04026568571251331), (2091, 0.0402272132220107), (3850, 0.040167694836173794), (2299, 0.040057606642120276), (1314, 0.0399803169274277), (3537, 0.03984763623589516), (2237, 0.03980647809557744), (3141, 0.03978693682570608), (1555, 0.039761155681805826), (150, 0.03971302481482229), (963, 0.039542619755709704), (2472, 0.03940975014809206), (912, 0.039395555131313376), (1279, 0.03939199997874313), (3180, 0.0393841405888697), (1334, 0.039321571116174334), (4045, 0.03931994956763117), (4667, 0.03917763675809942), (237, 0.03913765869289207), (1373, 0.03911430865730296), (79, 0.03908598626594616), (3040, 0.03906846772540386), (4736, 0.03888737500935598), (2552, 0.03882554569560623), (2322, 0.03877395604270242), (1024, 0.03876432233892937), (4529, 0.038753239004795444), (4240, 0.038729515201357076), (1727, 0.038697117306852796), (553, 0.03868449865242071), (1574, 0.038654273200322144), (3353, 0.0386045196672619), (1239, 0.038588977168039704), (1632, 0.03857633726642967), (855, 0.03852461248988928), (822, 0.03846652084327721), (3949, 0.03845599738368884), (76, 0.038339193953551266), (1309, 0.038281375750433104), (1584, 0.038260418495333855), (1652, 0.03821991418195139), (509, 0.038159825908370165), (2061, 0.038069119800506104), (3332, 0.03803623433650213), (3284, 0.038033591717244845), (3605, 0.03792831396230805), (2316, 0.037880279717537296), (3714, 0.03779995102615931), (4307, 0.03779040768647721), (3635, 0.037701007440456805), (3414, 0.037678303310235264), (2083, 0.03759668460381294), (2415, 0.0375538333279472), (1493, 0.03754431954328831), (2234, 0.0375306353297568), (3678, 0.03750828629134769), (3022, 0.03749822162397856), (3885, 0.03741452615389705), (381, 0.03726490641527798), (1590, 0.03721739621464738), (700, 0.037143569883426035), (2669, 0.03704557110092488), (684, 0.03699739909008726), (1809, 0.03676403593363388), (401, 0.03671383667827681), (2202, 0.03668730915204269), (4549, 0.03668345611232514), (343, 0.03659052393570358), (4076, 0.03647186856428806), (4255, 0.0364185851007831), (2199, 0.036416402700812554), (362, 0.03639013384915393), (1141, 0.03633008149686646), (405, 0.036253640620201324), (4347, 0.03622797683590425), (2490, 0.036104874450647674), (3744, 0.03595759906309511), (680, 0.03588162922816232), (469, 0.035870905875605874), (512, 0.0358258469216077), (2058, 0.03580341583573501), (3769, 0.03578619699847553), (1788, 0.03572620120314092), (3672, 0.035595468660114586), (1301, 0.03556627292736472), (3940, 0.035525474508981275), (371, 0.03535132529839603), (2785, 0.03530236317617935), (3802, 0.03529398428106976), (355, 0.03529221356425803), (255, 0.03524714220412399), (102, 0.035214448664750306), (2603, 0.035186925896596444), (1083, 0.035185388514817395), (1195, 0.03509281601232634), (1991, 0.035082230478412385), (1071, 0.03506775172990773), (4032, 0.03493988982199571), (1844, 0.03487382420168329), (4682, 0.03485977196104102), (2122, 0.03477941021125127), (3357, 0.03477396887322535), (1538, 0.03476856948884599), (803, 0.03466038350048435), (4388, 0.034642950376782035), (2086, 0.03460766648640646), (2230, 0.03456787260582231), (491, 0.03454082354115207), (3185, 0.034525640694292745), (2813, 0.034524725840867035), (4238, 0.03447741179470901), (1567, 0.034469318749512555), (2171, 0.03431554770810625), (257, 0.03423235652416832), (212, 0.03419736638978953), (3336, 0.034161018646129464), (1872, 0.03404396413859625), (3215, 0.034020864247211714), (3532, 0.0340175480630626), (486, 0.03392123299488484), (1381, 0.03390543149104414), (883, 0.033742122411030445), (1022, 0.03369978782659422), (1046, 0.03369845083859658), (1043, 0.03369436061073969), (3530, 0.03368690207469291), (4068, 0.033594664013197925), (1521, 0.0335453544391593), (1646, 0.033437873674788975), (988, 0.03343260780472686), (3790, 0.033390981436846774), (1955, 0.033365384345724954), (3996, 0.03335584844407894), (666, 0.03324725372292199), (1537, 0.033134418698796735), (1948, 0.03312916017210063), (3851, 0.03309247380447233), (3469, 0.03308750478680212), (2038, 0.03302633706748011), (3709, 0.03299728420591964), (3174, 0.03297970768867863), (1094, 0.03294044969953066), (1641, 0.03275555148454297), (1467, 0.03275299653698618), (3303, 0.032692818879730974), (4033, 0.032649747345052445), (3638, 0.03264781047191151), (3879, 0.03263294161743129), (1383, 0.03262671538370251), (1029, 0.03260138298000278), (3201, 0.032571049850073995), (1634, 0.032569230016562256), (1978, 0.03256891285063961), (4181, 0.03256747751644834), (1554, 0.032529908226035915), (1159, 0.03252082491247492), (4091, 0.032464229320889985), (591, 0.03244691555773937), (3869, 0.03238828154978573), (3594, 0.03236539048644116), (1091, 0.03234593446863104), (502, 0.03227896916311415), (3630, 0.0322143234465754), (2715, 0.03219203157286479), (3888, 0.03215089981485369), (1393, 0.032100896893381275), (4299, 0.032079280271663874), (2860, 0.0320559210248756), (2136, 0.032021257096426906), (4493, 0.03199767657939037), (3977, 0.03191034326622999), (1925, 0.03189927018107189), (756, 0.03184059501104258), (2666, 0.03179078808008838), (6, 0.03178899800803083), (2821, 0.03178829508305634), (2435, 0.03172368186913766), (4737, 0.03172034153538444), (4457, 0.03164737059332215), (1095, 0.03163622506877874), (872, 0.031630387792157655), (3834, 0.03161282861482671), (3131, 0.03161001980878954), (2158, 0.03155380554362767), (2729, 0.03152113700561977), (4325, 0.03150370461475165), (906, 0.031466646800705586), (1280, 0.031461633946164164), (2668, 0.031456318070225725), (3127, 0.03139980747951664), (2507, 0.031364330943041835), (2258, 0.031341561361502505), (3132, 0.03132491907132532), (745, 0.03130127177171173), (1763, 0.0312922890283311), (482, 0.03125419222891331), (1904, 0.031245915948592343), (2330, 0.031238616227786585), (4613, 0.03123676153499701), (15, 0.031191842182459906), (4114, 0.031179385070607038), (2733, 0.03107624319852698), (2763, 0.031021128583930344), (2413, 0.030991797789255527), (2857, 0.030921358447594346), (1240, 0.03090444906259828), (3115, 0.030897282472524427), (776, 0.030865259894709198), (1297, 0.030859060122757243), (2427, 0.03085333414538184), (2049, 0.030841584481770663), (3134, 0.030837249987470255), (3867, 0.03083157862561686), (1378, 0.03080705194613348), (2042, 0.03079319909320149), (4434, 0.03077511168304884), (2691, 0.03073886738112625), (1825, 0.030730999822116807), (3498, 0.030695241605937354), (3907, 0.030653525500829303), (3798, 0.030646952122224062), (189, 0.030595806181100305), (3509, 0.030589349262570426), (2944, 0.030581777867392496), (1190, 0.030572504795590014), (3743, 0.03057103130691769), (151, 0.030520690593544186), (3749, 0.03050272473844451), (1572, 0.030485528099060608), (3463, 0.030478208763291194), (3763, 0.030472182682226352), (3520, 0.03044828438303819), (2385, 0.03044229469426631), (2570, 0.030431856929320055), (95, 0.030392490748873017), (1697, 0.030372838006238932), (59, 0.03036091097973855), (3231, 0.03031652025425869), (902, 0.030308084439582238), (939, 0.030301842473675143), (572, 0.03028882908730187), (2021, 0.030225486274691717), (950, 0.03020884685361151), (4468, 0.03019471731047902), (3690, 0.030194259980367552), (1111, 0.03019232690729827), (1108, 0.030146621809218302), (4647, 0.030108452086127224), (1168, 0.030080731290958694), (19, 0.03007149396258626), (421, 0.030038907300918422), (649, 0.02994702891376218), (2260, 0.029926722111495035), (2794, 0.029922712775706902), (4041, 0.029883875350232358), (2540, 0.02986698349651385), (1705, 0.02986043389650788), (1382, 0.029833394955532708), (4581, 0.029820914109982895), (4446, 0.029772538893396785), (625, 0.029760367461890133), (258, 0.029747309322078957), (1791, 0.02972733774628509), (2521, 0.029724176836572122), (416, 0.02970542172135634), (2501, 0.029687819668902896), (39, 0.02966698794890848), (1118, 0.029661409160919982), (1726, 0.02965941035461965), (3427, 0.029657316606508655), (2067, 0.029645420859902284), (2927, 0.029632969932039697), (1151, 0.029626015742026585), (1793, 0.029616332126900458), (70, 0.029599955967523548), (264, 0.02958638042932131), (4557, 0.029579388995747795), (2769, 0.02956717406133846), (2240, 0.029562482396473168), (604, 0.02954616300380672), (3982, 0.029538307491473147), (751, 0.029508141707006358), (1262, 0.029466962003116277), (1901, 0.029362906475100394), (368, 0.02935231148640511), (1038, 0.02934076867769171), (194, 0.029318249331593917), (484, 0.029242929879095634), (1360, 0.029238673519570175), (2095, 0.029236569904559487), (2541, 0.02923542667185345), (430, 0.029211685167890338), (4083, 0.029206870866020775), (2597, 0.029164389879924004), (613, 0.029122476742161247), (1358, 0.029118992059171865), (2962, 0.02909241805716937), (981, 0.029018194486524464), (997, 0.028988836171124712), (938, 0.02897168253340916), (2713, 0.028944342518491), (1281, 0.02893399635489014), (3773, 0.028897238500133635), (1060, 0.028890440412909463), (3960, 0.028885975700112105), (1120, 0.028831416806871166), (3619, 0.028830814132645884), (567, 0.02881180823368739), (191, 0.028758628902713135), (1728, 0.028750820694076057), (1315, 0.02873873394745216), (284, 0.02868436461392649), (333, 0.02867019926376977), (1592, 0.028654954295041106), (2161, 0.028605737407151294), (951, 0.02857985297360769), (1645, 0.0285429144315692), (1028, 0.02852588696867777), (3856, 0.02843921844744332), (390, 0.02843695132920567), (2642, 0.02839138892260322), (33, 0.02839135367608064), (3046, 0.02834813577001209), (4221, 0.02830522276627812), (4494, 0.028299148350282216), (93, 0.02829857617228689), (467, 0.028242525823021024), (4531, 0.028237444031413022), (376, 0.02822624434887258), (2018, 0.02820760343123118), (1348, 0.028076276199342477), (171, 0.028045825419986074), (2799, 0.028036999155895918), (263, 0.02795987164749719), (4006, 0.02795913960123012), (1374, 0.02794280587184594), (762, 0.027938469083707226), (4194, 0.027916934752924623), (4725, 0.02787083841778481), (3783, 0.027866447498216894), (2465, 0.027856366595188843), (1371, 0.02782619779032754), (1212, 0.027806645374054494), (3683, 0.02778137046631467), (508, 0.027775488825819802), (1579, 0.02777205341335548), (3193, 0.02775450914784456), (55, 0.027754212244279333), (2665, 0.027738939069574687), (4444, 0.027732464903558157), (687, 0.027669633238201215), (2989, 0.027655449302195385), (731, 0.027647978808356646), (1500, 0.027641344719301512), (12, 0.027611271684178405), (3100, 0.02759884315308491), (565, 0.02759590404339038), (3060, 0.027588015074039223), (793, 0.02758533265766472), (468, 0.027575316019498915), (2016, 0.027574435662216228), (4378, 0.02757318487277282), (1786, 0.02755074609093608), (1204, 0.027536579101774795), (2041, 0.02752464087837121), (1263, 0.027498556547415516), (2442, 0.027478157670849605), (46, 0.02746116474293213), (1879, 0.02745733074638742), (1167, 0.02744375493160968), (4677, 0.02743137919211639), (4535, 0.027369887809894633), (1069, 0.027359388239553105), (3232, 0.027347160900788817), (2622, 0.027346488708749568), (4401, 0.027320956677042055), (3114, 0.027313694291087123), (1010, 0.027262140896027638), (4683, 0.027231547399615044), (379, 0.027209440322459314), (1846, 0.027164464887244538), (236, 0.02714919607195725), (3923, 0.02714785629778132), (1936, 0.027147253715209138), (94, 0.027132532468427034), (3822, 0.027123147575954545), (2444, 0.02709398308601967), (2006, 0.02708933798213969), (4490, 0.027076101309631173), (1982, 0.027062290711621216), (56, 0.02704361947110613), (1587, 0.02703759654811115), (692, 0.027033608092670348), (2125, 0.02702212184525067), (2150, 0.02700353263253698), (3665, 0.02699827687975506), (54, 0.02697469511635215), (4153, 0.02692444637329425), (3360, 0.026890446512678207), (2749, 0.026889522143953702), (1295, 0.02687410343805429), (2770, 0.026870210942712032), (620, 0.026869598728319254), (3156, 0.02685764290209151), (1577, 0.02679362961078639), (4285, 0.026792896504162573), (4134, 0.026721491909578263), (2118, 0.026717502175567086), (3539, 0.026687813408413787), (1377, 0.026674935842599782), (1888, 0.026660821257253862), (3045, 0.026617864698615528), (4174, 0.026603020688010258), (3275, 0.026594531911254875), (4015, 0.026588731165786948), (2844, 0.026557176083751098), (316, 0.026553256460040767), (849, 0.026544234360460724), (4530, 0.02654308482765711), (4158, 0.02647432523833672), (1014, 0.026451459022558875), (4276, 0.02644514285940914), (1782, 0.026435156759895495), (3412, 0.02639383191066501), (1640, 0.026327544756789507), (1245, 0.026307908877540663), (497, 0.026292417510810732), (2451, 0.026263277233811576), (2218, 0.026190404452475058), (1468, 0.026188964289694253), (2363, 0.026162629852341066), (4269, 0.026146399119411627), (923, 0.02613677290489662), (1410, 0.02613244987261848), (440, 0.026113427889458824), (670, 0.026090497310725283), (1125, 0.026080485136279405), (119, 0.026059489235441324), (2283, 0.026059317862102596), (3454, 0.02598253222794108), (4552, 0.025965028811243147), (463, 0.025926993185635988), (2337, 0.02588940188215271), (1636, 0.02580971453550256), (2334, 0.025783243890640527), (3533, 0.025782223659286212), (109, 0.025777787344413085), (2720, 0.02570966151308493), (1772, 0.02563870407700196), (4404, 0.025592625171696515), (1974, 0.025566317675280285), (3014, 0.025547926645186833), (3182, 0.025517911538121718), (3300, 0.025505080736086688), (1976, 0.025504846181123076), (850, 0.025501769901446647), (1322, 0.02550014861632773), (4341, 0.025467314283667882), (4466, 0.025463032169440257), (234, 0.02542848944843617), (27, 0.02540149991856383), (339, 0.02539765882256039), (1911, 0.02539408699169659), (1651, 0.025339019807829547), (87, 0.025335592544547564), (647, 0.025332896286467302), (128, 0.025328286826449435), (2644, 0.025318284749347254), (3051, 0.025303359530026274), (1745, 0.025288832066906165), (4467, 0.0252591050727834), (1741, 0.025252646873351832), (1820, 0.025239307739091468), (3693, 0.025208920668098714), (3453, 0.025112241841786596), (3405, 0.025111978818302648), (4031, 0.025097350968111897), (1926, 0.025032874470982045), (4046, 0.025029204117684778), (1009, 0.025020381368474707), (1799, 0.02500575787657865), (2900, 0.024970310836640853), (2686, 0.024949807166415407), (300, 0.024947326164519786), (928, 0.02493561851998873), (112, 0.024892578730839107), (3181, 0.02487913214443921), (1968, 0.02486219896074039), (3516, 0.024830558926158867), (1335, 0.02480832488278405), (1830, 0.02478818095320197), (314, 0.02476736331858547), (2500, 0.024749577899417827), (4576, 0.024747870510813175), (4477, 0.02473344356220748), (1723, 0.024637724970119332), (1965, 0.02460703100070717), (1908, 0.024583300733332314), (3692, 0.024582518944923262), (4312, 0.024529546409893747), (2880, 0.024523602336690844), (2945, 0.024520739781328217), (4364, 0.02447656793842984), (3059, 0.02445904008615072), (2256, 0.024385696695539548), (4567, 0.024351904893933497), (2718, 0.024334613757749497), (3823, 0.02431061912735482), (1333, 0.024306062341292563), (3997, 0.024305964992644886), (1031, 0.024274679772785055), (1961, 0.024269309142395213), (1341, 0.02424948922305211), (913, 0.02421780931225134), (3724, 0.02420859498787658), (2689, 0.02420235736138395), (1530, 0.024196270512770568), (3285, 0.024151656032728102), (3082, 0.024138734032305046), (220, 0.024137709468881982), (1502, 0.024110097434371904), (2755, 0.024101416021194155), (1173, 0.024037431979007134), (2956, 0.02403034497882294), (111, 0.024018907365189166), (3685, 0.023989674807656555), (656, 0.02398616902927093), (1310, 0.023973331339130613), (4055, 0.023957631632240177), (4007, 0.023950490449461286), (3513, 0.023920878483730174), (2470, 0.023910683380601504), (2217, 0.023901535388323635), (2830, 0.023894112344920712), (4626, 0.023887468030963446), (1852, 0.023821154255768265), (516, 0.023798432882909552), (2182, 0.023783170614156524), (2806, 0.023776861530059465), (285, 0.023769538063401832), (561, 0.023768384602749687), (3735, 0.023757451309511513), (3514, 0.023754161257552236), (3705, 0.02374872155511076), (1536, 0.0237417113237839), (895, 0.02373832052511441), (517, 0.023726313040072014), (4588, 0.023682254150049584), (3204, 0.023642122315568476), (1469, 0.02363585947120258), (3641, 0.023616526381705118), (4257, 0.0235977885199515), (452, 0.02355777026118958), (3623, 0.023552339806642373), (3585, 0.023543865313198138), (1249, 0.023529487273252422), (3191, 0.023504748149873224), (3252, 0.023501012112334418), (975, 0.02345061183744693), (777, 0.023402409059054618), (3225, 0.023396248258345794), (1810, 0.023378702589623282), (3160, 0.023372503699089373), (3105, 0.023350381282034934), (4152, 0.02333047025106282), (3384, 0.02326832646379939), (1174, 0.02326118551020249), (45, 0.023208009598505542), (2468, 0.023189695657926217), (1413, 0.023170948199581765), (1664, 0.02315959599520574), (2312, 0.023147991688821583), (3908, 0.023131645295480577), (1302, 0.02307777377742337), (3316, 0.023033482856531652), (4212, 0.023017048124617343), (1639, 0.022976055135651634), (4478, 0.022953525476159448), (4277, 0.022944651776827082), (4546, 0.02292932394789558), (903, 0.022921782358715354), (3524, 0.02290913817417741), (1074, 0.02290136213204058), (863, 0.022897755579105915), (1569, 0.022877328133470678), (2055, 0.022871879243992085), (1129, 0.022839852697817863), (2012, 0.02282479139674466), (135, 0.022811596942385937), (3955, 0.022784049390082866), (881, 0.022775929947251583), (2891, 0.022774760758945658), (2450, 0.02273217933418372), (3782, 0.022717068611049003), (566, 0.02270453279482046), (2286, 0.022669528220457112), (2019, 0.02263648596180567), (1938, 0.02262827779095904), (4482, 0.022606390160504114), (181, 0.022602305365600144), (375, 0.02256363205339671), (443, 0.022521264686299957), (4264, 0.02249894817898524), (1714, 0.02245805468942104), (2403, 0.022441838990652073), (2646, 0.022435890622737806), (1755, 0.02241770472005792), (1308, 0.02236390714074145), (84, 0.02235454062898099), (2232, 0.022305381852822048), (4302, 0.022294448047916336), (148, 0.022290714835376865), (3368, 0.022290561458373957), (1653, 0.022264315882426347), (2349, 0.022261896574495246), (231, 0.022239397842472156), (3380, 0.022236790874397356), (2178, 0.022207450555112283), (433, 0.02220065034868744), (43, 0.022172374911757498), (1307, 0.022169744521072), (554, 0.022147147603087253), (2070, 0.02211593681642186), (2411, 0.022048157885115754), (3720, 0.022032708422252346), (3219, 0.02201224123398147), (2432, 0.022006951394595808), (4338, 0.02200160723204536), (3998, 0.021995742485280332), (3671, 0.021984485171663647), (3616, 0.021962654499692338), (1455, 0.021909477683860718), (3097, 0.021885111735953373), (2680, 0.021885047932068278), (4660, 0.02187417740561991), (4186, 0.021873314704105966), (1285, 0.021858370414859885), (3595, 0.02184417569895257), (219, 0.02184413649097312), (1259, 0.021840017301444012), (2353, 0.021835562553480244), (3480, 0.021817468021805668), (4248, 0.021806229993556477), (308, 0.02177350976650411), (2276, 0.021746273805117157), (1067, 0.021738937498847262), (2711, 0.021724335653741125), (4043, 0.021703087625927354), (909, 0.021699241996420503), (4088, 0.02169570177780204), (1326, 0.021683232960631613), (1403, 0.021669425600512042), (1175, 0.021666897471373705), (252, 0.021660375857810603), (4093, 0.021656032447797013), (4593, 0.02165155044282281), (3123, 0.02163705534720539), (3443, 0.021636595468252653), (1370, 0.021599249616832832), (3089, 0.021552583534140482), (1511, 0.02155181980246289), (3734, 0.021533826779831417), (2112, 0.021490956256097808), (2820, 0.021485080302607595), (945, 0.021474558998770286), (2899, 0.021462281685417604), (3492, 0.02144296509529213), (3020, 0.021440760618371503), (1701, 0.021431097634953735), (2314, 0.021419833021185754), (1985, 0.02139239701887587), (2205, 0.021371026549040256), (2837, 0.021370375367341515), (2756, 0.02135453570870657), (2826, 0.021321384697741082), (492, 0.02131613919624144), (974, 0.021300425518953708), (2815, 0.021295638792420923), (1616, 0.021228230769308153), (73, 0.021170565646095214), (1997, 0.021154974784671484), (3523, 0.02115149485750144), (8, 0.02114621813017135), (2183, 0.02113616417641229), (4730, 0.02113122766921435), (3313, 0.021109582370454353), (2832, 0.021100412437715082), (3807, 0.021059706477889364), (2361, 0.021052007803100473), (364, 0.021037338615210985), (3528, 0.021031578863109513), (1066, 0.021027635793861927), (2177, 0.021022622612228693), (2942, 0.0209028861418534), (3145, 0.020888657440505897), (4371, 0.020880186120332673), (3598, 0.02085432749254199), (1529, 0.020844110330778452), (796, 0.020797023211795065), (845, 0.020778259106663848), (3212, 0.02076631269201636), (4166, 0.020757333601969963), (3235, 0.020757214497247007), (2089, 0.0207529214436888), (901, 0.020748278710935115), (1407, 0.020692300687282787), (842, 0.0206635283341515), (3706, 0.020661113685843474), (2103, 0.020650936042321176), (3247, 0.020649051826914858), (1116, 0.020627849260878246), (1657, 0.020620164185481113), (2269, 0.02058797265851642), (4346, 0.020580014576267795), (1017, 0.020577511091871697), (2251, 0.02052951999105527), (269, 0.020503476834225123), (1847, 0.02049164871426124), (334, 0.020474372835901727), (4547, 0.02046373293802449), (1368, 0.020462451982328034), (1271, 0.020429380433700097), (1402, 0.020417884323703943), (1418, 0.020417029157989975), (4102, 0.02041458366591689), (1076, 0.020407333312240768), (380, 0.020378483921539174), (3169, 0.02034663847185911), (990, 0.02034603328753693), (4714, 0.020308661815304767), (1264, 0.02028957325130515), (2904, 0.020252346842345455), (3991, 0.020246833912217675), (2537, 0.020240844236043394), (721, 0.020236209784591737), (2952, 0.02021268815504143), (2982, 0.020187476126206468), (3566, 0.02016690964476059), (876, 0.02015895560358494), (2357, 0.020138120843993208), (107, 0.020030916611917256), (2064, 0.019990524764118906), (562, 0.019910803990336963), (106, 0.01990365619196378), (1716, 0.019893990325149692), (1798, 0.019883323288530062), (3158, 0.019881816124944513), (3385, 0.01988131771663187), (1958, 0.019874838227706103), (1172, 0.01987139288305214), (747, 0.01977705471793985), (3080, 0.01977229747289225), (2921, 0.019762225165997856), (2304, 0.01973328556366376), (3074, 0.019726380382564197), (3374, 0.01969685566025161), (1836, 0.019695591579468874), (3688, 0.019655447480905697), (1546, 0.01964119906197494), (3797, 0.019629735632788768), (2534, 0.019620873762386522), (2364, 0.019598684900127814), (3358, 0.01951971138213747), (1292, 0.01951728642050842), (265, 0.019517194425630286), (394, 0.019511620836255517), (1007, 0.019498360417557526), (479, 0.0194483763826384), (1527, 0.019423970660844843), (821, 0.01942319897090642), (802, 0.019409619001410857), (3299, 0.01934832120595609), (4601, 0.019331183190045464), (531, 0.01930430210334335), (400, 0.01929259282718928), (4087, 0.019283441708932765), (2671, 0.019276540069790484), (2448, 0.019269480486981475), (846, 0.019253010667671943), (1535, 0.019198356804838303), (4506, 0.01919605852926975), (973, 0.01918347735446972), (952, 0.019175501749897985), (2599, 0.019172391969497174), (4207, 0.019167304832245446), (3508, 0.019162189390172488), (2253, 0.019160791519522317), (1551, 0.0191372316719929), (1366, 0.01913067285545673), (2216, 0.01908298616393505), (1773, 0.019077280294031163), (327, 0.0190249175556576), (235, 0.019011659388357766), (1140, 0.01899343249387282), (1575, 0.01899325899402313), (3873, 0.01896784835522464), (2294, 0.018950629373865553), (413, 0.018942010973231657), (3223, 0.018940972796460953), (1266, 0.018895799777923262), (1205, 0.01887445206491659), (2420, 0.018867107319650623), (74, 0.018865925138711083), (1261, 0.018852167368547577), (488, 0.018833708683387147), (4622, 0.018829482523841576), (2636, 0.018806598798482836), (3048, 0.018790672407249034), (1296, 0.018765021674796926), (4406, 0.018763126677129725), (2549, 0.01875885728179654), (2439, 0.01874475468726246), (1896, 0.018736180085402395), (4489, 0.018731559130203555), (2573, 0.01871498536199047), (3359, 0.018711490834298707), (1234, 0.018702220048363683), (3305, 0.0186927583797101), (2288, 0.018681139565324332), (2849, 0.018671476504970412), (2790, 0.018650965101153685), (4710, 0.018650538454635286), (1027, 0.01861915172113556), (3087, 0.018614848199400447), (4690, 0.018612811330521284), (1233, 0.01858622708280669), (1164, 0.018564642017730903), (474, 0.018557703798946827), (3919, 0.01854352255836518), (1188, 0.01853743411611139), (880, 0.01853257015268215), (982, 0.018528833528514314), (2090, 0.01851351878896351), (530, 0.018508836244478404), (4250, 0.01848625129727062), (1613, 0.018451184207565426), (3382, 0.018429043547861724), (879, 0.018425852823723117), (3363, 0.018401712816478358), (422, 0.01839725352735978), (3954, 0.01837667889122307), (884, 0.01837503037964017), (3684, 0.018373190912204497), (1924, 0.018368576803629633), (678, 0.018362523399276093), (4606, 0.018348933355093317), (739, 0.018346838103305632), (4334, 0.01833404727466666), (606, 0.01831756446211782), (784, 0.018312564774362113), (2072, 0.018300908206973537), (2123, 0.018280676367467042), (1703, 0.018273506541026666), (669, 0.018261725130533292), (3233, 0.01824901637957443), (4754, 0.018237403712483155), (4389, 0.018217017784550284), (2170, 0.01820900244667796), (3788, 0.01820108180621349), (137, 0.018183363906022414), (2078, 0.018157837386725544), (844, 0.01815511090231991), (3542, 0.018149501243996523), (944, 0.018141084776654767), (1003, 0.0181316963995397), (496, 0.018106443787131044), (2708, 0.01808121416728565), (1250, 0.01807994985834365), (750, 0.01807191492403843), (2874, 0.018071595780348323), (110, 0.018050358518529333), (1311, 0.01803754557984175), (1101, 0.018030434165598654), (2017, 0.018024339442718647), (1361, 0.018019049457079783), (2582, 0.018017781127718912), (3576, 0.018016347899614718), (28, 0.01801041230209313), (4122, 0.018000079127725183), (2278, 0.017996061261094216), (436, 0.01798890086286205), (136, 0.017980965920236142), (558, 0.017954897955434517), (1458, 0.017950008794374136), (4014, 0.017948172365566856), (3656, 0.017944737729063742), (356, 0.017934946487097102), (2798, 0.017934599818717943), (4391, 0.017926855038346106), (4720, 0.017908662194907003), (2197, 0.017905807665802603), (4266, 0.01789973845188034), (2782, 0.017897833698727463), (1473, 0.01788894594584994), (2140, 0.017878365247378347), (418, 0.017875213731346557), (748, 0.017873309283750482), (1930, 0.017853893248328714), (3005, 0.017850715513004295), (864, 0.01784625992578499), (3276, 0.01782291999019297), (378, 0.01781483300738998), (4383, 0.017800817284923876), (347, 0.017798925549767943), (203, 0.017790907119383415), (1505, 0.017790208479435514), (104, 0.017772892820888665), (199, 0.017754291879863465), (3961, 0.01774654065202549), (2998, 0.017725165330693293), (1131, 0.017720336136452384), (4263, 0.017708836826585868), (1488, 0.01770580045531626), (2695, 0.017683181891171813), (3581, 0.017674759120361067), (1496, 0.017668649370624557), (1304, 0.01766726368837514), (389, 0.017660045864465738), (3320, 0.017659758792286366), (460, 0.017656407719638445), (429, 0.017652715368674944), (2026, 0.017647355502348454), (1682, 0.017644624028502573), (439, 0.01763446568356854), (3695, 0.017627382027102644), (2250, 0.017623271890361884), (1345, 0.017622243267946976), (22, 0.017613273267175926), (1638, 0.017592895352963468), (2280, 0.01757212314822689), (543, 0.01754300158493636), (2471, 0.017535238172732323), (1625, 0.017508896103263238), (769, 0.017506641286816716), (1829, 0.01750133149020623), (158, 0.017465917653145695), (2589, 0.017458419629912663), (2614, 0.017458138026022404), (718, 0.01744805032201478), (96, 0.01740224356655216), (282, 0.017399239004727635), (2222, 0.01739801844849102), (2498, 0.01739674820761725), (1097, 0.017396646984817844), (815, 0.01739561170500327), (2961, 0.017384442757496423), (661, 0.017374686237769346), (3510, 0.017333427189424027), (1768, 0.01731775365444098), (2637, 0.017302608007805004), (2824, 0.017282016786657535), (3625, 0.017267884935697968), (3931, 0.017260295646987323), (1940, 0.01724491938203189), (3994, 0.01723845258111575), (1966, 0.017236663666201635), (2725, 0.017235261904649482), (1320, 0.01721990099123405), (979, 0.01721772323494028), (3951, 0.01721642224956079), (3540, 0.017209262323774517), (4373, 0.017187087048986915), (2391, 0.01717252663919373), (2007, 0.017162421611126407), (1146, 0.017151728347096492), (1737, 0.017150842037619105), (3583, 0.017149030186269256), (4472, 0.017147311148292294), (2828, 0.017146489325770373), (2571, 0.017138328874214456), (2970, 0.01713776944824026), (4139, 0.01712963777388556), (72, 0.017128563913213716), (2105, 0.017121053681696103), (239, 0.01709395271473794), (622, 0.017084601071585357), (3098, 0.01708107584029671), (2584, 0.01707778040675216), (1864, 0.01706157699388031), (3900, 0.017057543917861455), (2378, 0.017056846510873597), (1472, 0.017039589980363635), (3886, 0.01703584646457964), (3149, 0.017035577829868805), (3337, 0.017024872650677616), (4670, 0.01699210407408457), (85, 0.016990471075629253), (2937, 0.016954153907799648), (3578, 0.016949897754236422), (2492, 0.01694918116866467), (4385, 0.016947449509680593), (847, 0.016919924331294686), (3504, 0.016916480432213044), (2618, 0.016894447147117526), (3423, 0.01688291601538491), (1808, 0.016862745330056526), (2354, 0.01686055442402112), (4624, 0.016859992547340066), (664, 0.016854450734968038), (798, 0.016854278892509567), (785, 0.016853742307185865), (2495, 0.01684227232554772), (298, 0.016834683761671482), (2380, 0.016817790098835057), (130, 0.01681437831126601), (2995, 0.0168120136902624), (812, 0.01677273270819518), (1256, 0.016748746034275324), (3021, 0.01674153779444423), (1843, 0.01673516659226265), (1534, 0.016733118667477058), (1756, 0.016727849104034933), (3477, 0.016702215648129917), (3778, 0.016700891610901162), (478, 0.01669877658407754), (1647, 0.016694955270168264), (1783, 0.01669075352159761), (4747, 0.0166803179663438), (4275, 0.016670760683897293), (307, 0.01663896022766368), (3648, 0.016635935363899405), (2416, 0.016600803389181098), (2456, 0.016594692874467725), (2496, 0.016588937962685256), (1693, 0.016582546188951084), (2578, 0.01658087382407257), (813, 0.016571852126593692), (1934, 0.016537701845205983), (4672, 0.016525277201948494), (1202, 0.016516054627333937), (2856, 0.01651449639622959), (3319, 0.01651297207875611), (1433, 0.016503181938357696), (4697, 0.016488939713116955), (1686, 0.0164759461887916), (1933, 0.016418619447233454), (1498, 0.016403761307324106), (4605, 0.016389483645761548), (573, 0.01637667845622484), (1890, 0.016372191062736137), (4063, 0.016370647139821323), (1477, 0.016361599312076223), (3294, 0.016361120358051394), (4165, 0.016358480772545297), (3079, 0.016348208173957907), (3371, 0.01634480659701446), (3375, 0.016328727988452196), (1984, 0.01630394355721423), (2487, 0.016294653199059175), (892, 0.016289048434199302), (2890, 0.016281361446329003), (1347, 0.01626938007681089), (2612, 0.016267509603305697), (2268, 0.016267356988859363), (2027, 0.01624763352270279), (3713, 0.016234200996838966), (16, 0.016229143054786174), (1055, 0.016197433813486654), (450, 0.01619038061093105), (4638, 0.01618141612493074), (511, 0.016155454074215998), (142, 0.016109813198727733), (3047, 0.016108356065178752), (2135, 0.016105796523150435), (2265, 0.016103699377748394), (1243, 0.016093522796576297), (2728, 0.016075876232285177), (1171, 0.01606848779270337), (1002, 0.016048662647773666), (2387, 0.016043374063587232), (3104, 0.016040683357421197), (4154, 0.01602906288732178), (1112, 0.016014049802016515), (505, 0.01600124775990153), (1631, 0.015980595878280882), (4545, 0.015967107626473343), (794, 0.0159455963456406), (1220, 0.015940572431212784), (2526, 0.015931317412974797), (4350, 0.015918980564049372), (146, 0.015915660164447665), (3819, 0.01590368342000691), (3381, 0.01588635053023254), (1910, 0.015884412164034814), (3067, 0.015883654783736444), (2248, 0.01587796942673081), (932, 0.015857237966330748), (1750, 0.015853074499756446), (1637, 0.015827011638978157), (2462, 0.01580921790024544), (2329, 0.015807241249890035), (4744, 0.015784546930098155), (3728, 0.015777972767437743), (2724, 0.015762709699249398), (3068, 0.015762647861612092), (1086, 0.015732266485647208), (655, 0.015729181009163776), (3973, 0.015709462133126986), (1596, 0.015673276688175284), (3083, 0.015657968338986573), (1608, 0.015657794281295337), (4395, 0.015641722560498495), (2418, 0.01564009703555944), (4365, 0.015624473572693896), (345, 0.015619241178064448), (916, 0.01560738105788175), (2057, 0.01559261480339229), (2461, 0.015589315536121189), (3321, 0.015584772231786226), (643, 0.015580340409429912), (187, 0.015559601203676115), (3890, 0.015555140773894615), (781, 0.015538849098737005), (2559, 0.015520907658132604), (1969, 0.015516417439936063), (97, 0.01549907877454736), (2100, 0.015496660918815288), (2075, 0.015470521249812005), (1462, 0.015449447803963822), (3150, 0.015437608732130362), (3742, 0.015436129531694502), (1445, 0.015416407299370695), (2493, 0.015409069474226458), (2954, 0.015379784035398799), (733, 0.01534814382797467), (2511, 0.015293864404696128), (3517, 0.01527733733847409), (1542, 0.01527648377346596), (2816, 0.015266881430032794), (4648, 0.01525945629655499), (4410, 0.015252826441231989), (1869, 0.015250338897223907), (2133, 0.015207774650331199), (143, 0.015204128569765957), (2031, 0.015199502158710028), (1717, 0.015195920414004572), (4292, 0.015183944273857655), (1323, 0.015174508785493613), (126, 0.015170022190436736), (4344, 0.015163444379579286), (2466, 0.01515306653337635), (2740, 0.015120147774415369), (4674, 0.015101639844978759), (4142, 0.015095106061783832), (856, 0.015084511695437983), (3121, 0.015050496179787081), (1166, 0.015040372363664178), (1414, 0.015026711563855504), (432, 0.015024854811552586), (1025, 0.015010008623055744), (2530, 0.015006415319371285), (3634, 0.014998114376562262), (3732, 0.014979560406769602), (2866, 0.014961508146013823), (2827, 0.014956642417616012), (4305, 0.014936650144595196), (64, 0.014857006500073006), (3034, 0.014850912534325803), (1114, 0.014843636505790719), (2593, 0.014834191323727382), (2491, 0.014823976661154552), (1543, 0.014813206841215277), (695, 0.014809184470745503), (1276, 0.014803680580850503), (5, 0.014798802030248788), (3331, 0.01478694980887261), (477, 0.014773992504695221), (1861, 0.014759122730848407), (3484, 0.014752131300585223), (2876, 0.014750517632729075), (1981, 0.014749218490631096), (3662, 0.014747512682114137), (2789, 0.014744827783112348), (1270, 0.014740019113130361), (1524, 0.014725410928022131), (218, 0.01471295094624722), (1599, 0.0146745187493144), (4199, 0.014647195358174917), (4405, 0.014646513530411125), (2836, 0.014640195532021416), (105, 0.014633407383515444), (3295, 0.01463187649939135), (4196, 0.014622199265050583), (3957, 0.014621235727128836), (1072, 0.01461403988588079), (1503, 0.014611644666240915), (2544, 0.014604109224971011), (1876, 0.014576918826241823), (174, 0.014574147968186181), (1626, 0.01456863250868288), (2402, 0.014560899983475995), (494, 0.014560189365738451), (2043, 0.014559771210309068), (357, 0.01453511444516419), (117, 0.014531287844931313), (1419, 0.014510927561244766), (4074, 0.014503059349623287), (438, 0.014501657785581382), (936, 0.014500465612399212), (1600, 0.014490583913250024), (98, 0.014447886148504679), (1678, 0.01441085048719757), (358, 0.014350181244245218), (2008, 0.014349057360201494), (4241, 0.014334123409825763), (2833, 0.014331595358391853), (3448, 0.014322819930845141), (2422, 0.014322608291375135), (662, 0.014305855268152222), (1253, 0.014291391147165886), (3206, 0.014285092577218318), (1258, 0.014283152726945927), (1937, 0.014236510680490597), (200, 0.014206919773084805), (820, 0.014202617094617285), (877, 0.014185825470418658), (2502, 0.014185767355307449), (2681, 0.014185311109794985), (4743, 0.014141753086777217), (2895, 0.014132457308710131), (4534, 0.014096418103440977), (2107, 0.014054497540583825), (2736, 0.014049348183113148), (3852, 0.014009451525980514), (924, 0.014004984985773822), (1160, 0.014004842402793373), (2859, 0.013988699788765817), (3891, 0.0139727761457229), (2259, 0.01396038814187948), (434, 0.013958879121892798), (223, 0.013956663763531243), (1677, 0.01395584810248665), (2707, 0.013857209135040228), (1289, 0.013838346459268423), (3238, 0.0138367398861569), (4589, 0.013819433503056394), (4059, 0.013798290250954767), (2382, 0.013773068309485919), (1547, 0.013751340903236178), (3172, 0.013747932440329834), (2751, 0.013744287896364988), (659, 0.013744065695179962), (3794, 0.01372778589471502), (1398, 0.013667815779561226), (4607, 0.013651721253824196), (2868, 0.0136510149438298), (1317, 0.013647254353386552), (3419, 0.01362548478412075), (1321, 0.01358844832768253), (369, 0.013575991081006027), (453, 0.01356432581784244), (0, 0.013512350503111599), (2220, 0.013499352924694659), (3091, 0.013489129990331573), (786, 0.013466474899159994), (532, 0.013458561849971233), (2198, 0.013454550166521497), (2555, 0.013426320264618184), (1236, 0.01341854368885354), (1713, 0.013407013267682476), (424, 0.013405899935919442), (425, 0.013394268826709018), (2399, 0.013378777337907363), (1437, 0.013378768926681401), (583, 0.013376126214221157), (77, 0.013369274284471051), (122, 0.013351271858415047), (3356, 0.013320794296331678), (2066, 0.01328213263275949), (247, 0.013277889236154616), (2710, 0.013275312241219526), (2917, 0.013267112027877469), (3560, 0.013266093778989482), (2672, 0.01323360089843818), (2164, 0.013215352588089195), (2356, 0.013198746726335541), (3459, 0.013169798911955657), (2381, 0.013163848538569518), (383, 0.013150107171189755), (41, 0.013137730424575429), (3311, 0.013110722127593916), (4742, 0.013107712105529776), (2587, 0.013093907938379805), (3062, 0.013089800687111765), (1408, 0.013078863975635284), (1460, 0.013070814158892125), (1000, 0.013036169683479109), (804, 0.013035913859099798), (2428, 0.013029874558930767), (715, 0.01302876791627807), (3697, 0.013007231288297422), (875, 0.012958577120689048), (3628, 0.012911197927060771), (4130, 0.012904817237559423), (1977, 0.012904452011996205), (635, 0.01289046199707179), (2935, 0.012872237027951514), (3163, 0.012850992836967763), (4491, 0.012846835305776134), (1943, 0.012842745193481383), (3202, 0.012837100679365419), (3538, 0.01282033310506424), (1700, 0.0127982266665743), (1894, 0.012794347757887006), (1465, 0.012792200591593032), (2888, 0.012789599380850428), (713, 0.012785114962704063), (1492, 0.012768749966361246), (92, 0.012754982368698393), (7, 0.012742928052710541), (24, 0.012717274689658453), (232, 0.01271214777886261), (3586, 0.012706500886111497), (2761, 0.012697196276759292), (3637, 0.012674963641594608), (4703, 0.012654455535201734), (2940, 0.012619639730388202), (1812, 0.012612565576494743), (3438, 0.01260453662559161), (1324, 0.01259443506944522), (826, 0.01259190680144559), (2522, 0.012583420873558404), (3846, 0.012581987751185523), (3152, 0.012575948585743782), (4289, 0.012566570591934667), (1206, 0.01255358545079232), (17, 0.012541987412100958), (3979, 0.01253538282292637), (4270, 0.012527949550934447), (1099, 0.012519690309862313), (2208, 0.012513829659019277), (1436, 0.012492470356425676), (3342, 0.01246990849977204), (1225, 0.012455555644657541), (1650, 0.012452429632439468), (1380, 0.012451898079340079), (1328, 0.012450772623994058), (1185, 0.01243908362840665), (1570, 0.012416943184420647), (707, 0.012410369531153834), (1603, 0.012390387559382933), (716, 0.012381102621072934), (320, 0.012377768461801716), (2640, 0.01235363725346322), (3870, 0.012343373258202098), (775, 0.012329122328785302), (2015, 0.01232864720564721), (201, 0.012318460002269433), (4419, 0.012308659576078844), (1841, 0.012280027781618269), (3668, 0.012267734304417827), (3124, 0.01225813645783708), (615, 0.012230525020948376), (1470, 0.012221004689315616), (4200, 0.0121991883752638), (1244, 0.012178551080248491), (4456, 0.01215920888007996), (1214, 0.012153202217068228), (631, 0.012139675901066328), (118, 0.012114596467736037), (1045, 0.012106773212546978), (1254, 0.012100663752412984), (4294, 0.012092525037966803), (2285, 0.012083666961961023), (3597, 0.012083516289461114), (1931, 0.01206326726654467), (3486, 0.01205513203419707), (2227, 0.012043482936696284), (2960, 0.01204215453827498), (4283, 0.012035247068976743), (366, 0.012032709202846143), (528, 0.012022009753185774), (3404, 0.012012577098812607), (1624, 0.01200676511268142), (1386, 0.012003541363336246), (2045, 0.011999057776299242), (919, 0.011998503232978856), (592, 0.011991852799825106), (1440, 0.011989124702159657), (108, 0.011983838586383678), (4210, 0.01197575271873728), (2647, 0.011958316950224028), (88, 0.011954254273697045), (714, 0.011946515666472573), (1611, 0.01193192802063461), (1522, 0.011922676599964085), (2554, 0.011910847069385904), (1945, 0.011896480361580627), (4609, 0.011888016549586086), (1346, 0.011874305901040764), (2153, 0.011871388380139875), (1369, 0.011862627822856074), (2506, 0.011845191562970113), (315, 0.011843167231528002), (1385, 0.01182170332058597), (1179, 0.011805216919755328), (4099, 0.011803735806487622), (305, 0.011795395683520313), (965, 0.011781035171817455), (2000, 0.011758007539104281), (2014, 0.011743061344469046), (4056, 0.011743054563144246), (610, 0.01173901221208979), (4188, 0.011731256047087016), (3963, 0.011718473967911886), (1604, 0.011706199299670489), (1012, 0.011696271767063712), (4509, 0.011687145128793184), (4242, 0.011679468426853962), (2847, 0.011657083461073178), (3421, 0.011653082624038455), (2298, 0.011650963398374308), (2443, 0.011649884750451967), (2908, 0.011647177224154676), (322, 0.011626360898243045), (1459, 0.011621750444701321), (4211, 0.01158991245528719), (539, 0.011553602549427347), (2730, 0.011551061466277013), (4224, 0.011546896395473261), (2616, 0.011544183318767734), (3629, 0.011532978031540395), (4112, 0.011524595790977695), (1350, 0.011500906586097443), (668, 0.01146648927524851), (321, 0.01145982226078758), (292, 0.011455192419138279), (3302, 0.01145459912113312), (4147, 0.011447283562931664), (4550, 0.011446033414957053), (3555, 0.01144315880180979), (1063, 0.01140778965251912), (3582, 0.011374132780967779), (4564, 0.011368359509130618), (3917, 0.011357600821558657), (1293, 0.011348428128147663), (310, 0.011343808840086553), (3786, 0.011328579892689716), (2117, 0.011325292174922525), (3568, 0.011323192499442632), (2641, 0.011313983873515045), (3607, 0.011296119736851275), (1552, 0.011288534739087166), (1207, 0.011279621247719071), (1001, 0.011252839554654991), (1273, 0.01123679699621079), (3700, 0.01121479609275916), (2368, 0.011205111660725022), (2287, 0.011203647337314795), (4272, 0.011201022081076633), (911, 0.01118562056202807), (266, 0.011151888187537182), (966, 0.011147757904238843), (1895, 0.011122280750392698), (271, 0.011107640410413292), (4451, 0.011092216299076349), (2750, 0.01109057280249996), (2139, 0.011081150244978874), (548, 0.011071810913304853), (3135, 0.011058472654583098), (426, 0.011043410394627943), (1898, 0.011040085687103202), (3136, 0.011011946309924584), (417, 0.010967037650821618), (3256, 0.010959071446513242), (1135, 0.010956402103815169), (568, 0.010950507698138944), (9, 0.010926115280892903), (2093, 0.010919613502407614), (4236, 0.010919220593935124), (4094, 0.01091501448627858), (2124, 0.010914890844566373), (3754, 0.010902774085065407), (1789, 0.010902609304580488), (540, 0.010896947262516325), (4445, 0.010880527512641784), (306, 0.01087832316073424), (4439, 0.01085154050400166), (448, 0.01085140356188824), (1987, 0.0108378859100926), (4650, 0.010834400972843614), (569, 0.010818245056821638), (225, 0.010812147093566144), (2560, 0.010790000943582775), (3117, 0.01077755139148462), (1507, 0.010765894819616439), (1675, 0.010756009021380547), (3651, 0.010754697181394218), (2803, 0.010744722813132754), (4193, 0.010737346818864799), (4117, 0.010731770347529954), (2781, 0.0106888339643064), (1387, 0.010658548484756121), (3600, 0.010646495251311125), (2426, 0.010641996842669223), (839, 0.010621710606988513), (2065, 0.010607520072582925), (501, 0.010602251747377698), (2185, 0.010577186041586285), (323, 0.010561293966839701), (954, 0.010552277330536063), (2389, 0.010531691324024836), (3099, 0.010501904660068489), (2852, 0.010498715687225572), (519, 0.010424827271624205), (4551, 0.010404338219518586), (4739, 0.010384411883809546), (1283, 0.010383115395640612), (1580, 0.01037396100102062), (2159, 0.010366780449473114), (32, 0.01035390394832365), (1797, 0.010351014076322527), (2996, 0.0103460729938432), (2433, 0.010339364494883437), (3924, 0.010334452226233826), (3529, 0.010330578747672728), (141, 0.010326229094177164), (3574, 0.010313782847971685), (3183, 0.010294850023146819), (3659, 0.010246322976259443), (2037, 0.010245488960300066), (342, 0.010241388431943629), (1764, 0.01023432073606186), (1379, 0.010233645694922845), (3365, 0.010220981663941222), (1563, 0.010213844139003583), (165, 0.010206569888795022), (330, 0.010195039162268603), (2822, 0.010189622585949798), (1679, 0.010186356484300765), (542, 0.010163622103278291), (3129, 0.01014393076385485), (2776, 0.010125401102994407), (3943, 0.010105269956634156), (2263, 0.010090064233393101), (3175, 0.01007412478772634), (1409, 0.010057708002918834), (2712, 0.010044802782462451), (725, 0.010043845864538173), (2104, 0.010040277506296439), (1352, 0.010029189947498074), (3065, 0.010028683663387303), (288, 0.010026842947494912), (2817, 0.010024655320167164), (4169, 0.01001437687036972), (792, 0.010000407029398879), (639, 0.009969920627482896), (3657, 0.00996362727412033), (2196, 0.009941826340524708), (2296, 0.009918144304132378), (1859, 0.009913232186896236), (4420, 0.009913201796026255), (2127, 0.009911781518102788), (2809, 0.00989564595401659), (3882, 0.009894462467692027), (178, 0.009889790246906217), (640, 0.009884160641124724), (1336, 0.009871341628432997), (1718, 0.009854294349848502), (2601, 0.00980457850430625), (717, 0.009803970974359045), (3162, 0.009803274632848503), (3224, 0.009787897261322558), (3229, 0.009763918563659794), (4756, 0.00975818166194166), (1155, 0.009750625826593019), (4079, 0.009745785754924328), (2034, 0.009727349467145983), (2053, 0.00970607484372423), (1494, 0.009685117914805958), (1805, 0.00966340775447799), (2235, 0.009660423262670813), (1777, 0.009658458590297299), (290, 0.00963458770485829), (1431, 0.00962676671479718), (3000, 0.009625679535734727), (3113, 0.009588828568600882), (4380, 0.009567479241250204), (1709, 0.009547819626825377), (2430, 0.009538331378463709), (1115, 0.00948704240561897), (289, 0.00947617908193493), (3980, 0.00947178349003298), (2774, 0.009434626071850263), (172, 0.00943109559005515), (1804, 0.009429819945261443), (2013, 0.009407062144822034), (294, 0.009400877394096396), (63, 0.00939668188462073), (931, 0.009394794898028035), (1886, 0.009384343473513475), (1133, 0.009381069117863256), (4623, 0.009367337774772883), (4268, 0.009363316302994373), (4688, 0.009334873900546834), (2010, 0.009324043445434946), (2174, 0.009318702033197786), (1549, 0.009273591199274043), (1757, 0.009261252688373115), (3746, 0.00925467509484329), (3195, 0.00925175780799447), (2687, 0.009249378693780747), (1100, 0.009245693984436552), (1026, 0.009225239470800967), (2807, 0.009222998963497313), (1130, 0.009212252393993826), (2111, 0.009208946946933898), (3400, 0.009193977026816819), (2663, 0.009191089117891469), (3447, 0.009186554937641976), (2632, 0.009180303187290174), (2553, 0.009165395622374669), (2759, 0.009160756817416705), (2698, 0.009159704039243509), (1967, 0.00913307817963526), (2365, 0.009128376755293524), (3370, 0.00912553223750125), (404, 0.009123483516781413), (790, 0.009112028026188528), (2912, 0.00910319383085978), (627, 0.009091966469459823), (1267, 0.009088218192475444), (672, 0.009081746820838657), (3526, 0.009076889655042837), (3010, 0.009065661297423012), (3487, 0.009039026563020604), (4658, 0.009038230801757615), (1561, 0.009036410485023), (396, 0.009034315559494794), (2167, 0.009033938707381332), (1996, 0.009033259262086797), (1248, 0.009032641423417509), (3503, 0.009014907111990088), (2829, 0.00900718224664374), (3970, 0.008991618691566537), (4155, 0.00898145055428829), (4587, 0.008960147479747703), (2409, 0.008953992925061991), (2517, 0.008937066688861723), (4441, 0.00893058701285182), (1878, 0.00892643880033459), (4374, 0.008924062475965907), (962, 0.008914450619327611), (373, 0.008909801252580576), (698, 0.008894792077698185), (1404, 0.008886717488741714), (2525, 0.008852661608046175), (2311, 0.008843631105137596), (1451, 0.008830753021114636), (311, 0.008824141314293424), (4418, 0.008818515510282747), (4548, 0.008812805626934102), (3399, 0.008783280528440254), (3205, 0.008782408347733518), (2327, 0.008765235352937642), (3338, 0.008758730885627349), (1778, 0.00875669564771782), (2201, 0.008745509440443649), (3829, 0.008739054748389258), (549, 0.008722550128229221), (3439, 0.008709009259655365), (1291, 0.00870839899459556), (3420, 0.008704374922565533), (3120, 0.008703939917426204), (240, 0.00870184843494475), (2317, 0.008698720605178008), (3854, 0.008693814708028503), (1920, 0.008692554918583005), (3558, 0.008679389128619696), (3589, 0.00866951372199222), (324, 0.008665009685594053), (2324, 0.008663236240767853), (2845, 0.008653052528016947), (2347, 0.008642308293158605), (121, 0.008640575200487985), (829, 0.008636291037318942), (524, 0.008624501207918198), (3244, 0.008612103766029167), (3329, 0.008594712466911503), (1210, 0.008585459404984468), (957, 0.008584488985498146), (465, 0.008582933810037585), (338, 0.008577262333995502), (2036, 0.008558059785081515), (352, 0.008544644825358801), (337, 0.008532785442224846), (1865, 0.008528778370723668), (1216, 0.008525076640655885), (4109, 0.008506539191866579), (1816, 0.008474604444041427), (2262, 0.008469710928781474), (3716, 0.00844958792590485), (2514, 0.008446286326607641), (2191, 0.00843127777593979), (3111, 0.008414326802770995), (2580, 0.008395670832507092), (732, 0.008392526180852608), (1762, 0.008386908842741828), (1539, 0.008383013910917867), (1392, 0.008358676890360349), (132, 0.008334902621086668), (705, 0.008322964163702524), (4343, 0.008315591582008522), (914, 0.008313618252612108), (2074, 0.008299588058100358), (605, 0.008272360315375345), (1213, 0.008258450595718446), (3411, 0.008248213582374504), (3894, 0.008245130655581029), (317, 0.008231983334692886), (1051, 0.008211760200330999), (2453, 0.00815178446626866), (2520, 0.008149804245588314), (1559, 0.008136434357774044), (629, 0.008118144123481243), (4426, 0.008111832687208139), (3393, 0.008085615027111453), (86, 0.008085178378629808), (2, 0.00806674385442584), (2801, 0.008064658944002904), (1008, 0.008055844944620437), (3279, 0.008055841943711627), (1215, 0.008047156117046378), (4570, 0.008026436394820957), (3579, 0.00802474730929453), (3731, 0.008017453932551223), (3752, 0.007986852308696201), (3344, 0.007984159138102196), (2204, 0.007969529856262285), (403, 0.007968441199748181), (2035, 0.007964337254525063), (461, 0.007951394756450274), (1615, 0.00795139308751615), (1365, 0.007938845792683917), (3674, 0.007935866838532103), (3377, 0.007857095863150882), (1042, 0.007851802442095403), (1758, 0.00776433103258709), (3328, 0.007760482566436541), (538, 0.0077550651815695), (4454, 0.0077463783239592465), (113, 0.007730946890091348), (4516, 0.007699497365446198), (3903, 0.007690885049406438), (4526, 0.007658418908604805), (156, 0.007637199563605071), (1344, 0.007602076800016878), (3703, 0.007600895219149756), (691, 0.0075983166964077664), (1999, 0.007584682411489991), (2532, 0.007580215948493167), (3587, 0.007563663914441084), (4018, 0.007559631577370605), (4160, 0.007528202524318609), (1586, 0.0075108369882092435), (1474, 0.007488069362240229), (309, 0.007477522573696539), (3877, 0.007475857399187697), (2766, 0.007459722400224065), (609, 0.007459307800124895), (365, 0.007456362237446449), (4034, 0.007449177386099249), (1725, 0.0074230454897828875), (3387, 0.0074146997244593175), (3444, 0.0074013653656590786), (168, 0.007388737528587363), (677, 0.0073585316664176075), (2575, 0.007338822912602071), (363, 0.00733707827940382), (2659, 0.007335284184652207), (4705, 0.0072807717023669494), (4086, 0.0072658114544889236), (4118, 0.007240743817151336), (340, 0.007214284938862995), (4492, 0.007212904106869343), (1228, 0.00720534180148052), (4351, 0.00720058979394637), (1731, 0.007198702707562586), (996, 0.007185817359019088), (351, 0.0071726006184044), (2609, 0.0071618126522655125), (3461, 0.007157200264942387), (361, 0.007127533562831238), (4202, 0.007120590250071042), (228, 0.007120098439794334), (297, 0.0071035892406054535), (301, 0.007102651996738634), (4323, 0.007072505473649356), (1389, 0.00707055459057551), (3208, 0.007058324671908095), (3983, 0.007043124964359606), (1277, 0.007030328791865774), (4354, 0.007024064662233499), (2249, 0.007021878420349952), (155, 0.007015377143378129), (1278, 0.00700814952029384), (1475, 0.006999726625625792), (586, 0.006994299352119736), (1932, 0.006972179168654396), (1165, 0.006955205704563682), (3287, 0.006941340208037505), (2667, 0.006939074626572016), (1351, 0.006933185277832921), (4709, 0.006921818378356541), (2332, 0.006919344361269557), (2048, 0.006910915314987055), (4643, 0.006906729260296676), (871, 0.006899005765667547), (2275, 0.006896163113356485), (4666, 0.006894210457604927), (2172, 0.00687612637890243), (4533, 0.006871904958999066), (4663, 0.0068706451770911324), (947, 0.006869255822842295), (2990, 0.006855223812594429), (1085, 0.006845112731326115), (3272, 0.006833829970946254), (4288, 0.006831283329197601), (1495, 0.006831183513211842), (1087, 0.0068262924979530775), (2551, 0.006822375635270885), (1889, 0.006816854438584445), (2887, 0.006803524070518483), (2130, 0.006787309982636744), (4501, 0.0067837144099315546), (1706, 0.006775636386647987), (2414, 0.006768294152921739), (182, 0.006768023690419081), (4300, 0.0067669664810048585), (3482, 0.006755591315114707), (1388, 0.006743719093011598), (299, 0.0067133988774449715), (4195, 0.006710402143603137), (2547, 0.0067058563287570195), (3346, 0.006696633350005133), (4016, 0.006695996284572634), (3805, 0.006694955072542885), (455, 0.006671171017252714), (1238, 0.006668710562619506), (724, 0.0066681814052045), (3058, 0.006654328394436888), (1198, 0.006646441865818542), (2569, 0.0066347109165898486), (2948, 0.006631575882228122), (1126, 0.006630269367220011), (1598, 0.006628165939624655), (1272, 0.006615769483814799), (3715, 0.006571124728839006), (4218, 0.006567845479201752), (4036, 0.006560653704077835), (2504, 0.006555711479883972), (2645, 0.00655364050047356), (824, 0.006546747639773099), (1607, 0.006538785759700448), (3286, 0.006518955845395365), (4440, 0.0065124324068614806), (4646, 0.006492774703275437), (1287, 0.006469111597639596), (720, 0.006457799475563739), (3826, 0.006455134179359864), (179, 0.0064539715169274385), (3472, 0.00645152037928258), (4303, 0.006447686717444768), (1231, 0.006434166699683588), (3567, 0.006433088792094214), (2795, 0.006431002949121442), (1912, 0.006428514264999026), (2600, 0.006424689889217079), (4523, 0.0064231243739545155), (852, 0.00642291002864422), (1490, 0.006415403504342159), (948, 0.00641191748825596), (2050, 0.006402434875179264), (2473, 0.006394662879120122), (1327, 0.006384975966766177), (4428, 0.006375748102590348), (1738, 0.006374235379080978), (53, 0.006362577784296498), (185, 0.006347871237861274), (4569, 0.00630301861086364), (650, 0.00628665006903264), (1855, 0.00628033130912558), (3588, 0.00625671016459895), (2590, 0.006250520534364684), (921, 0.0062490594368396135), (3426, 0.006246082879054125), (935, 0.006245316987975187), (4443, 0.006238268044248053), (4723, 0.006226277117618103), (4653, 0.006226103258386121), (1514, 0.006214037023837695), (2077, 0.00621045248741518), (4009, 0.006204078586647187), (2459, 0.006198248287516133), (4631, 0.006183975322641062), (409, 0.006181770080751873), (1079, 0.00617459470714903), (202, 0.00616886479697673), (3395, 0.0061682259632214), (3554, 0.006164437012434894), (920, 0.006164004091637862), (457, 0.006162619763628866), (2778, 0.006157566190394893), (4698, 0.006143946383979882), (2920, 0.006143499263737834), (2660, 0.0061388334608764245), (1288, 0.00610925502595821), (1941, 0.006094953114625857), (608, 0.006086489854492196), (428, 0.006062066778483927), (3726, 0.006056399999628036), (2741, 0.006045643809408121), (699, 0.006038234993158148), (2772, 0.006032299852022559), (1016, 0.0060312274454430515), (3397, 0.0060258423575736565), (1219, 0.006023590943047235), (3327, 0.006022657846418513), (795, 0.006018870148871725), (4642, 0.006009645042905038), (594, 0.006001519233853689), (904, 0.005994489814529478), (3865, 0.005988042945318755), (1601, 0.005959963805027233), (882, 0.005951951340072693), (1540, 0.005948758939349978), (3785, 0.0059344983781688355), (3440, 0.005916708730204961), (3741, 0.005915273039577137), (3312, 0.005914683743203633), (3450, 0.005914270790123219), (753, 0.005903090802651554), (277, 0.005902149329938324), (4597, 0.005900227059695408), (1591, 0.005897722562025116), (1815, 0.0058948701778186886), (905, 0.00589077892483672), (1090, 0.005890666824504804), (3947, 0.005884771875191463), (3708, 0.005879673179421161), (3803, 0.005874683756348597), (1194, 0.00586645686551672), (3394, 0.005855696248870936), (2625, 0.00585067115342859), (3165, 0.005848978727539731), (2676, 0.005839366569265636), (4244, 0.005833921749374263), (125, 0.005829805318493613), (38, 0.005819600682671032), (242, 0.0058134246291846586), (1397, 0.005806447882979422), (4741, 0.00580289386442982), (4121, 0.0057918975240412625), (1850, 0.005791431791287865), (3253, 0.00579095122933854), (2476, 0.005790407528548496), (2864, 0.005788486064871912), (2181, 0.00578021784621172), (2881, 0.005767440743115329), (3383, 0.005766147381038655), (286, 0.005761824392098212), (2576, 0.0057610019310837205), (2688, 0.005760561073123461), (3680, 0.005758477974930613), (4462, 0.005754758958460164), (1833, 0.005749529921311364), (683, 0.005748913863993276), (4393, 0.005744637549628656), (1560, 0.005738482319207466), (2352, 0.005738378821860413), (3168, 0.005734181194491013), (3373, 0.005731570653771344), (533, 0.005727638260443134), (682, 0.005727246809403682), (1023, 0.005724175792393674), (1050, 0.005720234044514979), (139, 0.0057135255584554985), (40, 0.005712381468276702), (2903, 0.005710748869229916), (4630, 0.005710739571635964), (4185, 0.005710550337415212), (3221, 0.005695606195966518), (3593, 0.005684619189356099), (4293, 0.005682465939589282), (458, 0.005682097913323985), (2840, 0.0056796085748868535), (729, 0.005678568733925389), (1332, 0.005673769581180797), (2383, 0.005662176204946004), (4119, 0.005659895526568052), (4144, 0.005645654625730543), (688, 0.005641178033812138), (58, 0.005630010350142351), (2040, 0.005625870500182432), (3192, 0.005625703384646576), (2538, 0.005625077342342339), (4619, 0.005618590049076246), (726, 0.00561434735543746), (48, 0.005611031053655781), (595, 0.005600546794464869), (1454, 0.005593306360027056), (3604, 0.005593231095520247), (162, 0.005593142339955404), (1681, 0.0055907807258763365), (2626, 0.005588895625107521), (1221, 0.00558226066084336), (3424, 0.005579331674874631), (2811, 0.005576619735415334), (123, 0.00557144592489913), (673, 0.005557110252306415), (1162, 0.005555713824303327), (4116, 0.005551842249512617), (3044, 0.00555091464479975), (3263, 0.005547697089024739), (350, 0.005543863713179266), (3064, 0.005541112558177608), (57, 0.005537629304700975), (513, 0.005535709645191291), (2979, 0.00553255617410146), (2082, 0.005524488276032759), (514, 0.0055224597282681614), (3642, 0.005522114672246349), (3771, 0.005515675200062588), (1015, 0.005504712250134733), (4659, 0.005495269352261145), (728, 0.005492457288887512), (4656, 0.005491238191990115), (4436, 0.00549118376125927), (210, 0.005488297984479732), (4726, 0.0054762567250853465), (3112, 0.005475882764631818), (1770, 0.005475656531693331), (4727, 0.005470547956617013), (1708, 0.0054694604433331686), (2243, 0.005462198360845368), (3451, 0.005458185696254104), (2028, 0.005453772091675728), (2670, 0.005450753407265064), (4131, 0.005449487202291446), (4038, 0.005444173783332476), (1732, 0.0054426808185949116), (180, 0.005441721534449925), (4005, 0.0054413540033322995), (2963, 0.005437252453498137), (1659, 0.005427877207184043), (10, 0.005426822818442424), (2499, 0.005414356903725498), (3710, 0.005413778618682901), (3297, 0.005411015055770853), (68, 0.005400721905399172), (1687, 0.005399276269729049), (3464, 0.005397012523983681), (2819, 0.005394557272050842), (4384, 0.005393683075655158), (4233, 0.005393625041671313), (1989, 0.005392983532419383), (1853, 0.005390206910422585), (2714, 0.00538943874392589), (4519, 0.00538677452924363), (1484, 0.005386708923004416), (1822, 0.005375616095737861), (470, 0.005370843377699781), (3259, 0.005370508217314466), (4392, 0.005362257856688693), (2959, 0.0053608620111556616), (2754, 0.0053388409284783325), (1734, 0.005335854618494464), (4430, 0.005331672944869676), (1736, 0.005330997229490853), (3862, 0.005318449115508629), (1229, 0.005316410086022828), (3591, 0.00531485316296595), (3241, 0.00531266035541604), (3310, 0.005312422588060799), (4629, 0.005312314846345088), (2085, 0.005305617380374773), (1513, 0.005304737886327208), (1432, 0.005304474374089246), (4586, 0.0053026328851696536), (386, 0.005302591072767089), (2241, 0.005295422746282965), (4390, 0.00529175645555069), (1949, 0.005279366344491157), (3507, 0.005278984994319262), (4486, 0.005278321529131201), (4716, 0.005277815914900001), (4379, 0.005276181770772635), (2238, 0.005273720373307793), (2780, 0.005272747173028014), (4249, 0.005254265562042776), (4745, 0.00525331701220003), (1735, 0.005251591488506808), (1516, 0.005244440718933361), (926, 0.005236986620172543), (2867, 0.00523636022607072), (809, 0.005227991512298198), (869, 0.005221180657530716), (4376, 0.0052209500097089075), (4098, 0.0052199072168094005), (2947, 0.0052194217099266775), (3445, 0.005215242011787816), (3522, 0.005211828436988149), (908, 0.005202316339571682), (1337, 0.005196796449953559), (4684, 0.00519669750514754), (1740, 0.005194735967850221), (3603, 0.005189560125356372), (1122, 0.005184492826693353), (2788, 0.005184351668834886), (3707, 0.00518287740034239), (2210, 0.00517756152027005), (994, 0.0051750791053071276), (353, 0.005171946352900596), (1751, 0.005152220381880466), (1138, 0.0051512900188397425), (3002, 0.005146229954370226), (3676, 0.005146115243535294), (1510, 0.0051409349064406905), (3210, 0.005136618466314347), (4503, 0.005135804607695174), (848, 0.0051356683540095295), (3227, 0.005134573067082979), (1512, 0.005125542651602695), (4435, 0.005116666051515594), (560, 0.005107772625014686), (4001, 0.0051009446639803), (2081, 0.005097758531437283), (4310, 0.00509753100873149), (749, 0.005095433179631055), (986, 0.005088484725643405), (3416, 0.005087606255335039), (3343, 0.005087221234495748), (2212, 0.005081332450789897), (1581, 0.005077553515898862), (2943, 0.005074069838700704), (4148, 0.005072445513456977), (3698, 0.0050577007068472795), (2562, 0.005055514091703303), (3432, 0.005055068644493795), (1102, 0.005054077488233403), (4708, 0.0050534759291161755), (1483, 0.005052873802339424), (3441, 0.005050546212949562), (3340, 0.005047947101846288), (1252, 0.005045334080580912), (1504, 0.00504359971823745), (1442, 0.005041517535614369), (1226, 0.005041101701159585), (1692, 0.005038522248686354), (2825, 0.005030653521043225), (534, 0.005029548978639814), (233, 0.005025993117064434), (3161, 0.005023710611106696), (1127, 0.005012148280484355), (3546, 0.005009518611388316), (3814, 0.005008843577351117), (1338, 0.0050085810891290885), (3602, 0.005007128890809646), (727, 0.005003158495767999), (4020, 0.004995848054817255), (2910, 0.004982468571919212), (244, 0.004981706395575845), (1406, 0.004976970081010334), (2239, 0.004967356278396099), (500, 0.004965364412416848), (4039, 0.0049640974857084125), (217, 0.004963460103389385), (230, 0.004959201801565787), (1096, 0.004954179211103859), (1035, 0.004947113182521247), (328, 0.004945784128806479), (3531, 0.004939233256122891), (825, 0.0049389214907018955), (4573, 0.004936626890780736), (1044, 0.004933088800869022), (4673, 0.004932200138009329), (651, 0.00491643715799583), (3660, 0.004910751126485673), (2918, 0.004906104277690643), (4543, 0.0049049844558570034), (1544, 0.004888389762074079), (1545, 0.004883255130398422), (3126, 0.004876799156680757), (2024, 0.004876431036058727), (2206, 0.004867499263238642), (4481, 0.004865488266769356), (3085, 0.004864809587830777), (854, 0.004859922098770329), (3978, 0.00485721017997087), (2787, 0.004842249725255379), (2706, 0.004841301429233157), (144, 0.004839357802227716), (644, 0.004837535407445185), (3465, 0.004836938187116536), (1274, 0.004836143854752222), (2224, 0.004832189222283259), (827, 0.004830991637118493), (4345, 0.004830341007367038), (1818, 0.004825654015628246), (4037, 0.004824100403517728), (2094, 0.004818902169057124), (336, 0.004815540132146866), (878, 0.004809810896240882), (1054, 0.004808551859235112), (641, 0.004808228315204733), (4012, 0.004806114980091062), (3723, 0.0048058625323222455), (2166, 0.004795907624868726), (1973, 0.0047904692297537485), (3609, 0.004788307736323977), (2184, 0.004783602151283833), (1749, 0.004776207760805445), (2885, 0.004773954446716476), (1665, 0.004768032429176413), (1721, 0.004765173833415848), (4568, 0.004759789862148642), (2634, 0.004758226628691904), (4328, 0.004757238512576882), (2052, 0.004749132632042743), (2992, 0.004748166632442189), (2862, 0.004745822133041998), (2958, 0.004744178210532723), (690, 0.0047379754993361525), (4591, 0.004736182358616478), (866, 0.0047340854824883365), (3143, 0.0047295143503489605), (868, 0.004728069198298871), (2742, 0.00472803457927096), (1183, 0.004726735929748126), (2513, 0.004722950895579817), (2429, 0.004720492980834439), (2777, 0.004711940564009187), (1823, 0.004711587061518797), (3993, 0.00470499191804806), (2315, 0.0046937508070904405), (1357, 0.004692860950403428), (2674, 0.004687656408436338), (2274, 0.004685595576513994), (4649, 0.004676632745710445), (411, 0.004674124727678744), (2791, 0.004670238440639063), (3306, 0.004668592426999212), (4600, 0.004660238147573763), (3738, 0.004657835053026629), (1065, 0.0046544048307561375), (1796, 0.004646316565111473), (3130, 0.004645677662795729), (3953, 0.004633340291436092), (2033, 0.004632068448895547), (1680, 0.004624874124533876), (3267, 0.0046206891043370415), (4044, 0.004620517643810017), (4447, 0.0046200548613142), (3860, 0.004617110859029837), (2424, 0.004615740081912829), (170, 0.00461398779738674), (632, 0.004602430178350161), (515, 0.004590199756538681), (800, 0.004577190324543849), (4590, 0.004559925152447589), (3556, 0.004553247522021706), (1870, 0.004551456627263809), (3070, 0.004548893687484187), (1384, 0.004532267588087978), (4608, 0.004518992637422136), (4450, 0.00451415452586609), (4661, 0.0045139542699414595), (1290, 0.004511486596588394), (495, 0.004504010214066461), (851, 0.004461102442754855), (4432, 0.00445721721262978), (4553, 0.004452766568014481), (2971, 0.00443092221037486), (653, 0.004430635677745044), (3525, 0.0044271854105398765), (4353, 0.004422358247758163), (2412, 0.004421726503102626), (4429, 0.004421498421319005), (2842, 0.004402795629048701), (1828, 0.004394016129538099), (3339, 0.004382404105624196), (3958, 0.004367002016710183), (3776, 0.004361309036036593), (779, 0.004353002894831688), (1627, 0.00435299965651173), (2020, 0.004343760583591359), (1781, 0.004332917124626726), (4095, 0.004321677768330686), (1971, 0.004316285029587624), (723, 0.004310932167714572), (621, 0.00430858928762007), (3658, 0.0042791573496783605), (3213, 0.004268681901167917), (4733, 0.004249010878286198), (1092, 0.0042445086772198186), (44, 0.004239033909104876), (2969, 0.004223555139167664), (442, 0.004222457085858701), (3024, 0.00421256531824239), (2025, 0.004200769917264679), (738, 0.00419508992696842), (1241, 0.004186324416252521), (2913, 0.00417688663326263), (2697, 0.004168919206727335), (435, 0.004129262387342898), (719, 0.004091102967634054), (1576, 0.00407885691451074), (159, 0.00398554556727727), (2113, 0.003984952389465658), (1417, 0.003975079343010591), (2767, 0.003972929162676839), (3946, 0.003949081776109489), (1005, 0.0038923411439563847), (3645, 0.003838342364984528), (296, 0.003816624063683471), (332, 0.0038129985369237695), (1471, 0.003776303730600691), (929, 0.003673457307004531), (4752, 0.003647700185619607), (1153, 0.0035704611724900067), (3429, 0.003462316117120466), (3, 0.0), (4, 0.0), (13, 0.0), (14, 0.0), (18, 0.0), (20, 0.0), (21, 0.0), (23, 0.0), (25, 0.0), (26, 0.0), (29, 0.0), (34, 0.0), (42, 0.0), (47, 0.0), (49, 0.0), (50, 0.0), (51, 0.0), (52, 0.0), (60, 0.0), (62, 0.0), (66, 0.0), (71, 0.0), (81, 0.0), (82, 0.0), (83, 0.0), (89, 0.0), (99, 0.0), (100, 0.0), (103, 0.0), (114, 0.0), (116, 0.0), (120, 0.0), (124, 0.0), (127, 0.0), (129, 0.0), (131, 0.0), (133, 0.0), (134, 0.0), (138, 0.0), (140, 0.0), (145, 0.0), (147, 0.0), (149, 0.0), (154, 0.0), (157, 0.0), (161, 0.0), (163, 0.0), (164, 0.0), (166, 0.0), (169, 0.0), (173, 0.0), (175, 0.0), (176, 0.0), (177, 0.0), (183, 0.0), (184, 0.0), (186, 0.0), (188, 0.0), (190, 0.0), (192, 0.0), (193, 0.0), (195, 0.0), (196, 0.0), (197, 0.0), (198, 0.0), (204, 0.0), (205, 0.0), (206, 0.0), (207, 0.0), (209, 0.0), (211, 0.0), (213, 0.0), (214, 0.0), (215, 0.0), (216, 0.0), (221, 0.0), (222, 0.0), (224, 0.0), (226, 0.0), (227, 0.0), (229, 0.0), (238, 0.0), (243, 0.0), (245, 0.0), (246, 0.0), (248, 0.0), (250, 0.0), (253, 0.0), (254, 0.0), (256, 0.0), (262, 0.0), (267, 0.0), (268, 0.0), (270, 0.0), (272, 0.0), (273, 0.0), (274, 0.0), (275, 0.0), (276, 0.0), (278, 0.0), (280, 0.0), (281, 0.0), (287, 0.0), (291, 0.0), (293, 0.0), (302, 0.0), (304, 0.0), (312, 0.0), (313, 0.0), (318, 0.0), (325, 0.0), (326, 0.0), (329, 0.0), (331, 0.0), (335, 0.0), (341, 0.0), (344, 0.0), (346, 0.0), (348, 0.0), (349, 0.0), (354, 0.0), (359, 0.0), (360, 0.0), (370, 0.0), (372, 0.0), (384, 0.0), (385, 0.0), (387, 0.0), (388, 0.0), (391, 0.0), (392, 0.0), (393, 0.0), (395, 0.0), (398, 0.0), (399, 0.0), (402, 0.0), (406, 0.0), (408, 0.0), (410, 0.0), (412, 0.0), (414, 0.0), (415, 0.0), (420, 0.0), (423, 0.0), (431, 0.0), (437, 0.0), (441, 0.0), (444, 0.0), (445, 0.0), (446, 0.0), (449, 0.0), (454, 0.0), (456, 0.0), (459, 0.0), (462, 0.0), (464, 0.0), (466, 0.0), (471, 0.0), (473, 0.0), (475, 0.0), (476, 0.0), (480, 0.0), (483, 0.0), (485, 0.0), (487, 0.0), (489, 0.0), (490, 0.0), (493, 0.0), (499, 0.0), (503, 0.0), (504, 0.0), (506, 0.0), (507, 0.0), (510, 0.0), (518, 0.0), (520, 0.0), (521, 0.0), (522, 0.0), (523, 0.0), (525, 0.0), (526, 0.0), (527, 0.0), (529, 0.0), (535, 0.0), (536, 0.0), (541, 0.0), (544, 0.0), (547, 0.0), (551, 0.0), (552, 0.0), (556, 0.0), (557, 0.0), (559, 0.0), (563, 0.0), (564, 0.0), (571, 0.0), (574, 0.0), (576, 0.0), (577, 0.0), (578, 0.0), (579, 0.0), (580, 0.0), (581, 0.0), (582, 0.0), (584, 0.0), (585, 0.0), (587, 0.0), (588, 0.0), (589, 0.0), (590, 0.0), (593, 0.0), (596, 0.0), (597, 0.0), (598, 0.0), (607, 0.0), (611, 0.0), (612, 0.0), (616, 0.0), (617, 0.0), (618, 0.0), (623, 0.0), (624, 0.0), (626, 0.0), (628, 0.0), (630, 0.0), (633, 0.0), (634, 0.0), (636, 0.0), (637, 0.0), (638, 0.0), (642, 0.0), (645, 0.0), (646, 0.0), (648, 0.0), (652, 0.0), (657, 0.0), (658, 0.0), (660, 0.0), (665, 0.0), (667, 0.0), (671, 0.0), (675, 0.0), (676, 0.0), (679, 0.0), (685, 0.0), (689, 0.0), (693, 0.0), (696, 0.0), (697, 0.0), (701, 0.0), (703, 0.0), (704, 0.0), (706, 0.0), (708, 0.0), (709, 0.0), (710, 0.0), (711, 0.0), (712, 0.0), (722, 0.0), (730, 0.0), (734, 0.0), (735, 0.0), (736, 0.0), (737, 0.0), (740, 0.0), (741, 0.0), (742, 0.0), (743, 0.0), (746, 0.0), (752, 0.0), (754, 0.0), (755, 0.0), (757, 0.0), (758, 0.0), (759, 0.0), (760, 0.0), (761, 0.0), (764, 0.0), (765, 0.0), (766, 0.0), (767, 0.0), (768, 0.0), (770, 0.0), (771, 0.0), (772, 0.0), (773, 0.0), (774, 0.0), (780, 0.0), (782, 0.0), (783, 0.0), (787, 0.0), (788, 0.0), (789, 0.0), (791, 0.0), (797, 0.0), (799, 0.0), (801, 0.0), (805, 0.0), (806, 0.0), (807, 0.0), (808, 0.0), (810, 0.0), (811, 0.0), (814, 0.0), (816, 0.0), (817, 0.0), (818, 0.0), (819, 0.0), (823, 0.0), (828, 0.0), (830, 0.0), (831, 0.0), (832, 0.0), (836, 0.0), (837, 0.0), (838, 0.0), (840, 0.0), (841, 0.0), (843, 0.0), (857, 0.0), (858, 0.0), (859, 0.0), (860, 0.0), (861, 0.0), (862, 0.0), (865, 0.0), (867, 0.0), (870, 0.0), (873, 0.0), (874, 0.0), (885, 0.0), (886, 0.0), (888, 0.0), (889, 0.0), (890, 0.0), (893, 0.0), (894, 0.0), (897, 0.0), (898, 0.0), (899, 0.0), (900, 0.0), (907, 0.0), (910, 0.0), (917, 0.0), (922, 0.0), (925, 0.0), (927, 0.0), (930, 0.0), (933, 0.0), (934, 0.0), (937, 0.0), (940, 0.0), (941, 0.0), (942, 0.0), (943, 0.0), (949, 0.0), (953, 0.0), (955, 0.0), (958, 0.0), (959, 0.0), (960, 0.0), (964, 0.0), (967, 0.0), (968, 0.0), (969, 0.0), (970, 0.0), (971, 0.0), (972, 0.0), (976, 0.0), (978, 0.0), (980, 0.0), (983, 0.0), (984, 0.0), (985, 0.0), (987, 0.0), (989, 0.0), (991, 0.0), (993, 0.0), (995, 0.0), (998, 0.0), (999, 0.0), (1004, 0.0), (1006, 0.0), (1018, 0.0), (1019, 0.0), (1020, 0.0), (1021, 0.0), (1030, 0.0), (1032, 0.0), (1033, 0.0), (1034, 0.0), (1036, 0.0), (1037, 0.0), (1039, 0.0), (1040, 0.0), (1041, 0.0), (1047, 0.0), (1048, 0.0), (1049, 0.0), (1052, 0.0), (1053, 0.0), (1059, 0.0), (1061, 0.0), (1062, 0.0), (1064, 0.0), (1068, 0.0), (1070, 0.0), (1073, 0.0), (1075, 0.0), (1077, 0.0), (1078, 0.0), (1080, 0.0), (1081, 0.0), (1084, 0.0), (1088, 0.0), (1089, 0.0), (1093, 0.0), (1098, 0.0), (1103, 0.0), (1104, 0.0), (1105, 0.0), (1106, 0.0), (1107, 0.0), (1109, 0.0), (1110, 0.0), (1117, 0.0), (1119, 0.0), (1121, 0.0), (1124, 0.0), (1128, 0.0), (1132, 0.0), (1136, 0.0), (1139, 0.0), (1142, 0.0), (1143, 0.0), (1144, 0.0), (1145, 0.0), (1147, 0.0), (1148, 0.0), (1149, 0.0), (1152, 0.0), (1156, 0.0), (1157, 0.0), (1158, 0.0), (1161, 0.0), (1163, 0.0), (1169, 0.0), (1170, 0.0), (1176, 0.0), (1177, 0.0), (1180, 0.0), (1181, 0.0), (1182, 0.0), (1184, 0.0), (1186, 0.0), (1187, 0.0), (1189, 0.0), (1191, 0.0), (1192, 0.0), (1193, 0.0), (1196, 0.0), (1197, 0.0), (1199, 0.0), (1200, 0.0), (1201, 0.0), (1203, 0.0), (1208, 0.0), (1209, 0.0), (1211, 0.0), (1217, 0.0), (1218, 0.0), (1222, 0.0), (1223, 0.0), (1224, 0.0), (1227, 0.0), (1232, 0.0), (1235, 0.0), (1246, 0.0), (1247, 0.0), (1251, 0.0), (1260, 0.0), (1268, 0.0), (1275, 0.0), (1282, 0.0), (1284, 0.0), (1286, 0.0), (1294, 0.0), (1298, 0.0), (1299, 0.0), (1300, 0.0), (1303, 0.0), (1305, 0.0), (1306, 0.0), (1312, 0.0), (1313, 0.0), (1316, 0.0), (1318, 0.0), (1319, 0.0), (1325, 0.0), (1329, 0.0), (1330, 0.0), (1331, 0.0), (1339, 0.0), (1340, 0.0), (1343, 0.0), (1349, 0.0), (1353, 0.0), (1355, 0.0), (1356, 0.0), (1359, 0.0), (1362, 0.0), (1363, 0.0), (1364, 0.0), (1372, 0.0), (1375, 0.0), (1376, 0.0), (1390, 0.0), (1391, 0.0), (1394, 0.0), (1395, 0.0), (1399, 0.0), (1400, 0.0), (1405, 0.0), (1415, 0.0), (1416, 0.0), (1420, 0.0), (1421, 0.0), (1422, 0.0), (1423, 0.0), (1424, 0.0), (1425, 0.0), (1426, 0.0), (1427, 0.0), (1428, 0.0), (1429, 0.0), (1430, 0.0), (1434, 0.0), (1438, 0.0), (1439, 0.0), (1441, 0.0), (1444, 0.0), (1446, 0.0), (1447, 0.0), (1448, 0.0), (1449, 0.0), (1450, 0.0), (1452, 0.0), (1453, 0.0), (1456, 0.0), (1457, 0.0), (1461, 0.0), (1463, 0.0), (1464, 0.0), (1476, 0.0), (1479, 0.0), (1480, 0.0), (1481, 0.0), (1482, 0.0), (1485, 0.0), (1487, 0.0), (1489, 0.0), (1491, 0.0), (1497, 0.0), (1499, 0.0), (1501, 0.0), (1506, 0.0), (1508, 0.0), (1509, 0.0), (1517, 0.0), (1518, 0.0), (1520, 0.0), (1523, 0.0), (1525, 0.0), (1526, 0.0), (1528, 0.0), (1531, 0.0), (1532, 0.0), (1541, 0.0), (1550, 0.0), (1553, 0.0), (1556, 0.0), (1557, 0.0), (1558, 0.0), (1562, 0.0), (1565, 0.0), (1568, 0.0), (1571, 0.0), (1573, 0.0), (1578, 0.0), (1582, 0.0), (1583, 0.0), (1585, 0.0), (1588, 0.0), (1593, 0.0), (1594, 0.0), (1595, 0.0), (1597, 0.0), (1602, 0.0), (1605, 0.0), (1606, 0.0), (1609, 0.0), (1610, 0.0), (1612, 0.0), (1614, 0.0), (1617, 0.0), (1618, 0.0), (1619, 0.0), (1620, 0.0), (1621, 0.0), (1622, 0.0), (1623, 0.0), (1628, 0.0), (1629, 0.0), (1630, 0.0), (1633, 0.0), (1635, 0.0), (1642, 0.0), (1643, 0.0), (1644, 0.0), (1648, 0.0), (1654, 0.0), (1655, 0.0), (1656, 0.0), (1658, 0.0), (1660, 0.0), (1661, 0.0), (1663, 0.0), (1666, 0.0), (1667, 0.0), (1668, 0.0), (1669, 0.0), (1670, 0.0), (1671, 0.0), (1672, 0.0), (1673, 0.0), (1674, 0.0), (1676, 0.0), (1683, 0.0), (1684, 0.0), (1685, 0.0), (1688, 0.0), (1689, 0.0), (1690, 0.0), (1691, 0.0), (1694, 0.0), (1695, 0.0), (1698, 0.0), (1699, 0.0), (1702, 0.0), (1704, 0.0), (1707, 0.0), (1710, 0.0), (1711, 0.0), (1712, 0.0), (1715, 0.0), (1719, 0.0), (1720, 0.0), (1722, 0.0), (1724, 0.0), (1729, 0.0), (1730, 0.0), (1733, 0.0), (1739, 0.0), (1742, 0.0), (1744, 0.0), (1746, 0.0), (1747, 0.0), (1748, 0.0), (1752, 0.0), (1753, 0.0), (1754, 0.0), (1759, 0.0), (1760, 0.0), (1761, 0.0), (1765, 0.0), (1766, 0.0), (1767, 0.0), (1769, 0.0), (1771, 0.0), (1774, 0.0), (1775, 0.0), (1776, 0.0), (1779, 0.0), (1780, 0.0), (1784, 0.0), (1785, 0.0), (1787, 0.0), (1790, 0.0), (1792, 0.0), (1794, 0.0), (1795, 0.0), (1800, 0.0), (1801, 0.0), (1803, 0.0), (1806, 0.0), (1807, 0.0), (1811, 0.0), (1813, 0.0), (1814, 0.0), (1817, 0.0), (1819, 0.0), (1821, 0.0), (1824, 0.0), (1826, 0.0), (1827, 0.0), (1831, 0.0), (1832, 0.0), (1834, 0.0), (1837, 0.0), (1838, 0.0), (1839, 0.0), (1840, 0.0), (1842, 0.0), (1845, 0.0), (1848, 0.0), (1849, 0.0), (1851, 0.0), (1854, 0.0), (1856, 0.0), (1857, 0.0), (1858, 0.0), (1860, 0.0), (1862, 0.0), (1863, 0.0), (1866, 0.0), (1867, 0.0), (1868, 0.0), (1871, 0.0), (1873, 0.0), (1874, 0.0), (1877, 0.0), (1880, 0.0), (1882, 0.0), (1884, 0.0), (1885, 0.0), (1887, 0.0), (1891, 0.0), (1892, 0.0), (1893, 0.0), (1897, 0.0), (1899, 0.0), (1900, 0.0), (1902, 0.0), (1905, 0.0), (1907, 0.0), (1909, 0.0), (1913, 0.0), (1914, 0.0), (1915, 0.0), (1916, 0.0), (1917, 0.0), (1918, 0.0), (1919, 0.0), (1921, 0.0), (1922, 0.0), (1923, 0.0), (1927, 0.0), (1928, 0.0), (1929, 0.0), (1935, 0.0), (1942, 0.0), (1944, 0.0), (1946, 0.0), (1947, 0.0), (1950, 0.0), (1951, 0.0), (1952, 0.0), (1953, 0.0), (1954, 0.0), (1956, 0.0), (1957, 0.0), (1959, 0.0), (1960, 0.0), (1962, 0.0), (1963, 0.0), (1964, 0.0), (1970, 0.0), (1972, 0.0), (1975, 0.0), (1980, 0.0), (1983, 0.0), (1988, 0.0), (1990, 0.0), (1992, 0.0), (1993, 0.0), (1994, 0.0), (1995, 0.0), (1998, 0.0), (2001, 0.0), (2002, 0.0), (2003, 0.0), (2004, 0.0), (2005, 0.0), (2009, 0.0), (2011, 0.0), (2023, 0.0), (2029, 0.0), (2030, 0.0), (2032, 0.0), (2039, 0.0), (2046, 0.0), (2047, 0.0), (2051, 0.0), (2054, 0.0), (2056, 0.0), (2059, 0.0), (2060, 0.0), (2063, 0.0), (2068, 0.0), (2069, 0.0), (2071, 0.0), (2076, 0.0), (2079, 0.0), (2080, 0.0), (2084, 0.0), (2087, 0.0), (2092, 0.0), (2096, 0.0), (2097, 0.0), (2098, 0.0), (2099, 0.0), (2101, 0.0), (2102, 0.0), (2106, 0.0), (2108, 0.0), (2109, 0.0), (2110, 0.0), (2115, 0.0), (2116, 0.0), (2119, 0.0), (2120, 0.0), (2121, 0.0), (2126, 0.0), (2128, 0.0), (2129, 0.0), (2131, 0.0), (2132, 0.0), (2134, 0.0), (2137, 0.0), (2138, 0.0), (2142, 0.0), (2144, 0.0), (2145, 0.0), (2146, 0.0), (2147, 0.0), (2148, 0.0), (2149, 0.0), (2151, 0.0), (2152, 0.0), (2154, 0.0), (2156, 0.0), (2157, 0.0), (2160, 0.0), (2162, 0.0), (2163, 0.0), (2165, 0.0), (2168, 0.0), (2169, 0.0), (2173, 0.0), (2175, 0.0), (2176, 0.0), (2179, 0.0), (2186, 0.0), (2187, 0.0), (2189, 0.0), (2190, 0.0), (2192, 0.0), (2193, 0.0), (2194, 0.0), (2195, 0.0), (2200, 0.0), (2203, 0.0), (2207, 0.0), (2209, 0.0), (2211, 0.0), (2213, 0.0), (2214, 0.0), (2215, 0.0), (2219, 0.0), (2223, 0.0), (2225, 0.0), (2226, 0.0), (2228, 0.0), (2229, 0.0), (2231, 0.0), (2236, 0.0), (2242, 0.0), (2244, 0.0), (2245, 0.0), (2246, 0.0), (2247, 0.0), (2252, 0.0), (2254, 0.0), (2255, 0.0), (2257, 0.0), (2261, 0.0), (2264, 0.0), (2266, 0.0), (2267, 0.0), (2270, 0.0), (2271, 0.0), (2272, 0.0), (2273, 0.0), (2279, 0.0), (2281, 0.0), (2282, 0.0), (2284, 0.0), (2289, 0.0), (2290, 0.0), (2292, 0.0), (2293, 0.0), (2295, 0.0), (2297, 0.0), (2300, 0.0), (2301, 0.0), (2302, 0.0), (2303, 0.0), (2305, 0.0), (2306, 0.0), (2307, 0.0), (2308, 0.0), (2309, 0.0), (2310, 0.0), (2313, 0.0), (2318, 0.0), (2319, 0.0), (2320, 0.0), (2321, 0.0), (2323, 0.0), (2325, 0.0), (2328, 0.0), (2331, 0.0), (2333, 0.0), (2335, 0.0), (2336, 0.0), (2338, 0.0), (2339, 0.0), (2340, 0.0), (2341, 0.0), (2342, 0.0), (2343, 0.0), (2344, 0.0), (2345, 0.0), (2346, 0.0), (2348, 0.0), (2350, 0.0), (2351, 0.0), (2358, 0.0), (2359, 0.0), (2360, 0.0), (2362, 0.0), (2366, 0.0), (2367, 0.0), (2369, 0.0), (2370, 0.0), (2371, 0.0), (2372, 0.0), (2373, 0.0), (2374, 0.0), (2375, 0.0), (2376, 0.0), (2377, 0.0), (2379, 0.0), (2384, 0.0), (2386, 0.0), (2388, 0.0), (2390, 0.0), (2392, 0.0), (2393, 0.0), (2394, 0.0), (2395, 0.0), (2396, 0.0), (2397, 0.0), (2398, 0.0), (2400, 0.0), (2401, 0.0), (2404, 0.0), (2405, 0.0), (2406, 0.0), (2407, 0.0), (2408, 0.0), (2410, 0.0), (2417, 0.0), (2419, 0.0), (2423, 0.0), (2425, 0.0), (2431, 0.0), (2434, 0.0), (2436, 0.0), (2437, 0.0), (2438, 0.0), (2440, 0.0), (2441, 0.0), (2445, 0.0), (2446, 0.0), (2447, 0.0), (2449, 0.0), (2452, 0.0), (2454, 0.0), (2455, 0.0), (2457, 0.0), (2458, 0.0), (2460, 0.0), (2463, 0.0), (2464, 0.0), (2467, 0.0), (2469, 0.0), (2475, 0.0), (2477, 0.0), (2478, 0.0), (2480, 0.0), (2481, 0.0), (2482, 0.0), (2483, 0.0), (2485, 0.0), (2486, 0.0), (2488, 0.0), (2489, 0.0), (2494, 0.0), (2503, 0.0), (2505, 0.0), (2508, 0.0), (2509, 0.0), (2510, 0.0), (2515, 0.0), (2516, 0.0), (2518, 0.0), (2519, 0.0), (2523, 0.0), (2524, 0.0), (2528, 0.0), (2529, 0.0), (2531, 0.0), (2533, 0.0), (2535, 0.0), (2536, 0.0), (2542, 0.0), (2543, 0.0), (2545, 0.0), (2546, 0.0), (2548, 0.0), (2550, 0.0), (2556, 0.0), (2557, 0.0), (2558, 0.0), (2561, 0.0), (2564, 0.0), (2565, 0.0), (2566, 0.0), (2568, 0.0), (2572, 0.0), (2577, 0.0), (2579, 0.0), (2583, 0.0), (2585, 0.0), (2586, 0.0), (2588, 0.0), (2591, 0.0), (2592, 0.0), (2595, 0.0), (2596, 0.0), (2598, 0.0), (2602, 0.0), (2604, 0.0), (2606, 0.0), (2607, 0.0), (2608, 0.0), (2610, 0.0), (2611, 0.0), (2613, 0.0), (2619, 0.0), (2620, 0.0), (2621, 0.0), (2623, 0.0), (2624, 0.0), (2627, 0.0), (2628, 0.0), (2629, 0.0), (2630, 0.0), (2631, 0.0), (2633, 0.0), (2635, 0.0), (2638, 0.0), (2639, 0.0), (2643, 0.0), (2648, 0.0), (2649, 0.0), (2650, 0.0), (2651, 0.0), (2652, 0.0), (2653, 0.0), (2654, 0.0), (2655, 0.0), (2656, 0.0), (2658, 0.0), (2661, 0.0), (2662, 0.0), (2664, 0.0), (2673, 0.0), (2675, 0.0), (2677, 0.0), (2678, 0.0), (2679, 0.0), (2683, 0.0), (2684, 0.0), (2685, 0.0), (2690, 0.0), (2692, 0.0), (2693, 0.0), (2694, 0.0), (2696, 0.0), (2699, 0.0), (2700, 0.0), (2701, 0.0), (2702, 0.0), (2703, 0.0), (2704, 0.0), (2705, 0.0), (2709, 0.0), (2716, 0.0), (2717, 0.0), (2719, 0.0), (2721, 0.0), (2722, 0.0), (2723, 0.0), (2726, 0.0), (2727, 0.0), (2731, 0.0), (2732, 0.0), (2734, 0.0), (2735, 0.0), (2737, 0.0), (2738, 0.0), (2739, 0.0), (2743, 0.0), (2744, 0.0), (2745, 0.0), (2746, 0.0), (2747, 0.0), (2748, 0.0), (2752, 0.0), (2753, 0.0), (2757, 0.0), (2758, 0.0), (2760, 0.0), (2762, 0.0), (2764, 0.0), (2765, 0.0), (2771, 0.0), (2773, 0.0), (2775, 0.0), (2779, 0.0), (2783, 0.0), (2784, 0.0), (2786, 0.0), (2792, 0.0), (2793, 0.0), (2796, 0.0), (2797, 0.0), (2800, 0.0), (2802, 0.0), (2805, 0.0), (2808, 0.0), (2812, 0.0), (2814, 0.0), (2818, 0.0), (2823, 0.0), (2831, 0.0), (2834, 0.0), (2835, 0.0), (2838, 0.0), (2839, 0.0), (2841, 0.0), (2846, 0.0), (2848, 0.0), (2851, 0.0), (2853, 0.0), (2855, 0.0), (2858, 0.0), (2861, 0.0), (2863, 0.0), (2865, 0.0), (2869, 0.0), (2870, 0.0), (2871, 0.0), (2872, 0.0), (2873, 0.0), (2875, 0.0), (2877, 0.0), (2878, 0.0), (2879, 0.0), (2882, 0.0), (2883, 0.0), (2884, 0.0), (2886, 0.0), (2889, 0.0), (2892, 0.0), (2893, 0.0), (2894, 0.0), (2896, 0.0), (2897, 0.0), (2901, 0.0), (2902, 0.0), (2905, 0.0), (2906, 0.0), (2907, 0.0), (2909, 0.0), (2911, 0.0), (2914, 0.0), (2915, 0.0), (2916, 0.0), (2919, 0.0), (2923, 0.0), (2924, 0.0), (2925, 0.0), (2926, 0.0), (2928, 0.0), (2929, 0.0), (2930, 0.0), (2931, 0.0), (2932, 0.0), (2933, 0.0), (2934, 0.0), (2936, 0.0), (2938, 0.0), (2939, 0.0), (2941, 0.0), (2946, 0.0), (2949, 0.0), (2951, 0.0), (2953, 0.0), (2964, 0.0), (2965, 0.0), (2966, 0.0), (2967, 0.0), (2968, 0.0), (2972, 0.0), (2973, 0.0), (2974, 0.0), (2975, 0.0), (2976, 0.0), (2977, 0.0), (2978, 0.0), (2980, 0.0), (2983, 0.0), (2984, 0.0), (2985, 0.0), (2986, 0.0), (2987, 0.0), (2988, 0.0), (2991, 0.0), (2993, 0.0), (2994, 0.0), (2997, 0.0), (2999, 0.0), (3004, 0.0), (3006, 0.0), (3007, 0.0), (3008, 0.0), (3009, 0.0), (3012, 0.0), (3013, 0.0), (3015, 0.0), (3016, 0.0), (3017, 0.0), (3018, 0.0), (3019, 0.0), (3023, 0.0), (3025, 0.0), (3026, 0.0), (3027, 0.0), (3028, 0.0), (3029, 0.0), (3030, 0.0), (3031, 0.0), (3032, 0.0), (3033, 0.0), (3035, 0.0), (3036, 0.0), (3037, 0.0), (3038, 0.0), (3039, 0.0), (3041, 0.0), (3042, 0.0), (3043, 0.0), (3049, 0.0), (3050, 0.0), (3052, 0.0), (3053, 0.0), (3054, 0.0), (3055, 0.0), (3056, 0.0), (3057, 0.0), (3061, 0.0), (3066, 0.0), (3069, 0.0), (3071, 0.0), (3072, 0.0), (3075, 0.0), (3076, 0.0), (3077, 0.0), (3078, 0.0), (3081, 0.0), (3084, 0.0), (3086, 0.0), (3088, 0.0), (3090, 0.0), (3092, 0.0), (3093, 0.0), (3095, 0.0), (3101, 0.0), (3102, 0.0), (3103, 0.0), (3106, 0.0), (3107, 0.0), (3108, 0.0), (3109, 0.0), (3110, 0.0), (3116, 0.0), (3118, 0.0), (3119, 0.0), (3125, 0.0), (3128, 0.0), (3137, 0.0), (3138, 0.0), (3139, 0.0), (3140, 0.0), (3142, 0.0), (3144, 0.0), (3146, 0.0), (3147, 0.0), (3148, 0.0), (3151, 0.0), (3153, 0.0), (3154, 0.0), (3155, 0.0), (3157, 0.0), (3159, 0.0), (3164, 0.0), (3167, 0.0), (3170, 0.0), (3171, 0.0), (3173, 0.0), (3176, 0.0), (3177, 0.0), (3178, 0.0), (3179, 0.0), (3184, 0.0), (3186, 0.0), (3187, 0.0), (3188, 0.0), (3189, 0.0), (3190, 0.0), (3196, 0.0), (3197, 0.0), (3198, 0.0), (3199, 0.0), (3200, 0.0), (3203, 0.0), (3207, 0.0), (3209, 0.0), (3211, 0.0), (3214, 0.0), (3216, 0.0), (3217, 0.0), (3218, 0.0), (3220, 0.0), (3222, 0.0), (3226, 0.0), (3228, 0.0), (3230, 0.0), (3234, 0.0), (3236, 0.0), (3237, 0.0), (3239, 0.0), (3240, 0.0), (3242, 0.0), (3243, 0.0), (3245, 0.0), (3246, 0.0), (3248, 0.0), (3249, 0.0), (3250, 0.0), (3251, 0.0), (3254, 0.0), (3255, 0.0), (3257, 0.0), (3258, 0.0), (3260, 0.0), (3261, 0.0), (3262, 0.0), (3264, 0.0), (3265, 0.0), (3266, 0.0), (3268, 0.0), (3269, 0.0), (3271, 0.0), (3273, 0.0), (3274, 0.0), (3277, 0.0), (3278, 0.0), (3280, 0.0), (3281, 0.0), (3282, 0.0), (3283, 0.0), (3288, 0.0), (3289, 0.0), (3290, 0.0), (3291, 0.0), (3292, 0.0), (3293, 0.0), (3296, 0.0), (3301, 0.0), (3304, 0.0), (3307, 0.0), (3308, 0.0), (3309, 0.0), (3314, 0.0), (3315, 0.0), (3317, 0.0), (3318, 0.0), (3322, 0.0), (3324, 0.0), (3325, 0.0), (3326, 0.0), (3330, 0.0), (3333, 0.0), (3334, 0.0), (3335, 0.0), (3341, 0.0), (3345, 0.0), (3347, 0.0), (3348, 0.0), (3349, 0.0), (3350, 0.0), (3351, 0.0), (3352, 0.0), (3354, 0.0), (3355, 0.0), (3362, 0.0), (3364, 0.0), (3369, 0.0), (3372, 0.0), (3376, 0.0), (3378, 0.0), (3379, 0.0), (3386, 0.0), (3388, 0.0), (3390, 0.0), (3391, 0.0), (3392, 0.0), (3396, 0.0), (3398, 0.0), (3401, 0.0), (3402, 0.0), (3403, 0.0), (3406, 0.0), (3407, 0.0), (3409, 0.0), (3410, 0.0), (3413, 0.0), (3415, 0.0), (3417, 0.0), (3418, 0.0), (3422, 0.0), (3425, 0.0), (3430, 0.0), (3431, 0.0), (3433, 0.0), (3434, 0.0), (3435, 0.0), (3436, 0.0), (3437, 0.0), (3442, 0.0), (3446, 0.0), (3449, 0.0), (3455, 0.0), (3457, 0.0), (3458, 0.0), (3460, 0.0), (3462, 0.0), (3470, 0.0), (3471, 0.0), (3473, 0.0), (3474, 0.0), (3475, 0.0), (3476, 0.0), (3478, 0.0), (3479, 0.0), (3481, 0.0), (3485, 0.0), (3488, 0.0), (3489, 0.0), (3490, 0.0), (3491, 0.0), (3493, 0.0), (3494, 0.0), (3495, 0.0), (3496, 0.0), (3497, 0.0), (3499, 0.0), (3500, 0.0), (3501, 0.0), (3505, 0.0), (3506, 0.0), (3511, 0.0), (3512, 0.0), (3518, 0.0), (3519, 0.0), (3521, 0.0), (3527, 0.0), (3534, 0.0), (3535, 0.0), (3536, 0.0), (3541, 0.0), (3543, 0.0), (3544, 0.0), (3545, 0.0), (3547, 0.0), (3548, 0.0), (3549, 0.0), (3551, 0.0), (3552, 0.0), (3553, 0.0), (3557, 0.0), (3561, 0.0), (3562, 0.0), (3563, 0.0), (3564, 0.0), (3565, 0.0), (3569, 0.0), (3570, 0.0), (3571, 0.0), (3572, 0.0), (3573, 0.0), (3575, 0.0), (3577, 0.0), (3580, 0.0), (3584, 0.0), (3590, 0.0), (3592, 0.0), (3596, 0.0), (3599, 0.0), (3601, 0.0), (3606, 0.0), (3608, 0.0), (3610, 0.0), (3611, 0.0), (3612, 0.0), (3613, 0.0), (3614, 0.0), (3615, 0.0), (3617, 0.0), (3618, 0.0), (3620, 0.0), (3621, 0.0), (3622, 0.0), (3624, 0.0), (3626, 0.0), (3627, 0.0), (3631, 0.0), (3632, 0.0), (3633, 0.0), (3636, 0.0), (3639, 0.0), (3640, 0.0), (3643, 0.0), (3644, 0.0), (3646, 0.0), (3647, 0.0), (3649, 0.0), (3650, 0.0), (3652, 0.0), (3653, 0.0), (3654, 0.0), (3655, 0.0), (3661, 0.0), (3663, 0.0), (3664, 0.0), (3666, 0.0), (3667, 0.0), (3669, 0.0), (3670, 0.0), (3675, 0.0), (3677, 0.0), (3679, 0.0), (3681, 0.0), (3682, 0.0), (3686, 0.0), (3687, 0.0), (3689, 0.0), (3691, 0.0), (3694, 0.0), (3696, 0.0), (3699, 0.0), (3701, 0.0), (3704, 0.0), (3711, 0.0), (3712, 0.0), (3717, 0.0), (3719, 0.0), (3721, 0.0), (3722, 0.0), (3725, 0.0), (3727, 0.0), (3729, 0.0), (3730, 0.0), (3733, 0.0), (3736, 0.0), (3737, 0.0), (3739, 0.0), (3740, 0.0), (3745, 0.0), (3748, 0.0), (3750, 0.0), (3751, 0.0), (3753, 0.0), (3755, 0.0), (3756, 0.0), (3757, 0.0), (3758, 0.0), (3759, 0.0), (3760, 0.0), (3761, 0.0), (3762, 0.0), (3764, 0.0), (3765, 0.0), (3766, 0.0), (3767, 0.0), (3768, 0.0), (3770, 0.0), (3772, 0.0), (3774, 0.0), (3777, 0.0), (3779, 0.0), (3780, 0.0), (3781, 0.0), (3784, 0.0), (3789, 0.0), (3791, 0.0), (3792, 0.0), (3793, 0.0), (3796, 0.0), (3799, 0.0), (3800, 0.0), (3801, 0.0), (3804, 0.0), (3806, 0.0), (3808, 0.0), (3809, 0.0), (3810, 0.0), (3811, 0.0), (3812, 0.0), (3813, 0.0), (3815, 0.0), (3816, 0.0), (3818, 0.0), (3820, 0.0), (3821, 0.0), (3824, 0.0), (3825, 0.0), (3827, 0.0), (3828, 0.0), (3830, 0.0), (3831, 0.0), (3832, 0.0), (3833, 0.0), (3835, 0.0), (3836, 0.0), (3837, 0.0), (3838, 0.0), (3839, 0.0), (3841, 0.0), (3842, 0.0), (3844, 0.0), (3848, 0.0), (3853, 0.0), (3855, 0.0), (3857, 0.0), (3858, 0.0), (3859, 0.0), (3861, 0.0), (3863, 0.0), (3864, 0.0), (3866, 0.0), (3868, 0.0), (3872, 0.0), (3874, 0.0), (3875, 0.0), (3876, 0.0), (3878, 0.0), (3880, 0.0), (3881, 0.0), (3883, 0.0), (3884, 0.0), (3887, 0.0), (3892, 0.0), (3893, 0.0), (3895, 0.0), (3896, 0.0), (3898, 0.0), (3899, 0.0), (3901, 0.0), (3902, 0.0), (3904, 0.0), (3905, 0.0), (3906, 0.0), (3909, 0.0), (3910, 0.0), (3911, 0.0), (3912, 0.0), (3913, 0.0), (3914, 0.0), (3915, 0.0), (3916, 0.0), (3918, 0.0), (3920, 0.0), (3921, 0.0), (3922, 0.0), (3925, 0.0), (3926, 0.0), (3927, 0.0), (3928, 0.0), (3929, 0.0), (3930, 0.0), (3932, 0.0), (3933, 0.0), (3934, 0.0), (3935, 0.0), (3936, 0.0), (3938, 0.0), (3939, 0.0), (3941, 0.0), (3942, 0.0), (3944, 0.0), (3945, 0.0), (3948, 0.0), (3950, 0.0), (3952, 0.0), (3956, 0.0), (3959, 0.0), (3962, 0.0), (3964, 0.0), (3967, 0.0), (3969, 0.0), (3971, 0.0), (3974, 0.0), (3975, 0.0), (3976, 0.0), (3981, 0.0), (3984, 0.0), (3985, 0.0), (3986, 0.0), (3987, 0.0), (3988, 0.0), (3989, 0.0), (3990, 0.0), (3992, 0.0), (3995, 0.0), (3999, 0.0), (4000, 0.0), (4002, 0.0), (4003, 0.0), (4004, 0.0), (4008, 0.0), (4010, 0.0), (4011, 0.0), (4013, 0.0), (4017, 0.0), (4019, 0.0), (4021, 0.0), (4022, 0.0), (4023, 0.0), (4024, 0.0), (4025, 0.0), (4026, 0.0), (4027, 0.0), (4028, 0.0), (4029, 0.0), (4030, 0.0), (4035, 0.0), (4040, 0.0), (4042, 0.0), (4047, 0.0), (4048, 0.0), (4049, 0.0), (4050, 0.0), (4051, 0.0), (4052, 0.0), (4053, 0.0), (4057, 0.0), (4058, 0.0), (4060, 0.0), (4061, 0.0), (4062, 0.0), (4064, 0.0), (4065, 0.0), (4066, 0.0), (4067, 0.0), (4069, 0.0), (4071, 0.0), (4072, 0.0), (4073, 0.0), (4075, 0.0), (4078, 0.0), (4080, 0.0), (4081, 0.0), (4082, 0.0), (4084, 0.0), (4085, 0.0), (4090, 0.0), (4092, 0.0), (4096, 0.0), (4097, 0.0), (4101, 0.0), (4104, 0.0), (4105, 0.0), (4106, 0.0), (4107, 0.0), (4108, 0.0), (4110, 0.0), (4111, 0.0), (4113, 0.0), (4115, 0.0), (4120, 0.0), (4123, 0.0), (4124, 0.0), (4125, 0.0), (4126, 0.0), (4127, 0.0), (4129, 0.0), (4132, 0.0), (4133, 0.0), (4135, 0.0), (4136, 0.0), (4137, 0.0), (4138, 0.0), (4140, 0.0), (4141, 0.0), (4145, 0.0), (4146, 0.0), (4149, 0.0), (4150, 0.0), (4151, 0.0), (4156, 0.0), (4157, 0.0), (4159, 0.0), (4161, 0.0), (4162, 0.0), (4163, 0.0), (4164, 0.0), (4167, 0.0), (4170, 0.0), (4172, 0.0), (4173, 0.0), (4175, 0.0), (4176, 0.0), (4177, 0.0), (4178, 0.0), (4179, 0.0), (4180, 0.0), (4182, 0.0), (4183, 0.0), (4184, 0.0), (4187, 0.0), (4189, 0.0), (4190, 0.0), (4191, 0.0), (4192, 0.0), (4197, 0.0), (4198, 0.0), (4201, 0.0), (4203, 0.0), (4204, 0.0), (4205, 0.0), (4206, 0.0), (4208, 0.0), (4209, 0.0), (4213, 0.0), (4214, 0.0), (4215, 0.0), (4216, 0.0), (4217, 0.0), (4219, 0.0), (4220, 0.0), (4222, 0.0), (4223, 0.0), (4225, 0.0), (4226, 0.0), (4227, 0.0), (4228, 0.0), (4229, 0.0), (4230, 0.0), (4231, 0.0), (4232, 0.0), (4234, 0.0), (4235, 0.0), (4237, 0.0), (4239, 0.0), (4243, 0.0), (4245, 0.0), (4246, 0.0), (4247, 0.0), (4251, 0.0), (4252, 0.0), (4253, 0.0), (4254, 0.0), (4256, 0.0), (4258, 0.0), (4259, 0.0), (4260, 0.0), (4262, 0.0), (4265, 0.0), (4267, 0.0), (4271, 0.0), (4273, 0.0), (4278, 0.0), (4279, 0.0), (4280, 0.0), (4281, 0.0), (4282, 0.0), (4284, 0.0), (4286, 0.0), (4287, 0.0), (4290, 0.0), (4291, 0.0), (4295, 0.0), (4296, 0.0), (4297, 0.0), (4298, 0.0), (4301, 0.0), (4304, 0.0), (4306, 0.0), (4308, 0.0), (4309, 0.0), (4311, 0.0), (4313, 0.0), (4314, 0.0), (4315, 0.0), (4316, 0.0), (4317, 0.0), (4318, 0.0), (4319, 0.0), (4320, 0.0), (4321, 0.0), (4322, 0.0), (4324, 0.0), (4326, 0.0), (4327, 0.0), (4329, 0.0), (4330, 0.0), (4331, 0.0), (4332, 0.0), (4333, 0.0), (4335, 0.0), (4336, 0.0), (4337, 0.0), (4340, 0.0), (4342, 0.0), (4348, 0.0), (4349, 0.0), (4352, 0.0), (4355, 0.0), (4356, 0.0), (4357, 0.0), (4358, 0.0), (4359, 0.0), (4360, 0.0), (4361, 0.0), (4362, 0.0), (4363, 0.0), (4366, 0.0), (4367, 0.0), (4368, 0.0), (4369, 0.0), (4370, 0.0), (4372, 0.0), (4375, 0.0), (4377, 0.0), (4381, 0.0), (4382, 0.0), (4386, 0.0), (4387, 0.0), (4394, 0.0), (4396, 0.0), (4397, 0.0), (4398, 0.0), (4399, 0.0), (4400, 0.0), (4402, 0.0), (4403, 0.0), (4407, 0.0), (4408, 0.0), (4409, 0.0), (4411, 0.0), (4412, 0.0), (4413, 0.0), (4414, 0.0), (4415, 0.0), (4416, 0.0), (4417, 0.0), (4421, 0.0), (4422, 0.0), (4423, 0.0), (4424, 0.0), (4425, 0.0), (4427, 0.0), (4431, 0.0), (4433, 0.0), (4437, 0.0), (4438, 0.0), (4442, 0.0), (4448, 0.0), (4449, 0.0), (4452, 0.0), (4458, 0.0), (4459, 0.0), (4460, 0.0), (4461, 0.0), (4463, 0.0), (4464, 0.0), (4465, 0.0), (4469, 0.0), (4470, 0.0), (4471, 0.0), (4473, 0.0), (4474, 0.0), (4475, 0.0), (4476, 0.0), (4479, 0.0), (4480, 0.0), (4483, 0.0), (4484, 0.0), (4485, 0.0), (4488, 0.0), (4495, 0.0), (4496, 0.0), (4497, 0.0), (4498, 0.0), (4499, 0.0), (4500, 0.0), (4502, 0.0), (4504, 0.0), (4505, 0.0), (4507, 0.0), (4508, 0.0), (4510, 0.0), (4511, 0.0), (4512, 0.0), (4513, 0.0), (4514, 0.0), (4517, 0.0), (4518, 0.0), (4520, 0.0), (4521, 0.0), (4522, 0.0), (4524, 0.0), (4525, 0.0), (4527, 0.0), (4528, 0.0), (4532, 0.0), (4536, 0.0), (4537, 0.0), (4538, 0.0), (4539, 0.0), (4540, 0.0), (4541, 0.0), (4542, 0.0), (4544, 0.0), (4554, 0.0), (4555, 0.0), (4556, 0.0), (4558, 0.0), (4559, 0.0), (4560, 0.0), (4561, 0.0), (4562, 0.0), (4563, 0.0), (4565, 0.0), (4571, 0.0), (4572, 0.0), (4574, 0.0), (4575, 0.0), (4577, 0.0), (4578, 0.0), (4579, 0.0), (4580, 0.0), (4582, 0.0), (4583, 0.0), (4584, 0.0), (4585, 0.0), (4592, 0.0), (4594, 0.0), (4595, 0.0), (4596, 0.0), (4598, 0.0), (4599, 0.0), (4602, 0.0), (4603, 0.0), (4604, 0.0), (4610, 0.0), (4611, 0.0), (4612, 0.0), (4615, 0.0), (4616, 0.0), (4617, 0.0), (4618, 0.0), (4620, 0.0), (4621, 0.0), (4625, 0.0), (4627, 0.0), (4628, 0.0), (4632, 0.0), (4633, 0.0), (4634, 0.0), (4635, 0.0), (4636, 0.0), (4637, 0.0), (4639, 0.0), (4640, 0.0), (4644, 0.0), (4645, 0.0), (4651, 0.0), (4652, 0.0), (4654, 0.0), (4655, 0.0), (4657, 0.0), (4662, 0.0), (4664, 0.0), (4665, 0.0), (4668, 0.0), (4669, 0.0), (4671, 0.0), (4675, 0.0), (4678, 0.0), (4679, 0.0), (4680, 0.0), (4681, 0.0), (4685, 0.0), (4686, 0.0), (4687, 0.0), (4689, 0.0), (4691, 0.0), (4692, 0.0), (4693, 0.0), (4694, 0.0), (4695, 0.0), (4696, 0.0), (4699, 0.0), (4700, 0.0), (4701, 0.0), (4702, 0.0), (4704, 0.0), (4706, 0.0), (4707, 0.0), (4711, 0.0), (4712, 0.0), (4713, 0.0), (4715, 0.0), (4717, 0.0), (4718, 0.0), (4719, 0.0), (4721, 0.0), (4722, 0.0), (4724, 0.0), (4728, 0.0), (4729, 0.0), (4731, 0.0), (4732, 0.0), (4734, 0.0), (4735, 0.0), (4738, 0.0), (4746, 0.0), (4748, 0.0), (4749, 0.0), (4750, 0.0), (4751, 0.0), (4753, 0.0), (4755, 0.0), (4757, 0.0), (4758, 0.0), (4759, 0.0)]\n"
          ]
        }
      ]
    },
    {
      "cell_type": "code",
      "source": [
        "print ('Top 30 Movies Suggested for you: \\n')\n",
        "i = 1\n",
        "for movie in Sorted_Similar_Movies:\n",
        "  index = movie[0]\n",
        "  title_from_index = df[df.index == index]['Movie_Title'].values[0]\n",
        "  if (i<31):\n",
        "    print(i, '.', title_from_index)\n",
        "    i+=1"
      ],
      "metadata": {
        "colab": {
          "base_uri": "https://localhost:8080/"
        },
        "id": "CLJlbOlUTow-",
        "outputId": "2af722d2-33b4-4702-c453-5c1e32e53197"
      },
      "execution_count": null,
      "outputs": [
        {
          "output_type": "stream",
          "name": "stdout",
          "text": [
            "Top 30 Movies Suggested for you: \n",
            "\n",
            "1 . Star Wars\n",
            "2 . The Empire Strikes Back\n",
            "3 . Return of the Jedi\n",
            "4 . On Her Majesty's Secret Service\n",
            "5 . Titan A.E.\n",
            "6 . Star Wars: Episode I - The Phantom Menace\n",
            "7 . The Helix... Loaded\n",
            "8 . Star Wars: Episode III - Revenge of the Sith\n",
            "9 . Timecop\n",
            "10 . Lawrence of Arabia\n",
            "11 . Random Hearts\n",
            "12 . Blade Runner\n",
            "13 . Ultramarines: A Warhammer 40,000 Movie\n",
            "14 . Star Wars: Episode II - Attack of the Clones\n",
            "15 . Lilo & Stitch\n",
            "16 . The Time Machine\n",
            "17 . Fetching Cody\n",
            "18 . When Harry Met Sally...\n",
            "19 . Laws of Attraction\n",
            "20 . Back to the Future Part III\n",
            "21 . Raise the Titanic\n",
            "22 . Bill & Ted's Bogus Journey\n",
            "23 . Hollywood Homicide\n",
            "24 . The Departed\n",
            "25 . Ender's Game\n",
            "26 . Raiders of the Lost Ark\n",
            "27 . Premonition\n",
            "28 . An Inconvenient Truth\n",
            "29 . The Fugitive\n",
            "30 . Aliens\n"
          ]
        }
      ]
    },
    {
      "cell_type": "markdown",
      "source": [
        "## **Top 10 Movie Recommendation System**"
      ],
      "metadata": {
        "id": "3tCB8XFFUA-0"
      }
    },
    {
      "cell_type": "code",
      "source": [
        "Movie_name = input('Enter your favourite movie name: ')\n",
        "\n",
        "list_of_all_titles = df['Movie_Title'].tolist()\n",
        "Find_Close_Match = difflib.get_close_matches(Movie_name, list_of_all_titles)\n",
        "Close_Match = Find_Close_Match[0]\n",
        "Index_of_Movie = df[df.Movie_Title == Close_Match]['Movie_ID'].values[0]\n",
        "Recommendation_Score = list(enumerate(similarity_score[Index_of_Movie]))\n",
        "sorted_similar_movies = sorted(Recommendation_Score, key = lambda x:x[1], reverse = True)\n",
        "print ('Top 10 Movies Suggested for you: \\n')\n",
        "i = 1\n",
        "for movie in sorted_similar_movies:\n",
        "  index = movie[0]\n",
        "  title_from_index = df[df.Movie_ID == index]['Movie_Title'].values\n",
        "  if (i<11):\n",
        "    print(i, '.', title_from_index)\n",
        "    i+=1"
      ],
      "metadata": {
        "colab": {
          "base_uri": "https://localhost:8080/"
        },
        "id": "hSNGDtazUJKs",
        "outputId": "1c5868da-4e29-4e28-eeb7-f9afe8ea9d1e"
      },
      "execution_count": null,
      "outputs": [
        {
          "output_type": "stream",
          "name": "stdout",
          "text": [
            "Enter your favourite movie name: Four Rooms\n",
            "Top 10 Movies Suggested for you: \n",
            "\n",
            "1 . ['Four Rooms']\n",
            "2 . ['Marie Antoinette']\n",
            "3 . ['The Empire Strikes Back']\n",
            "4 . ['You Only Live Twice']\n",
            "5 . ['Tropic Thunder']\n",
            "6 . ['Return of the Jedi']\n",
            "7 . ['She Done Him Wrong']\n",
            "8 . ['Star Wars: Episode II - Attack of the Clones']\n",
            "9 . ['Evita']\n",
            "10 . ['Lethal Weapon 4']\n"
          ]
        }
      ]
    }
  ]
}